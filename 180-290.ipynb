{
 "cells": [
  {
   "cell_type": "code",
   "execution_count": 11,
   "id": "58acef8e",
   "metadata": {},
   "outputs": [
    {
     "data": {
      "text/plain": [
       "9464"
      ]
     },
     "execution_count": 11,
     "metadata": {},
     "output_type": "execute_result"
    }
   ],
   "source": [
    "def prob_162():\n",
    "    for n in range(9999, 999, -1):\n",
    "        product = n * 14\n",
    "        square_num = product ** 0.5\n",
    "        if square_num - int(square_num) == 0:\n",
    "            return n\n",
    "    return \"chka nman tiv\"\n",
    "prob_162()"
   ]
  },
  {
   "cell_type": "code",
   "execution_count": 10,
   "id": "9720071f",
   "metadata": {},
   "outputs": [
    {
     "data": {
      "text/plain": [
       "9800"
      ]
     },
     "execution_count": 10,
     "metadata": {},
     "output_type": "execute_result"
    }
   ],
   "source": [
    "def prob_163():\n",
    "    for n in range(1000, 9999)[::-1]:\n",
    "        product = n * 18\n",
    "        square_num = product ** 0.5\n",
    "        if square_num - int(square_num) == 0:\n",
    "            return n\n",
    "    return \"no\"\n",
    "prob_163()"
   ]
  },
  {
   "cell_type": "code",
   "execution_count": 12,
   "id": "cb80749a",
   "metadata": {},
   "outputs": [
    {
     "data": {
      "text/plain": [
       "122"
      ]
     },
     "execution_count": 12,
     "metadata": {},
     "output_type": "execute_result"
    }
   ],
   "source": [
    "def prob_164(n):\n",
    "    for i in range(100, 999):\n",
    "        if i ** 0.5 > n:\n",
    "            return i\n",
    "    return None\n",
    "prob_164(11)"
   ]
  },
  {
   "cell_type": "code",
   "execution_count": 13,
   "id": "8d5bc257",
   "metadata": {},
   "outputs": [
    {
     "data": {
      "text/plain": [
       "False"
      ]
     },
     "execution_count": 13,
     "metadata": {},
     "output_type": "execute_result"
    }
   ],
   "source": [
    "def prob_165(n):\n",
    "    return n % 3 == 0\n",
    "prob_165(5)"
   ]
  },
  {
   "cell_type": "code",
   "execution_count": 15,
   "id": "56358760",
   "metadata": {},
   "outputs": [
    {
     "data": {
      "text/plain": [
       "True"
      ]
     },
     "execution_count": 15,
     "metadata": {},
     "output_type": "execute_result"
    }
   ],
   "source": [
    "def prob_166(n):\n",
    "    return n % 4 == 0\n",
    "prob_166(156)"
   ]
  },
  {
   "cell_type": "code",
   "execution_count": 16,
   "id": "e532d26b",
   "metadata": {},
   "outputs": [
    {
     "data": {
      "text/plain": [
       "True"
      ]
     },
     "execution_count": 16,
     "metadata": {},
     "output_type": "execute_result"
    }
   ],
   "source": [
    "def prob_168(n):\n",
    "    if n <= 1:\n",
    "        return False\n",
    "    for i in range(2, int(n**0.5) + 1):\n",
    "        if n % i == 0:\n",
    "            return False\n",
    "    return True\n",
    "prob_168(5)"
   ]
  },
  {
   "cell_type": "code",
   "execution_count": 1,
   "id": "07fb0bbe",
   "metadata": {},
   "outputs": [
    {
     "data": {
      "text/plain": [
       "False"
      ]
     },
     "execution_count": 1,
     "metadata": {},
     "output_type": "execute_result"
    }
   ],
   "source": [
    "def prob_169(x, y):\n",
    "    for i in range(2, int((x + y)**0.5) + 1):\n",
    "        if (x + y) % i == 0:\n",
    "            return False\n",
    "    return True\n",
    "prob_169(6, 3)"
   ]
  },
  {
   "cell_type": "code",
   "execution_count": 22,
   "id": "bce4f596",
   "metadata": {},
   "outputs": [
    {
     "name": "stdout",
     "output_type": "stream",
     "text": [
      "32\n"
     ]
    }
   ],
   "source": [
    "def prob_170(n):\n",
    "    while (n != 1):\n",
    "        if (n % 2 != 0):\n",
    "            return False\n",
    "        n = n // 2\n",
    "    return True\n",
    "def smallest_power_of_two(n):\n",
    "    if prob_170(n):\n",
    "        print(n)\n",
    "    else:\n",
    "        power_of_two = 1\n",
    "        while power_of_two < n:\n",
    "            power_of_two *= 2\n",
    "        print(power_of_two)\n",
    "smallest_power_of_two(17)"
   ]
  },
  {
   "cell_type": "code",
   "execution_count": 3,
   "id": "b283cfc5",
   "metadata": {},
   "outputs": [
    {
     "data": {
      "text/plain": [
       "24"
      ]
     },
     "execution_count": 3,
     "metadata": {},
     "output_type": "execute_result"
    }
   ],
   "source": [
    "def prob_171(N):\n",
    "    product = 1\n",
    "    for factorial_num in range(1, N + 1):\n",
    "        product *= factorial_num\n",
    "    return product\n",
    "prob_171(4)"
   ]
  },
  {
   "cell_type": "code",
   "execution_count": 44,
   "id": "bc76961c",
   "metadata": {},
   "outputs": [
    {
     "data": {
      "text/plain": [
       "[(0, 2.0), (2.0, 4.0), (4.0, 6.0), (6.0, 8.0), (8.0, 10.0)]"
      ]
     },
     "execution_count": 44,
     "metadata": {},
     "output_type": "execute_result"
    }
   ],
   "source": [
    "def prob_173(A, B, N):\n",
    "    interval_length = (B - A) / N\n",
    "    intervals = []\n",
    "    first_point = A\n",
    "    for i in range(N):\n",
    "        intervals.append((first_point, first_point + interval_length))\n",
    "        first_point = first_point + interval_length\n",
    "    return intervals\n",
    "A = 0\n",
    "B = 10  \n",
    "N = 5   \n",
    "prob_173(A, B, N)"
   ]
  },
  {
   "cell_type": "code",
   "execution_count": 36,
   "id": "aaa213d3",
   "metadata": {},
   "outputs": [
    {
     "data": {
      "text/plain": [
       "[2, 2.5, 2.4, 2.4166666666666665, 2.413793103448276, 2.414285714285714]"
      ]
     },
     "execution_count": 36,
     "metadata": {},
     "output_type": "execute_result"
    }
   ],
   "source": [
    "def prob_174(N):\n",
    "    num_list = [2]\n",
    "    for k in range(1, N + 1):\n",
    "        num_list.append(2 + 1 / num_list[k - 1])\n",
    "    return num_list\n",
    "prob_174(5)"
   ]
  },
  {
   "cell_type": "code",
   "execution_count": 27,
   "id": "e8e8ab22",
   "metadata": {},
   "outputs": [
    {
     "data": {
      "text/plain": [
       "[2.0, 1.5, 0.8333333333333334]"
      ]
     },
     "execution_count": 27,
     "metadata": {},
     "output_type": "execute_result"
    }
   ],
   "source": [
    "def prob_175(N):\n",
    "    num_list = []\n",
    "    x = [0] * (N + 1)\n",
    "    x[0] = 1\n",
    "    for k in range(1, N + 1):\n",
    "        x[k] = (x[k - 1] + 1) / k\n",
    "        num_list.append(x[k])\n",
    "    return num_list\n",
    "prob_175(3)"
   ]
  },
  {
   "cell_type": "code",
   "execution_count": 28,
   "id": "c7bf6479",
   "metadata": {},
   "outputs": [
    {
     "data": {
      "text/plain": [
       "[1, 1, 2, 3, 5, 8, 13, 21, 34, 55, 89]"
      ]
     },
     "execution_count": 28,
     "metadata": {},
     "output_type": "execute_result"
    }
   ],
   "source": [
    "def prob_176(N):\n",
    "    fibonacci_list = []\n",
    "    F = [0] * (N+1)\n",
    "    F[0] = 1\n",
    "    F[1] = 1\n",
    "    for k in range(3, N + 1):\n",
    "        F[k] = F[k - 2] + F[k - 1]\n",
    "        fibonacci_list.append(F[k])\n",
    "    return fibonacci_list\n",
    "prob_176(13)"
   ]
  },
  {
   "cell_type": "code",
   "execution_count": 30,
   "id": "db51f6e4",
   "metadata": {},
   "outputs": [
    {
     "data": {
      "text/plain": [
       "[0.6666666666666666, 0.4444444444444444, 0.5185185185185185]"
      ]
     },
     "execution_count": 30,
     "metadata": {},
     "output_type": "execute_result"
    }
   ],
   "source": [
    "def prob_177(N):\n",
    "    real_num = []\n",
    "    if N < 2:\n",
    "        return False\n",
    "    x = [0] * (N+1)\n",
    "    x[0] = 1\n",
    "    x[1] = 2\n",
    "    for k in range(3, N+1):\n",
    "        x[k] = (x[k - 2] + 2 * x[k - 1]) / 3\n",
    "        real_num.append(x[k])\n",
    "    return real_num\n",
    "prob_177(5)"
   ]
  },
  {
   "cell_type": "code",
   "execution_count": 31,
   "id": "19724388",
   "metadata": {},
   "outputs": [
    {
     "data": {
      "text/plain": [
       "[-1, -7, -8, -13, -7, -4, 15, 25, 48, 43, 41, -12, -57]"
      ]
     },
     "execution_count": 31,
     "metadata": {},
     "output_type": "execute_result"
    }
   ],
   "source": [
    "def prob_178(N):\n",
    "    real_num = []\n",
    "    if N < 3:\n",
    "        return False\n",
    "    x = [0] * (N + 1)\n",
    "    x[0] = 1\n",
    "    x[1] = 2\n",
    "    x[2] = 3\n",
    "    for k in range(4, N + 1):\n",
    "        x[k] = (x[k - 1] + x[k - 2] -2*x[k - 3])\n",
    "        real_num.append(x[k])\n",
    "    return real_num\n",
    "prob_178(16)"
   ]
  },
  {
   "cell_type": "code",
   "execution_count": 45,
   "id": "8368955c",
   "metadata": {},
   "outputs": [
    {
     "name": "stdout",
     "output_type": "stream",
     "text": [
      "6, 5\n"
     ]
    }
   ],
   "source": [
    "def prob_179(N, K):\n",
    "    quantity = 0\n",
    "    remainder = N\n",
    "    while remainder >= K:\n",
    "        quantity += 1\n",
    "        remainder -= K\n",
    "    return quantity, remainder\n",
    "quantity, remainder = prob_179(131, 21)\n",
    "print(f\"{quantity}, {remainder}\")"
   ]
  },
  {
   "cell_type": "code",
   "execution_count": 37,
   "id": "c07cf056",
   "metadata": {},
   "outputs": [
    {
     "data": {
      "text/plain": [
       "False"
      ]
     },
     "execution_count": 37,
     "metadata": {},
     "output_type": "execute_result"
    }
   ],
   "source": [
    "def prob_180(N):\n",
    "    i = 1\n",
    "    while 3 ** i <= N:\n",
    "        if 3 ** i == N:\n",
    "            return True\n",
    "        i += 1\n",
    "    return False\n",
    "prob_180(6)"
   ]
  },
  {
   "cell_type": "code",
   "execution_count": 38,
   "id": "c8aecc91",
   "metadata": {},
   "outputs": [
    {
     "data": {
      "text/plain": [
       "3"
      ]
     },
     "execution_count": 38,
     "metadata": {},
     "output_type": "execute_result"
    }
   ],
   "source": [
    "def prob_181(N):\n",
    "    i = 1\n",
    "    while 2 ** i <= N:\n",
    "        if 2 ** i == N:\n",
    "            return i\n",
    "        i += 1\n",
    "prob_181(8)"
   ]
  },
  {
   "cell_type": "code",
   "execution_count": 39,
   "id": "94f9d688",
   "metadata": {},
   "outputs": [
    {
     "data": {
      "text/plain": [
       "10"
      ]
     },
     "execution_count": 39,
     "metadata": {},
     "output_type": "execute_result"
    }
   ],
   "source": [
    "def prob_182(N):\n",
    "    K = 1\n",
    "    while K ** 2 < N:\n",
    "        K += 1\n",
    "    return K - 1\n",
    "prob_182(121)"
   ]
  },
  {
   "cell_type": "code",
   "execution_count": 40,
   "id": "8c479ff6",
   "metadata": {},
   "outputs": [
    {
     "data": {
      "text/plain": [
       "3"
      ]
     },
     "execution_count": 40,
     "metadata": {},
     "output_type": "execute_result"
    }
   ],
   "source": [
    "def prob_183(N):\n",
    "    K = 1\n",
    "    while 3 ** K <= N:\n",
    "        K += 1\n",
    "    return K\n",
    "prob_183(10)"
   ]
  },
  {
   "cell_type": "code",
   "execution_count": 1,
   "id": "6c34fe38",
   "metadata": {},
   "outputs": [
    {
     "data": {
      "text/plain": [
       "2"
      ]
     },
     "execution_count": 1,
     "metadata": {},
     "output_type": "execute_result"
    }
   ],
   "source": [
    "def prob_184(N):\n",
    "    K = 1\n",
    "    while 3 ** K <= N:\n",
    "        K += 1\n",
    "    return K - 1\n",
    "prob_184(10)"
   ]
  },
  {
   "cell_type": "code",
   "execution_count": 2,
   "id": "bbf79e8c",
   "metadata": {},
   "outputs": [
    {
     "name": "stdout",
     "output_type": "stream",
     "text": [
      "2\n",
      "101250.0\n"
     ]
    }
   ],
   "source": [
    "def prob_185(avand, p, amis):\n",
    "    return avand * (1 + p / 100) ** amis\n",
    "\n",
    "avand = 30000\n",
    "p = 50\n",
    "avand_ger = 100000\n",
    "amisneri_qanak = 0\n",
    "while avand < avand_ger:\n",
    "    amisneri_qanak += 1\n",
    "    avand = prob_185(avand, p, amisneri_qanak)\n",
    "    \n",
    "\n",
    "print(amisneri_qanak)\n",
    "print(avand)"
   ]
  },
  {
   "cell_type": "code",
   "execution_count": 6,
   "id": "3b3c8680",
   "metadata": {},
   "outputs": [
    {
     "name": "stdout",
     "output_type": "stream",
     "text": [
      "3\n",
      "150\n"
     ]
    }
   ],
   "source": [
    "def prob_186(s, p, orer):\n",
    "    return s * (1 + p / 100) ** orer\n",
    "s = 20\n",
    "p = 40\n",
    "s_ger = 80\n",
    "oreri_qanak = 0\n",
    "while s < s_ger:\n",
    "    oreri_qanak += 1\n",
    "    s = prob_185(s, p, oreri_qanak)\n",
    "print(oreri_qanak)\n",
    "print(int(s))"
   ]
  },
  {
   "cell_type": "code",
   "execution_count": 4,
   "id": "87ad4436",
   "metadata": {},
   "outputs": [
    {
     "data": {
      "text/plain": [
       "True"
      ]
     },
     "execution_count": 4,
     "metadata": {},
     "output_type": "execute_result"
    }
   ],
   "source": [
    "def prob_187(N):\n",
    "    for i in range(2, N/2):\n",
    "        if (N % i) == 0:\n",
    "            return False\n",
    "    return True\n",
    "prob_187(3)"
   ]
  },
  {
   "cell_type": "code",
   "execution_count": 45,
   "id": "8323f182",
   "metadata": {},
   "outputs": [
    {
     "data": {
      "text/plain": [
       "[1, 1, 2, 3, 5, 8, 13, 21]"
      ]
     },
     "execution_count": 45,
     "metadata": {},
     "output_type": "execute_result"
    }
   ],
   "source": [
    "def prob_188(N):\n",
    "    fibonacci_list = []\n",
    "    F = [0] * (N+1)\n",
    "    F[0] = 1\n",
    "    F[1] = 1\n",
    "    for k in range(3, N + 1):\n",
    "        F[k] = F[k - 2] + F[k - 1]\n",
    "        fibonacci_list.append(F[k])\n",
    "    return fibonacci_list\n",
    "prob_188(10)"
   ]
  },
  {
   "cell_type": "code",
   "execution_count": 4,
   "id": "1bb2e49b",
   "metadata": {},
   "outputs": [
    {
     "name": "stdout",
     "output_type": "stream",
     "text": [
      "[2, 3, 5, 8, 13, 21, 34, 55, 89, 144, 233, 377]\n"
     ]
    },
    {
     "data": {
      "text/plain": [
       "True"
      ]
     },
     "execution_count": 4,
     "metadata": {},
     "output_type": "execute_result"
    }
   ],
   "source": [
    "def prob_188(N):\n",
    "    fibonacci_list = []\n",
    "    F = [0] * (N+1)\n",
    "    F[0] = 1\n",
    "    F[1] = 1\n",
    "    for k in range(2, N + 1):\n",
    "        F[k] = F[k - 2] + F[k - 1]\n",
    "        fibonacci_list.append(F[k])\n",
    "    return fibonacci_list\n",
    "def is_fibonacci_number(N):\n",
    "    fibonacci_list = prob_188(N)\n",
    "    print(fibonacci_list)\n",
    "    return N in fibonacci_list\n",
    "is_fibonacci_number(13)"
   ]
  },
  {
   "cell_type": "code",
   "execution_count": 11,
   "id": "830de414",
   "metadata": {},
   "outputs": [
    {
     "name": "stdout",
     "output_type": "stream",
     "text": [
      "[2, 3, 5, 8, 13]\n"
     ]
    },
    {
     "data": {
      "text/plain": [
       "8"
      ]
     },
     "execution_count": 11,
     "metadata": {},
     "output_type": "execute_result"
    }
   ],
   "source": [
    "def prob_189(N):\n",
    "    if N<0:\n",
    "        return False\n",
    "    fibonacci_list = []\n",
    "    F = [0] * (N + 1)\n",
    "    F[0] = 1\n",
    "    F[1] = 1\n",
    "    for k in range(2, N + 1):\n",
    "        F[k] = F[k - 2] + F[k - 1]\n",
    "        fibonacci_list.append(F[k])\n",
    "    return fibonacci_list\n",
    "def max_num(N): \n",
    "    fibonacci_list = prob_189(N)\n",
    "    print(fibonacci_list)\n",
    "    for element in fibonacci_list:\n",
    "        if element > N:\n",
    "            return element\n",
    "    return None\n",
    "max_num(6) "
   ]
  },
  {
   "cell_type": "code",
   "execution_count": 57,
   "id": "42032b57",
   "metadata": {},
   "outputs": [
    {
     "data": {
      "text/plain": [
       "3"
      ]
     },
     "execution_count": 57,
     "metadata": {},
     "output_type": "execute_result"
    }
   ],
   "source": [
    "def prob_190(N):\n",
    "    real_num = []\n",
    "    if N < 2:\n",
    "        return False\n",
    "    x = [0] * (N+1)\n",
    "    x[0] = 1\n",
    "    x[1] = 2\n",
    "    for k in range(3, N+1):\n",
    "        x[k] = (x[k - 2] + 2 * x[k - 1]) / 3\n",
    "        real_num.append(x[k])\n",
    "        if abs(x[k] - x[k - 1]) < N:\n",
    "            return k\n",
    "    return True\n",
    "prob_190(56)"
   ]
  },
  {
   "cell_type": "code",
   "execution_count": 17,
   "id": "346c193d",
   "metadata": {},
   "outputs": [
    {
     "data": {
      "text/plain": [
       "4"
      ]
     },
     "execution_count": 17,
     "metadata": {},
     "output_type": "execute_result"
    }
   ],
   "source": [
    "def prob_201(N):\n",
    "    return len(str(N))\n",
    "\n",
    "prob_201(1234)"
   ]
  },
  {
   "cell_type": "code",
   "execution_count": 18,
   "id": "d5506879",
   "metadata": {},
   "outputs": [
    {
     "data": {
      "text/plain": [
       "15"
      ]
     },
     "execution_count": 18,
     "metadata": {},
     "output_type": "execute_result"
    }
   ],
   "source": [
    "def prob_202(N):\n",
    "    number = str(N)\n",
    "    return sum([int(n) for n in number])\n",
    "prob_202(12345)"
   ]
  },
  {
   "cell_type": "code",
   "execution_count": 60,
   "id": "e714bb08",
   "metadata": {},
   "outputs": [
    {
     "data": {
      "text/plain": [
       "2"
      ]
     },
     "execution_count": 60,
     "metadata": {},
     "output_type": "execute_result"
    }
   ],
   "source": [
    "def prob_203(N):\n",
    "    number = str(N)\n",
    "    digit_product = 1\n",
    "    for digit in number:\n",
    "        digit_product *= int(digit)\n",
    "    return digit_product\n",
    "prob_203(112)"
   ]
  },
  {
   "cell_type": "code",
   "execution_count": 19,
   "id": "1a196ecd",
   "metadata": {},
   "outputs": [
    {
     "data": {
      "text/plain": [
       "[7, 5, 4, 3, 6, 9]"
      ]
     },
     "execution_count": 19,
     "metadata": {},
     "output_type": "execute_result"
    }
   ],
   "source": [
    "def prob_204(N):\n",
    "    digits = [int(digit) for digit in str(N)[::-1]]\n",
    "    return digits\n",
    "prob_204(963457)"
   ]
  },
  {
   "cell_type": "code",
   "execution_count": 62,
   "id": "6c6cf620",
   "metadata": {},
   "outputs": [
    {
     "data": {
      "text/plain": [
       "[9, 7, 6, 5, 4, 3]"
      ]
     },
     "execution_count": 62,
     "metadata": {},
     "output_type": "execute_result"
    }
   ],
   "source": [
    "def prob_205(N):\n",
    "    digits = [int(digit) for digit in str(N)]\n",
    "    return sorted(digits, reverse = True)\n",
    "prob_205(963457)"
   ]
  },
  {
   "cell_type": "code",
   "execution_count": 20,
   "id": "186d4269",
   "metadata": {},
   "outputs": [
    {
     "data": {
      "text/plain": [
       "321"
      ]
     },
     "execution_count": 20,
     "metadata": {},
     "output_type": "execute_result"
    }
   ],
   "source": [
    "def prob_206(N):\n",
    "    return int(str(N)[::-1])\n",
    "    \n",
    "#     digits = [int(digit) for digit in str(N)]\n",
    "#     sorted_digits = sorted(digits)\n",
    "#     sorted_number = int(''.join(map(str, sorted_digits)))\n",
    "  #\n",
    "prob_206(123)"
   ]
  },
  {
   "cell_type": "code",
   "execution_count": 64,
   "id": "9548e3eb",
   "metadata": {},
   "outputs": [
    {
     "data": {
      "text/plain": [
       "True"
      ]
     },
     "execution_count": 64,
     "metadata": {},
     "output_type": "execute_result"
    }
   ],
   "source": [
    "def prob_207(N):\n",
    "    return \"2\" in str(N)\n",
    "prob_207(9632457)"
   ]
  },
  {
   "cell_type": "code",
   "execution_count": 23,
   "id": "70166dd9",
   "metadata": {},
   "outputs": [
    {
     "data": {
      "text/plain": [
       "True"
      ]
     },
     "execution_count": 23,
     "metadata": {},
     "output_type": "execute_result"
    }
   ],
   "source": [
    "def prob_208(N):\n",
    "#     number = str(N)\n",
    "#     first_digit = number[0]\n",
    "#     return all(digit == first_digit for digit in number)\n",
    "\n",
    "    return len(set([x for x in str(N)])) == 1\n",
    "prob_208(1111)"
   ]
  },
  {
   "cell_type": "code",
   "execution_count": 25,
   "id": "0417bb9d",
   "metadata": {},
   "outputs": [
    {
     "data": {
      "text/plain": [
       "False"
      ]
     },
     "execution_count": 25,
     "metadata": {},
     "output_type": "execute_result"
    }
   ],
   "source": [
    "def prob_209(N):\n",
    "    num_str = str(N)\n",
    "    return any(int(digit) % 2 == 1 for digit in num_str)\n",
    "prob_209(222)"
   ]
  },
  {
   "cell_type": "code",
   "execution_count": 67,
   "id": "2ca29de5",
   "metadata": {},
   "outputs": [
    {
     "data": {
      "text/plain": [
       "True"
      ]
     },
     "execution_count": 67,
     "metadata": {},
     "output_type": "execute_result"
    }
   ],
   "source": [
    "def prob_210(N):\n",
    "    number = str(N)\n",
    "    odd_sum = 0\n",
    "    even_sum = 0\n",
    "    for i, digit in enumerate(number):\n",
    "        if i % 2 == 0:\n",
    "            even_sum += int(digit)\n",
    "        else:\n",
    "            odd_sum += int(digit)\n",
    "    return odd_sum == even_sum\n",
    "prob_210(1232)"
   ]
  },
  {
   "cell_type": "code",
   "execution_count": 3,
   "id": "94880ab1",
   "metadata": {},
   "outputs": [
    {
     "data": {
      "text/plain": [
       "6.5"
      ]
     },
     "execution_count": 3,
     "metadata": {},
     "output_type": "execute_result"
    }
   ],
   "source": [
    "def prob_211(numbers):\n",
    "    positive_numbers = [n for n in numbers if n > 0]\n",
    "    if not positive_numbers:\n",
    "        return 0  \n",
    "    average = sum(positive_numbers) / len(positive_numbers)\n",
    "    return average\n",
    "list_1 = [5, -2, -10, -3, 8, 0, -7]\n",
    "prob_211(list_1)"
   ]
  },
  {
   "cell_type": "code",
   "execution_count": 8,
   "id": "aa0a5105",
   "metadata": {},
   "outputs": [
    {
     "data": {
      "text/plain": [
       "7.666666666666667"
      ]
     },
     "execution_count": 8,
     "metadata": {},
     "output_type": "execute_result"
    }
   ],
   "source": [
    "def prob_212():\n",
    "    positive_numbers = [n ** 2 for n in numbers if n > 0]\n",
    "    if not positive_numbers:\n",
    "        return 0  \n",
    "    mean = (sum(positive_numbers) / len(positive_numbers)) ** 0.5\n",
    "    return mean\n",
    "list_1 = [5, -2, 10, -3, 8, 0, -7]\n",
    "prob_211(list_1)"
   ]
  },
  {
   "cell_type": "code",
   "execution_count": 10,
   "id": "337f1e35",
   "metadata": {},
   "outputs": [
    {
     "data": {
      "text/plain": [
       "5.0"
      ]
     },
     "execution_count": 10,
     "metadata": {},
     "output_type": "execute_result"
    }
   ],
   "source": [
    "def prob_213():\n",
    "    positive_numbers = [n ** 2 for n in numbers if n < 0]\n",
    "    if not positive_numbers:\n",
    "        return 0  \n",
    "    mean = (sum(positive_numbers) / len(positive_numbers)) ** 0.5\n",
    "    return mean\n",
    "list_1 = [5, 2, -10, -3, 8, 0, -7]\n",
    "prob_211(list_1)"
   ]
  },
  {
   "cell_type": "code",
   "execution_count": 10,
   "id": "20e4e3a3",
   "metadata": {},
   "outputs": [
    {
     "data": {
      "text/plain": [
       "6.5"
      ]
     },
     "execution_count": 10,
     "metadata": {},
     "output_type": "execute_result"
    }
   ],
   "source": [
    "def prob_214():\n",
    "    positive_numbers = [n for n in numbers if n < 0]\n",
    "    if not positive_numbers:\n",
    "        return 0  \n",
    "    average = sum(positive_numbers) / len(positive_numbers)\n",
    "    return average\n",
    "list_1 = [5, -2, -10, -3, 8, 0, -7]\n",
    "prob_211(list_1)"
   ]
  },
  {
   "cell_type": "code",
   "execution_count": 9,
   "id": "0b960353",
   "metadata": {},
   "outputs": [
    {
     "name": "stdout",
     "output_type": "stream",
     "text": [
      "25 [1, 3, 5, 7, 9]\n"
     ]
    }
   ],
   "source": [
    "def prob_215(even_index):\n",
    "    even_index = even_index[::2]\n",
    "    even_sum = sum(even_index)\n",
    "    print(even_sum, even_index)\n",
    "list_1 = [1, 2, 3, 4, 5, 6, 7, 8, 9]\n",
    "prob_215(list_1)"
   ]
  },
  {
   "cell_type": "code",
   "execution_count": 16,
   "id": "8d552775",
   "metadata": {},
   "outputs": [
    {
     "data": {
      "text/plain": [
       "15"
      ]
     },
     "execution_count": 16,
     "metadata": {},
     "output_type": "execute_result"
    }
   ],
   "source": [
    "def prob_216(even_index):\n",
    "    even_mul = 1\n",
    "    for i in range(0, len(even_index), 2):\n",
    "        even_mul *= even_index[i]\n",
    "    return even_mul\n",
    "list_1 = [1, 2, 5, 4, 3]\n",
    "prob_216(list_1)"
   ]
  },
  {
   "cell_type": "code",
   "execution_count": 15,
   "id": "2a795cd8",
   "metadata": {},
   "outputs": [
    {
     "data": {
      "text/plain": [
       "64"
      ]
     },
     "execution_count": 15,
     "metadata": {},
     "output_type": "execute_result"
    }
   ],
   "source": [
    "def prob_217(my_list):\n",
    "    odd_index = [my_list[i] for i in range(1, len(my_list), 2)]\n",
    "    odd_mul = 1\n",
    "    for number in odd_index:\n",
    "        odd_mul *= number ** 2  \n",
    "    return odd_mul\n",
    "list_1 = [1, 2, 5, 4, 3]\n",
    "prob_217(list_1)"
   ]
  },
  {
   "cell_type": "code",
   "execution_count": 19,
   "id": "3d83f047",
   "metadata": {},
   "outputs": [
    {
     "data": {
      "text/plain": [
       "6"
      ]
     },
     "execution_count": 19,
     "metadata": {},
     "output_type": "execute_result"
    }
   ],
   "source": [
    "def prob_218(my_list):\n",
    "    odd_index = [my_list[i] for i in range(1, len(my_list), 2)]\n",
    "    odd_abs_sum = 0\n",
    "    for number in odd_index:\n",
    "        odd_abs_sum += abs(number)\n",
    "    return odd_abs_sum\n",
    "list_1 = [1, -2, 5, 4, 3]\n",
    "prob_218(list_1)"
   ]
  },
  {
   "cell_type": "code",
   "execution_count": 28,
   "id": "7ee7174c",
   "metadata": {},
   "outputs": [
    {
     "data": {
      "text/plain": [
       "3"
      ]
     },
     "execution_count": 28,
     "metadata": {},
     "output_type": "execute_result"
    }
   ],
   "source": [
    "def prob_219(my_list, k):\n",
    "    num_index = [my_list[i] for i in range(1, len(my_list)) if i % k == 0]\n",
    "    num_count = 0\n",
    "    for number in num_index:\n",
    "        num_count += 1\n",
    "    return num_count\n",
    "list_1 = [1, -2, 5, 4, 6, 7, 9]\n",
    "prob_219(list_1, 2)"
   ]
  },
  {
   "cell_type": "code",
   "execution_count": 39,
   "id": "dfc9ef00",
   "metadata": {},
   "outputs": [
    {
     "data": {
      "text/plain": [
       "6"
      ]
     },
     "execution_count": 39,
     "metadata": {},
     "output_type": "execute_result"
    }
   ],
   "source": [
    "def prob_220(my_list):\n",
    "    num_count = 0\n",
    "    for number in my_list:\n",
    "        if number != 0:\n",
    "            num_count += 1\n",
    "    return num_count\n",
    "list_1 = [1, -2, 0, 5, -4, 0, 6, 7]\n",
    "prob_220(list_1)"
   ]
  },
  {
   "cell_type": "code",
   "execution_count": 49,
   "id": "7c00228b",
   "metadata": {},
   "outputs": [
    {
     "data": {
      "text/plain": [
       "24"
      ]
     },
     "execution_count": 49,
     "metadata": {},
     "output_type": "execute_result"
    }
   ],
   "source": [
    "def prob_221(my_list, a, b):\n",
    "    interval_numbers = [num for num in my_list if a <= num <= b]\n",
    "    return sum(interval_numbers)\n",
    "my_list = [1, 3, 5, 7, 9, 11]\n",
    "prob_221(my_list, 3, 10)"
   ]
  },
  {
   "cell_type": "code",
   "execution_count": 52,
   "id": "c3ecff15",
   "metadata": {},
   "outputs": [
    {
     "data": {
      "text/plain": [
       "945"
      ]
     },
     "execution_count": 52,
     "metadata": {},
     "output_type": "execute_result"
    }
   ],
   "source": [
    "def prob_222(my_list, c, d):\n",
    "    interval_numbers = [num for num in my_list if c <= num < d]\n",
    "    num_mul = 1\n",
    "    for number in interval_numbers:\n",
    "        num_mul *= number \n",
    "    return num_mul\n",
    "list_1 = [1, 3, 5, 7, 9, 11]\n",
    "prob_222(list_1, 3, 10)    "
   ]
  },
  {
   "cell_type": "code",
   "execution_count": 55,
   "id": "77201f51",
   "metadata": {},
   "outputs": [
    {
     "data": {
      "text/plain": [
       "3"
      ]
     },
     "execution_count": 55,
     "metadata": {},
     "output_type": "execute_result"
    }
   ],
   "source": [
    "def prob_223(my_list, a, b):\n",
    "    interval_numbers = [num for num in my_list if a < num < b]\n",
    "    interval_numbers_count = 0\n",
    "    for number in interval_numbers:\n",
    "        interval_numbers_count  += 1\n",
    "    return interval_numbers_count\n",
    "list_1 = [1, 3, 5, 7, 9, 11]\n",
    "prob_223(list_1, 3, 10)     "
   ]
  },
  {
   "cell_type": "code",
   "execution_count": 62,
   "id": "d0f94ad8",
   "metadata": {},
   "outputs": [
    {
     "data": {
      "text/plain": [
       "28"
      ]
     },
     "execution_count": 62,
     "metadata": {},
     "output_type": "execute_result"
    }
   ],
   "source": [
    "def prob_224(my_list, k):\n",
    "    num = [num for num in my_list if abs(num) < k]\n",
    "    num_sum = 0\n",
    "    for number in num:\n",
    "        num_sum += number ** 3\n",
    "    return num_sum\n",
    "list_1 = [1, 3, 5, 7, 9, 11]\n",
    "prob_224(list_1, 5)"
   ]
  },
  {
   "cell_type": "code",
   "execution_count": 67,
   "id": "5b241d3e",
   "metadata": {},
   "outputs": [
    {
     "data": {
      "text/plain": [
       "15"
      ]
     },
     "execution_count": 67,
     "metadata": {},
     "output_type": "execute_result"
    }
   ],
   "source": [
    "def prob_225(my_list, t):\n",
    "    num = [num for num in my_list if abs(num) < t]\n",
    "    num_mul = 1\n",
    "    for number in num:\n",
    "        num_mul *= number\n",
    "    return num_mul\n",
    "list_1 = [1, 3, 5, 7, 9, 11]\n",
    "prob_225(list_1, 7)"
   ]
  },
  {
   "cell_type": "code",
   "execution_count": 71,
   "id": "73647a5c",
   "metadata": {},
   "outputs": [
    {
     "data": {
      "text/plain": [
       "5"
      ]
     },
     "execution_count": 71,
     "metadata": {},
     "output_type": "execute_result"
    }
   ],
   "source": [
    "def prob_226(my_list, k):\n",
    "    num = [num for num in my_list if abs(num) < k]\n",
    "    num_count = 0\n",
    "    for number in num:\n",
    "        num_count += 1\n",
    "    return num_count\n",
    "list_1 = [1, 3, 5, 7, 9, 11]\n",
    "prob_226(list_1, 10)"
   ]
  },
  {
   "cell_type": "code",
   "execution_count": 83,
   "id": "d931c08c",
   "metadata": {},
   "outputs": [
    {
     "data": {
      "text/plain": [
       "4.333333333333333"
      ]
     },
     "execution_count": 83,
     "metadata": {},
     "output_type": "execute_result"
    }
   ],
   "source": [
    "def prob_227(my_list, k):\n",
    "    num = [my_list[i] for i in range(len(my_list)) if i % k == 0]\n",
    "    average = sum(num) / len(num)\n",
    "    return average\n",
    "list_1 = [5, -2, 3, 4, 5]\n",
    "prob_227(list_1, 2)"
   ]
  },
  {
   "cell_type": "code",
   "execution_count": 91,
   "id": "ccd3cdee",
   "metadata": {},
   "outputs": [
    {
     "data": {
      "text/plain": [
       "13"
      ]
     },
     "execution_count": 91,
     "metadata": {},
     "output_type": "execute_result"
    }
   ],
   "source": [
    "def prob_228(my_list, k):\n",
    "    return sum([my_list[i] for i in range(len(my_list)) if i % k == 0])\n",
    "list_1 = [5, 2, 3, 4, 5]\n",
    "prob_228(list_1, 2)"
   ]
  },
  {
   "cell_type": "code",
   "execution_count": 99,
   "id": "b561239d",
   "metadata": {},
   "outputs": [
    {
     "data": {
      "text/plain": [
       "1890"
      ]
     },
     "execution_count": 99,
     "metadata": {},
     "output_type": "execute_result"
    }
   ],
   "source": [
    "def prob_229(my_list):\n",
    "    num = [my_list[i] for i in range(len(my_list)) if my_list[i] - i > 0]\n",
    "    num_mul = 1\n",
    "    for number in num:\n",
    "        num_mul *= number\n",
    "    return num_mul\n",
    "list_1 = [2, 3, 5, 7, 9, 1]\n",
    "prob_229(list_1)"
   ]
  },
  {
   "cell_type": "code",
   "execution_count": 15,
   "id": "b4a1814b",
   "metadata": {},
   "outputs": [
    {
     "name": "stdout",
     "output_type": "stream",
     "text": [
      "3.1622776601683795\n"
     ]
    }
   ],
   "source": [
    "def prob_230(my_list, k):\n",
    "    num = [n ** 2 for n in my_list if n % k == 0]\n",
    "    mean = (sum(num) / len(num)) ** 0.5\n",
    "    return mean\n",
    "list_1 = [5, 2, 3, 4, 5]\n",
    "print(prob_230(list_1, 2))"
   ]
  },
  {
   "cell_type": "code",
   "execution_count": 16,
   "id": "72888750",
   "metadata": {},
   "outputs": [
    {
     "name": "stdout",
     "output_type": "stream",
     "text": [
      "20\n"
     ]
    }
   ],
   "source": [
    "def prob_231(my_list):\n",
    "    return sum([n ** 2 for n in my_list if n % 2 == 0])\n",
    "list_1 = [5, 2, 4, 7, 3]\n",
    "print(prob_231(list_1))"
   ]
  },
  {
   "cell_type": "code",
   "execution_count": 19,
   "id": "7100b26f",
   "metadata": {},
   "outputs": [
    {
     "data": {
      "text/plain": [
       "3"
      ]
     },
     "execution_count": 19,
     "metadata": {},
     "output_type": "execute_result"
    }
   ],
   "source": [
    "def prob_232(my_list):\n",
    "    even_num = [n for n in my_list if n % 2 == 0]    \n",
    "    num_count = 0\n",
    "    for number in even_num:\n",
    "        num_count += 1\n",
    "    return num_count\n",
    "list_1 = [1, -2, 5, 4, 6, 7, 9]\n",
    "prob_232(list_1)"
   ]
  },
  {
   "cell_type": "code",
   "execution_count": 28,
   "id": "e59b1c7c",
   "metadata": {},
   "outputs": [
    {
     "data": {
      "text/plain": [
       "(8, -48)"
      ]
     },
     "execution_count": 28,
     "metadata": {},
     "output_type": "execute_result"
    }
   ],
   "source": [
    "def prob_233(my_list):\n",
    "    even_num = [n for n in my_list if n % 2 == 0]\n",
    "    sum_num =  sum([n for n in my_list if n % 2 == 0])\n",
    "    num_mul = 1\n",
    "    for number in even_num:\n",
    "        num_mul *= number\n",
    "    return sum_num, num_mul\n",
    "list_1 = [1, -2, 5, 4, 6, 7, 9]\n",
    "prob_233(list_1)"
   ]
  },
  {
   "cell_type": "code",
   "execution_count": 33,
   "id": "24767cc5",
   "metadata": {},
   "outputs": [
    {
     "data": {
      "text/plain": [
       "5.5"
      ]
     },
     "execution_count": 33,
     "metadata": {},
     "output_type": "execute_result"
    }
   ],
   "source": [
    "def prob_234(my_list):\n",
    "    odd_num = [n for n in my_list if n % 2 == 1] \n",
    "    average = sum(odd_num) / len(odd_num)\n",
    "    return average\n",
    "list_1 = [1, -2, 5, 4, 6, 7, 9]\n",
    "prob_234(list_1)"
   ]
  },
  {
   "cell_type": "code",
   "execution_count": 31,
   "id": "313212da",
   "metadata": {},
   "outputs": [
    {
     "data": {
      "text/plain": [
       "6.244997998398398"
      ]
     },
     "execution_count": 31,
     "metadata": {},
     "output_type": "execute_result"
    }
   ],
   "source": [
    "def prob_235(my_list):\n",
    "    odd_num = [n ** 2 for n in my_list if n % 2 == 1] \n",
    "    mean = (sum(odd_num) / len(odd_num)) ** 0.5\n",
    "    return mean\n",
    "list_1 = [1, -2, 5, 4, 6, 7, 9]\n",
    "prob_235(list_1)"
   ]
  },
  {
   "cell_type": "code",
   "execution_count": 34,
   "id": "a1ff796b",
   "metadata": {},
   "outputs": [
    {
     "data": {
      "text/plain": [
       "(4, 315)"
      ]
     },
     "execution_count": 34,
     "metadata": {},
     "output_type": "execute_result"
    }
   ],
   "source": [
    "def prob_236(my_list):\n",
    "    odd_num = [n for n in my_list if n % 2 == 1]\n",
    "    odd_num_count = 0\n",
    "    odd_num_mul = 1\n",
    "    for number in odd_num:\n",
    "        odd_num_count += 1\n",
    "        odd_num_mul *= number\n",
    "    return odd_num_count, odd_num_mul\n",
    "list_1 = [1, -2, 5, 4, 6, 7, 9]\n",
    "prob_236(list_1)"
   ]
  },
  {
   "cell_type": "code",
   "execution_count": 37,
   "id": "640fa909",
   "metadata": {},
   "outputs": [
    {
     "data": {
      "text/plain": [
       "3"
      ]
     },
     "execution_count": 37,
     "metadata": {},
     "output_type": "execute_result"
    }
   ],
   "source": [
    "def prob_237(my_list):\n",
    "    zero_num = [n for n in my_list if n == 0]\n",
    "    zero_num_count = 0\n",
    "    for number in zero_num:\n",
    "        zero_num_count += 1\n",
    "    return zero_num_count\n",
    "list_1 = [1, 0, 5, 0, 6, 0, 9]\n",
    "prob_237(list_1)"
   ]
  },
  {
   "cell_type": "code",
   "execution_count": 41,
   "id": "d53515a4",
   "metadata": {},
   "outputs": [
    {
     "data": {
      "text/plain": [
       "7.5"
      ]
     },
     "execution_count": 41,
     "metadata": {},
     "output_type": "execute_result"
    }
   ],
   "source": [
    "def prob_238(my_list):\n",
    "    numbers = [n for n in my_list if n % 3 == 0]\n",
    "    return sum(numbers) / len(numbers)\n",
    "list_1 = [1, -2, 5, 4, 6, 7, 9]\n",
    "prob_238(list_1)"
   ]
  },
  {
   "cell_type": "code",
   "execution_count": 42,
   "id": "e46f6fa5",
   "metadata": {},
   "outputs": [
    {
     "data": {
      "text/plain": [
       "7.905694150420948"
      ]
     },
     "execution_count": 42,
     "metadata": {},
     "output_type": "execute_result"
    }
   ],
   "source": [
    "def prob_239(my_list):\n",
    "    numbers = [n ** 2 for n in my_list if n % 5 == 0]\n",
    "    mean = (sum(numbers) / len(numbers)) ** 0.5\n",
    "    return mean\n",
    "list_1 = [5, 10, 6, 3, 8]\n",
    "prob_239(list_1)"
   ]
  },
  {
   "cell_type": "code",
   "execution_count": 44,
   "id": "2e8ba182",
   "metadata": {},
   "outputs": [
    {
     "data": {
      "text/plain": [
       "2"
      ]
     },
     "execution_count": 44,
     "metadata": {},
     "output_type": "execute_result"
    }
   ],
   "source": [
    "def prob_240(my_list):\n",
    "    numbers = [n for n in my_list if n % 7 ==0]\n",
    "    num_count = 0\n",
    "    for number in numbers:\n",
    "        num_count += 1\n",
    "    return num_count\n",
    "list_1 = [5, 14, 6, 7, 8]\n",
    "prob_240(list_1)"
   ]
  },
  {
   "cell_type": "code",
   "execution_count": 46,
   "id": "cf63eba3",
   "metadata": {},
   "outputs": [
    {
     "data": {
      "text/plain": [
       "12"
      ]
     },
     "execution_count": 46,
     "metadata": {},
     "output_type": "execute_result"
    }
   ],
   "source": [
    "def prob_241(my_list, k):\n",
    "    return sum([num for num in my_list if num % k == 0])\n",
    "list_1 = [1, 3, 5, 7, 9, 11]\n",
    "prob_241(list_1, 3)"
   ]
  },
  {
   "cell_type": "code",
   "execution_count": 51,
   "id": "b00255e8",
   "metadata": {},
   "outputs": [
    {
     "data": {
      "text/plain": [
       "54"
      ]
     },
     "execution_count": 51,
     "metadata": {},
     "output_type": "execute_result"
    }
   ],
   "source": [
    "def prob_242(my_list, m):\n",
    "    numbers = [n for n in my_list if n % m == 0]\n",
    "    num_mul = 1\n",
    "    for number in numbers:\n",
    "        num_mul *= number\n",
    "    return num_mul\n",
    "list_1 = [5, 14, 6, 9, 8]\n",
    "prob_242(list_1, 3)"
   ]
  },
  {
   "cell_type": "code",
   "execution_count": 53,
   "id": "12c560d7",
   "metadata": {},
   "outputs": [
    {
     "data": {
      "text/plain": [
       "3"
      ]
     },
     "execution_count": 53,
     "metadata": {},
     "output_type": "execute_result"
    }
   ],
   "source": [
    "def prob_243(my_list, t):\n",
    "    numbers = [n for n in my_list if n % t ==0]\n",
    "    num_count = 0\n",
    "    for number in numbers:\n",
    "        num_count += 1\n",
    "    return num_count\n",
    "list_1 = [5, 14, 6, 7, 8]\n",
    "prob_243(list_1, 2)"
   ]
  },
  {
   "cell_type": "code",
   "execution_count": 55,
   "id": "e4bedbce",
   "metadata": {},
   "outputs": [
    {
     "data": {
      "text/plain": [
       "7"
      ]
     },
     "execution_count": 55,
     "metadata": {},
     "output_type": "execute_result"
    }
   ],
   "source": [
    "def prob_244(my_list):\n",
    "    numbers = [n for n in my_list if n % 5 == 2]\n",
    "    num_mul = 1\n",
    "    for number in numbers:\n",
    "        num_mul *= number\n",
    "    return num_mul\n",
    "list_1 = [5, 14, 6, 7, 8]\n",
    "prob_244(list_1)"
   ]
  },
  {
   "cell_type": "code",
   "execution_count": 62,
   "id": "e824c6f9",
   "metadata": {},
   "outputs": [
    {
     "data": {
      "text/plain": [
       "117"
      ]
     },
     "execution_count": 62,
     "metadata": {},
     "output_type": "execute_result"
    }
   ],
   "source": [
    "def prob_245(my_list):\n",
    "    numbers = [n**2 for i, n in enumerate(my_list)]\n",
    "    num_sum = 0\n",
    "    for number in numbers:\n",
    "        if number % 3 == 0:\n",
    "            num_sum += number\n",
    "    return num_sum\n",
    "list_1 = [5, 14, 6, 9, 8]\n",
    "prob_245(list_1)"
   ]
  },
  {
   "cell_type": "code",
   "execution_count": 101,
   "id": "f23f1d0a",
   "metadata": {},
   "outputs": [
    {
     "name": "stdout",
     "output_type": "stream",
     "text": [
      "5.666666666666667\n"
     ]
    }
   ],
   "source": [
    "def square_natural_num(i):\n",
    "    root = int(i ** 0.5)\n",
    "    return root * root == i\n",
    "def prob_246(my_list):\n",
    "    square_indexes = [i for i in range(len(my_list)) if square_natural_num(i)]\n",
    "    square_index_numbers = [my_list[i] for i in square_indexes]\n",
    "    average = sum(square_index_numbers) / len(square_index_numbers)\n",
    "    return average\n",
    "list_1 = [5, 4, 6, 9, 8]  #5, 4, 8\n",
    "print(prob_246(list_1))"
   ]
  },
  {
   "cell_type": "code",
   "execution_count": 102,
   "id": "ba152ae5",
   "metadata": {},
   "outputs": [
    {
     "name": "stdout",
     "output_type": "stream",
     "text": [
      "4.527692569068709\n"
     ]
    }
   ],
   "source": [
    "def prob_247(my_list):\n",
    "    num = [my_list[i] ** 2 for i in range(len(my_list)) if my_list[i] > i]\n",
    "    mean = (sum(num) / len(num)) ** 0.5\n",
    "    return mean\n",
    "list_1 = [5, 4, 1, 2, 3] \n",
    "print(prob_247(list_1))"
   ]
  },
  {
   "cell_type": "code",
   "execution_count": 105,
   "id": "24c8473e",
   "metadata": {},
   "outputs": [
    {
     "data": {
      "text/plain": [
       "22"
      ]
     },
     "execution_count": 105,
     "metadata": {},
     "output_type": "execute_result"
    }
   ],
   "source": [
    "def prob_248(my_list, k):\n",
    "    num = [my_list[i] for i in range(len(my_list)) if ((my_list[i] + i) ** 2) % k  == 0]\n",
    "    num_sum = 0\n",
    "    for number in num:\n",
    "        num_sum += number\n",
    "    return num_sum\n",
    "list_1 = [1, 3, 5, 7, 9, 15]\n",
    "prob_248(list_1, 10)"
   ]
  },
  {
   "cell_type": "code",
   "execution_count": 109,
   "id": "614aa34c",
   "metadata": {
    "scrolled": true
   },
   "outputs": [
    {
     "data": {
      "text/plain": [
       "4"
      ]
     },
     "execution_count": 109,
     "metadata": {},
     "output_type": "execute_result"
    }
   ],
   "source": [
    "def prob_249(my_list, k):\n",
    "    num = [my_list[i] for i in range(len(my_list)) if abs(my_list[i] - i) > k]\n",
    "    num_count = 0\n",
    "    for number in num:\n",
    "        num_count += 1\n",
    "    return num_count\n",
    "list_1 = [1, 3, 5, 7, 9, 15]\n",
    "prob_249(list_1, 2)"
   ]
  },
  {
   "cell_type": "code",
   "execution_count": 113,
   "id": "697c4719",
   "metadata": {},
   "outputs": [
    {
     "data": {
      "text/plain": [
       "1"
      ]
     },
     "execution_count": 113,
     "metadata": {},
     "output_type": "execute_result"
    }
   ],
   "source": [
    "def prob_250(my_list):\n",
    "    num = [my_list[i] ** 2 for i in range(len(my_list)) if (my_list[i] * i) % 3 == 2]\n",
    "    num_mul = 1\n",
    "    for number in num:\n",
    "        num_mul *= number\n",
    "    return num_mul\n",
    "list_1 = [5, 3, 2, 7, 9, 15]\n",
    "prob_250(list_1)"
   ]
  },
  {
   "cell_type": "code",
   "execution_count": 140,
   "id": "5af87f97",
   "metadata": {},
   "outputs": [
    {
     "name": "stdout",
     "output_type": "stream",
     "text": [
      "[11, 12, 22, 25, 34, 64, 90] \n",
      " 90\n"
     ]
    }
   ],
   "source": [
    "#bubble sort find max\n",
    "def prob_251(my_list):\n",
    "    for i in range(len(my_list)):\n",
    "        for j in range(0, len(my_list) - i - 1):\n",
    "            if my_list[j] > my_list[j + 1]:\n",
    "                temp = my_list [j]\n",
    "                my_list[j] = my_list[j+1]\n",
    "                my_list[j+1] = temp   \n",
    "list_1 = [64, 34, 25, 12, 22, 11, 90]\n",
    "prob_251(list_1)\n",
    "print(f\"{list_1} \\n {list_1[-1]}\")"
   ]
  },
  {
   "cell_type": "code",
   "execution_count": 141,
   "id": "e83ff768",
   "metadata": {},
   "outputs": [
    {
     "name": "stdout",
     "output_type": "stream",
     "text": [
      "[11, 12, 22, 25, 34, 64, 90] \n",
      " 11\n"
     ]
    }
   ],
   "source": [
    "#insertion sort find min\n",
    "def prob_252(my_list):\n",
    "    n = len(my_list)\n",
    "    for i in range(1, n):\n",
    "        list_element = my_list[i]\n",
    "        j = i - 1\n",
    "        while j >= 0 and my_list[j] > list_element:\n",
    "            my_list[j + 1] = my_list[j]\n",
    "            j -= 1\n",
    "        my_list[j + 1] = list_element\n",
    "list_1 = [64, 34, 25, 12, 22, 11, 90]\n",
    "prob_252(list_1)\n",
    "print(f\"{list_1} \\n {list_1[0]}\")"
   ]
  },
  {
   "cell_type": "code",
   "execution_count": 149,
   "id": "f7f9b04f",
   "metadata": {},
   "outputs": [
    {
     "name": "stdout",
     "output_type": "stream",
     "text": [
      "[11, 12, 22, 25, 34, 64, 90] \n",
      " 11  90 \n",
      " 101 \n"
     ]
    }
   ],
   "source": [
    "# max + min,using bubble sort\n",
    "def prob_253(my_list):\n",
    "    for i in range(len(my_list)):\n",
    "        for j in range(0, len(my_list) - i - 1):\n",
    "            if my_list[j] > my_list[j + 1]:\n",
    "                list_element = my_list [j]\n",
    "                my_list[j] = my_list[j+1]\n",
    "                my_list[j+1] = list_element   \n",
    "list_1 = [64, 34, 25, 12, 22, 11, 90]\n",
    "prob_253(list_1)\n",
    "print(f\"{list_1} \\n {list_1[0]}  {list_1[-1]} \\n {list_1[0] + list_1[-1]} \")"
   ]
  },
  {
   "cell_type": "code",
   "execution_count": 150,
   "id": "686df59d",
   "metadata": {},
   "outputs": [
    {
     "name": "stdout",
     "output_type": "stream",
     "text": [
      "[11, 12, 22, 25, 34, 64, 90] \n",
      " 11  90 \n",
      " 990 \n"
     ]
    }
   ],
   "source": [
    "#max * min, using insertion sort \n",
    "def prob_254(my_list):\n",
    "    n = len(my_list)\n",
    "    for i in range(1, n):\n",
    "        list_element = my_list[i]\n",
    "        j = i - 1\n",
    "        while j >= 0 and my_list[j] > list_element:\n",
    "            my_list[j + 1] = my_list[j]\n",
    "            j -= 1\n",
    "        my_list[j + 1] = list_element\n",
    "list_1 = [64, 34, 25, 12, 22, 11, 90]\n",
    "prob_254(list_1)\n",
    "print(f\"{list_1} \\n {list_1[0]}  {list_1[-1]} \\n {list_1[0] * list_1[-1]} \")"
   ]
  },
  {
   "cell_type": "code",
   "execution_count": 163,
   "id": "b4897c5e",
   "metadata": {},
   "outputs": [
    {
     "data": {
      "text/plain": [
       "(90, 3, 93)"
      ]
     },
     "execution_count": 163,
     "metadata": {},
     "output_type": "execute_result"
    }
   ],
   "source": [
    "def prob_255(my_list):\n",
    "    max_element = my_list[0]\n",
    "    max_index = 0\n",
    "    for i in range(1, len(my_list)):\n",
    "        if my_list[i] > max_element:\n",
    "            max_element = my_list[i]\n",
    "            max_index = i\n",
    "    return max_element, max_index, max_element + max_index\n",
    "list_1 = [64, 34, 25, 90, 12, 22, 11]\n",
    "prob_255(list_1)"
   ]
  },
  {
   "cell_type": "code",
   "execution_count": 165,
   "id": "342da22a",
   "metadata": {},
   "outputs": [
    {
     "data": {
      "text/plain": [
       "(11, 6, 17)"
      ]
     },
     "execution_count": 165,
     "metadata": {},
     "output_type": "execute_result"
    }
   ],
   "source": [
    "def prob_256(my_list):\n",
    "    min_element = my_list[0]\n",
    "    min_index = 0\n",
    "    for i in range(1, len(my_list)):\n",
    "        if my_list[i] < min_element:\n",
    "            min_element = my_list[i]\n",
    "            min_index = i\n",
    "    return min_element, min_index, min_element + min_index\n",
    "list_1 = [64, 34, 25, 90, 12, 22, 11]\n",
    "prob_256(list_1)"
   ]
  },
  {
   "cell_type": "code",
   "execution_count": 171,
   "id": "753dd568",
   "metadata": {},
   "outputs": [
    {
     "data": {
      "text/plain": [
       "3"
      ]
     },
     "execution_count": 171,
     "metadata": {},
     "output_type": "execute_result"
    }
   ],
   "source": [
    "def prob_257(my_list):\n",
    "    max_element = my_list[0]\n",
    "    max_index = 0\n",
    "    for i in range(1, len(my_list)):\n",
    "        if my_list[i] > max_element:\n",
    "            max_element = my_list[i]\n",
    "            max_index = i\n",
    "    return max_index\n",
    "list_1 = [64, 34, 25, 90, 12, 90, 22, 11, 90]\n",
    "prob_257(list_1)"
   ]
  },
  {
   "cell_type": "code",
   "execution_count": 170,
   "id": "f2e01a07",
   "metadata": {},
   "outputs": [
    {
     "data": {
      "text/plain": [
       "8"
      ]
     },
     "execution_count": 170,
     "metadata": {},
     "output_type": "execute_result"
    }
   ],
   "source": [
    "def prob_258(my_list):\n",
    "    max_element = my_list[0]\n",
    "    max_index = 0\n",
    "    for i in range(1, len(my_list)):\n",
    "        if my_list[i] >= max_element:\n",
    "            max_element = my_list[i]\n",
    "            max_index = i\n",
    "    return max_index\n",
    "list_1 = [64, 34, 25, 90, 12, 90, 22, 11, 90]\n",
    "prob_258(list_1)"
   ]
  },
  {
   "cell_type": "code",
   "execution_count": 173,
   "id": "18b50dc8",
   "metadata": {},
   "outputs": [
    {
     "data": {
      "text/plain": [
       "2"
      ]
     },
     "execution_count": 173,
     "metadata": {},
     "output_type": "execute_result"
    }
   ],
   "source": [
    "def prob_259(my_list):\n",
    "    min_element = my_list[0]\n",
    "    min_index = 0\n",
    "    for i in range(1, len(my_list)):\n",
    "        if my_list[i] < min_element:\n",
    "            min_element = my_list[i]\n",
    "            min_index = i\n",
    "    return min_index\n",
    "list_1 = [64, 34, 11, 25, 11, 90, 12, 90, 22, 11, 90]\n",
    "prob_259(list_1)"
   ]
  },
  {
   "cell_type": "code",
   "execution_count": 175,
   "id": "6d2f063b",
   "metadata": {},
   "outputs": [
    {
     "data": {
      "text/plain": [
       "10"
      ]
     },
     "execution_count": 175,
     "metadata": {},
     "output_type": "execute_result"
    }
   ],
   "source": [
    "def prob_260(my_list):\n",
    "    min_element = my_list[0]\n",
    "    min_index = 0\n",
    "    for i in range(1, len(my_list)):\n",
    "        if my_list[i] <= min_element:\n",
    "            min_element = my_list[i]\n",
    "            min_index = i\n",
    "    return min_index\n",
    "list_1 = [64, 34, 11, 25, 11, 12, 90, 12, 90, 22, 11, 90]\n",
    "prob_260(list_1)"
   ]
  },
  {
   "cell_type": "code",
   "execution_count": 4,
   "id": "fd0cf1e2",
   "metadata": {},
   "outputs": [
    {
     "data": {
      "text/plain": [
       "16.0"
      ]
     },
     "execution_count": 4,
     "metadata": {},
     "output_type": "execute_result"
    }
   ],
   "source": [
    "def prob_261(my_list1, my_list2):\n",
    "    num_1 = [n for n in my_list1] \n",
    "    num_2 = [n for n in my_list2] \n",
    "    average_1 = sum(num_1) / len(num_1)\n",
    "    average_2 = sum(num_2) / len(num_2)\n",
    "    return average_1 * average_2\n",
    "list_1 = [5, 4, 6, 9, 8]\n",
    "list_2 = [5, -2, 3, 4]\n",
    "prob_261(list_1, list_2)"
   ]
  },
  {
   "cell_type": "code",
   "execution_count": 8,
   "id": "d2d639f8",
   "metadata": {},
   "outputs": [
    {
     "data": {
      "text/plain": [
       "11.202054786747158"
      ]
     },
     "execution_count": 8,
     "metadata": {},
     "output_type": "execute_result"
    }
   ],
   "source": [
    "def prob_262(my_list1, my_list2):\n",
    "    num_1 = [n ** 2 for n in my_list1] \n",
    "    num_2 = [n ** 2 for n in my_list2] \n",
    "    mean_1 = (sum(num_1) / len(num_1)) ** 0.5\n",
    "    mean_2 = (sum(num_2) / len(num_2)) ** 0.5\n",
    "    return mean_1 + mean_2\n",
    "list_1 = [5, 4, 6, 9, 8]\n",
    "list_2 = [5, -2, 3, 4, 7]\n",
    "prob_262(list_1, list_2)"
   ]
  },
  {
   "cell_type": "code",
   "execution_count": 3,
   "id": "13696a50",
   "metadata": {},
   "outputs": [
    {
     "data": {
      "text/plain": [
       "6"
      ]
     },
     "execution_count": 3,
     "metadata": {},
     "output_type": "execute_result"
    }
   ],
   "source": [
    "def prob_263(my_list1, my_list2):\n",
    "    positive_numbers1 = [n for n in my_list1 if n > 0]\n",
    "    positive_numbers2 = [n for n in my_list2 if n > 0]\n",
    "    count1 = count2 = 0\n",
    "    for number in positive_numbers1:\n",
    "        count1 += 1\n",
    "    for number in positive_numbers2:\n",
    "        count2 += 1\n",
    "    return count1 + count2\n",
    "list_1 = [5, -4, -6, 9, 8]\n",
    "list_2 = [5, -2, 3, -4, 7]\n",
    "prob_263(list_1, list_2)"
   ]
  },
  {
   "cell_type": "code",
   "execution_count": 4,
   "id": "7752ef46",
   "metadata": {},
   "outputs": [
    {
     "data": {
      "text/plain": [
       "4"
      ]
     },
     "execution_count": 4,
     "metadata": {},
     "output_type": "execute_result"
    }
   ],
   "source": [
    "def prob_264(my_list1, my_list2):\n",
    "    positive_numbers1 = [n for n in my_list1 if n < 0]\n",
    "    positive_numbers2 = [n for n in my_list2 if n < 0]\n",
    "    count1 = count2 = 0\n",
    "    for number in positive_numbers1:\n",
    "        count1 += 1\n",
    "    for number in positive_numbers2:\n",
    "        count2 += 1\n",
    "    return count1 + count2\n",
    "list_1 = [5, -4, -6, 9, 8]\n",
    "list_2 = [5, -2, 3, -4, 7]\n",
    "prob_264(list_1, list_2)    "
   ]
  },
  {
   "cell_type": "code",
   "execution_count": 11,
   "id": "5e5859ec",
   "metadata": {},
   "outputs": [
    {
     "data": {
      "text/plain": [
       "0.014285714285714285"
      ]
     },
     "execution_count": 11,
     "metadata": {},
     "output_type": "execute_result"
    }
   ],
   "source": [
    "def prob_265(my_list1, my_list2):\n",
    "    mul_my_list2 = 1\n",
    "    for number in my_list2:\n",
    "        mul_my_list2 *= number\n",
    "    return sum([n for n in my_list1]) / mul_my_list2\n",
    "list_1 = [5, -4, -6, 9, 8]\n",
    "list_2 = [5, -2, 3, -4, 7]\n",
    "prob_265(list_1, list_2)   "
   ]
  },
  {
   "cell_type": "code",
   "execution_count": 14,
   "id": "e5df01b1",
   "metadata": {},
   "outputs": [
    {
     "data": {
      "text/plain": [
       "8"
      ]
     },
     "execution_count": 14,
     "metadata": {},
     "output_type": "execute_result"
    }
   ],
   "source": [
    "def prob_266(my_list1, my_list2):\n",
    "     return sum([n for n in my_list1 if n % 2 == 1]) - sum([n for n in my_list2 if n % 2 == 0])\n",
    "list_1 = [5, -4, -6, 9, 8]\n",
    "list_2 = [5, 2, 3, 4, 7]\n",
    "prob_266(list_1, list_2)      "
   ]
  },
  {
   "cell_type": "code",
   "execution_count": 17,
   "id": "c61e4fdc",
   "metadata": {},
   "outputs": [
    {
     "data": {
      "text/plain": [
       "49"
      ]
     },
     "execution_count": 17,
     "metadata": {},
     "output_type": "execute_result"
    }
   ],
   "source": [
    "def prob_267(my_list1, my_list2):\n",
    "    return sum([n for n in my_list1 if n % 7 == 0]) + sum([n for n in my_list2 if n % 7 == 0])\n",
    "list_1 = [5, -4, -6, 14, 9, 8]\n",
    "list_2 = [5, 28, 3, 4, 7]\n",
    "prob_267(list_1, list_2)  "
   ]
  },
  {
   "cell_type": "code",
   "execution_count": 43,
   "id": "109cdf24",
   "metadata": {},
   "outputs": [
    {
     "data": {
      "text/plain": [
       "6"
      ]
     },
     "execution_count": 43,
     "metadata": {},
     "output_type": "execute_result"
    }
   ],
   "source": [
    "def prob_268(my_list1, my_list2, k):\n",
    "    numbers1 = [n for n in my_list1 if n % k == 0]\n",
    "    numbers2 = [n for n in my_list2 if n % k == 0]\n",
    "    count1 = count2 = 0\n",
    "    for number in numbers1:\n",
    "        count1 += 1\n",
    "    for number in numbers2:\n",
    "        count2 += 1\n",
    "    return count1 + count2\n",
    "list_1 = [5, -4, -6, 14, 9, 8]\n",
    "list_2 = [5, 28, 3, 4, 7]\n",
    "prob_268(list_1, list_2, 2)  "
   ]
  },
  {
   "cell_type": "code",
   "execution_count": 20,
   "id": "e1dcb9bf",
   "metadata": {},
   "outputs": [
    {
     "data": {
      "text/plain": [
       "40"
      ]
     },
     "execution_count": 20,
     "metadata": {},
     "output_type": "execute_result"
    }
   ],
   "source": [
    "def prob_269(my_list1, my_list2):\n",
    "    return sum(my_list1[::2]) + sum([my_list2[i] for i in range(1, len(my_list2), 2)])\n",
    "list_1 = [5, -4, -6, 14, 9, 8]\n",
    "list_2 = [5, 28, 3, 4, 7]\n",
    "prob_269(list_1, list_2) "
   ]
  },
  {
   "cell_type": "code",
   "execution_count": 26,
   "id": "0a0632e8",
   "metadata": {},
   "outputs": [
    {
     "data": {
      "text/plain": [
       "180"
      ]
     },
     "execution_count": 26,
     "metadata": {},
     "output_type": "execute_result"
    }
   ],
   "source": [
    "def prob_270(my_list1, my_list2):\n",
    "    return sum([n**2 for n in my_list1]) + sum([n**2 for n in my_list2])\n",
    "list_1 = [5, -4, -6]\n",
    "list_2 = [5, 2, 3, 4, 7]\n",
    "prob_270(list_1, list_2)                                               "
   ]
  },
  {
   "cell_type": "code",
   "execution_count": 39,
   "id": "9ea90c12",
   "metadata": {},
   "outputs": [
    {
     "data": {
      "text/plain": [
       "2"
      ]
     },
     "execution_count": 39,
     "metadata": {},
     "output_type": "execute_result"
    }
   ],
   "source": [
    "def prob_271(n_list):\n",
    "    return n_list.count('a')\n",
    "#     num = [n for n in n_list if n == 'a']\n",
    "#     count = 0\n",
    "#     for n in num:\n",
    "#         count += 1\n",
    "#     return count\n",
    "list1 = ['a', 'b', 'c', 'l', 'a', 'd'] \n",
    "prob_271(list1)"
   ]
  },
  {
   "cell_type": "code",
   "execution_count": 51,
   "id": "9307186b",
   "metadata": {},
   "outputs": [
    {
     "data": {
      "text/plain": [
       "True"
      ]
     },
     "execution_count": 51,
     "metadata": {},
     "output_type": "execute_result"
    }
   ],
   "source": [
    "def prob_272(n_list):\n",
    "    return n_list.count('b') == len(n_list) / 2\n",
    "list1 = ['b', 'h', 'b', 'a', 'b', 'd'] \n",
    "prob_272(list1) "
   ]
  },
  {
   "cell_type": "code",
   "execution_count": 54,
   "id": "7fcbc214",
   "metadata": {},
   "outputs": [
    {
     "data": {
      "text/plain": [
       "3"
      ]
     },
     "execution_count": 54,
     "metadata": {},
     "output_type": "execute_result"
    }
   ],
   "source": [
    "def prob_273(n_list):\n",
    "    return sum([index for index in range(1, len(n_list)) if n_list[index] == 's'])\n",
    "list1 = ['s', 'h', 'b', 's', 'b', 'd'] \n",
    "prob_273(list1) "
   ]
  },
  {
   "cell_type": "code",
   "execution_count": 83,
   "id": "f5712fb5",
   "metadata": {},
   "outputs": [
    {
     "data": {
      "text/plain": [
       "1.5"
      ]
     },
     "execution_count": 83,
     "metadata": {},
     "output_type": "execute_result"
    }
   ],
   "source": [
    "def prob_274(n_list):\n",
    "    return sum([index for index in range(len(n_list)) if n_list[index] > 'h']) / n_list.count('h') if n_list.count('h') > 0 else False \n",
    "list1 = ['h', 's', 'm', 'h', 'b', 'd']\n",
    "prob_274(list1)"
   ]
  },
  {
   "cell_type": "code",
   "execution_count": 84,
   "id": "065310bb",
   "metadata": {},
   "outputs": [
    {
     "data": {
      "text/plain": [
       "4"
      ]
     },
     "execution_count": 84,
     "metadata": {},
     "output_type": "execute_result"
    }
   ],
   "source": [
    "def prob_275(n_list):\n",
    "    return len([char for char in n_list if char < 'k'])\n",
    "list1 = ['h', 's', 'm', 'k', 'l', 'm', 'n', 'h', 'b', 'd']\n",
    "prob_275(list1)"
   ]
  },
  {
   "cell_type": "code",
   "execution_count": 19,
   "id": "13310de9",
   "metadata": {},
   "outputs": [
    {
     "data": {
      "text/plain": [
       "True"
      ]
     },
     "execution_count": 19,
     "metadata": {},
     "output_type": "execute_result"
    }
   ],
   "source": [
    "def prob_276(n_list):\n",
    "        return any(char == 'r' for char in n_list)\n",
    "list1 = ['h', 'r', 's', 'r', 'm', 'k', 'n']\n",
    "prob_276(list1)"
   ]
  },
  {
   "cell_type": "code",
   "execution_count": 43,
   "id": "950095c2",
   "metadata": {},
   "outputs": [
    {
     "data": {
      "text/plain": [
       "['h', 'r', 's', 'k', 'n']"
      ]
     },
     "execution_count": 43,
     "metadata": {},
     "output_type": "execute_result"
    }
   ],
   "source": [
    "def prob_277(n_list):\n",
    "    return [char for char in n_list if char != 'd']\n",
    "list1 = ['h', 'd', 'r', 'd', 's', 'k', 'n']\n",
    "prob_277(list1)"
   ]
  },
  {
   "cell_type": "code",
   "execution_count": 47,
   "id": "37f8fd60",
   "metadata": {},
   "outputs": [
    {
     "data": {
      "text/plain": [
       "['l', 'd', 'k']"
      ]
     },
     "execution_count": 47,
     "metadata": {},
     "output_type": "execute_result"
    }
   ],
   "source": [
    "def prob_278(n_list):\n",
    "    return [n_list[i] for i in range(1, len(n_list), 2)]\n",
    "list1 = ['h', 'l', 'r', 'd', 's', 'k', 'n']\n",
    "prob_278(list1)"
   ]
  },
  {
   "cell_type": "code",
   "execution_count": 48,
   "id": "17dbabb8",
   "metadata": {},
   "outputs": [
    {
     "data": {
      "text/plain": [
       "5"
      ]
     },
     "execution_count": 48,
     "metadata": {},
     "output_type": "execute_result"
    }
   ],
   "source": [
    "def prob_279(n_list):\n",
    "    return len([char for char in n_list if char > 'k'])\n",
    "list1 = ['h', 's', 'm', 'k', 'l', 'm', 'n', 'h', 'b', 'd']\n",
    "prob_279(list1)"
   ]
  },
  {
   "cell_type": "code",
   "execution_count": 65,
   "id": "3b7ed788",
   "metadata": {},
   "outputs": [
    {
     "data": {
      "text/plain": [
       "['f', 'f', 's', 'm', 'k', 'f', 'f', 'm', 'n', 'f', 'f', 'f', 'f', 'd']"
      ]
     },
     "execution_count": 65,
     "metadata": {},
     "output_type": "execute_result"
    }
   ],
   "source": [
    "def prob_280(n_list, list_char, new_char):\n",
    "    new_list = []\n",
    "    for char in n_list:\n",
    "        new_list.append(char)\n",
    "        if char == list_char:\n",
    "            new_list.append(new_char)\n",
    "    return new_list\n",
    "list1 = ['f', 's', 'm', 'k', 'f', 'm', 'n', 'f', 'f', 'd']\n",
    "prob_280(list1, 'f', 'f')"
   ]
  },
  {
   "cell_type": "code",
   "execution_count": 68,
   "id": "b43ba66d",
   "metadata": {},
   "outputs": [
    {
     "data": {
      "text/plain": [
       "[5, 9, 8, 10, 11]"
      ]
     },
     "execution_count": 68,
     "metadata": {},
     "output_type": "execute_result"
    }
   ],
   "source": [
    "def prob_281(n_list):\n",
    "    new_list = [n for n in n_list if n > 0]\n",
    "    return new_list\n",
    "list1 = [5, -4, -6, -14, 9, 8, 10, 11]\n",
    "prob_281(list1)"
   ]
  },
  {
   "cell_type": "code",
   "execution_count": 69,
   "id": "1769ff7e",
   "metadata": {},
   "outputs": [
    {
     "data": {
      "text/plain": [
       "[5, -4, -6, -14, 9, 8, 10, 11]"
      ]
     },
     "execution_count": 69,
     "metadata": {},
     "output_type": "execute_result"
    }
   ],
   "source": [
    "def prob_282(n_list):\n",
    "    new_list = [n for n in n_list if n != 0]\n",
    "    return new_list\n",
    "list1 = [5, -4, 0, -6, -14, 0, 9, 0, 8, 0, 10, 11]\n",
    "prob_282(list1)"
   ]
  },
  {
   "cell_type": "code",
   "execution_count": 70,
   "id": "b58659de",
   "metadata": {},
   "outputs": [
    {
     "data": {
      "text/plain": [
       "[5, 9, 11]"
      ]
     },
     "execution_count": 70,
     "metadata": {},
     "output_type": "execute_result"
    }
   ],
   "source": [
    "def prob_283(n_list):\n",
    "    new_list = [n for n in n_list if n %2 == 1]\n",
    "    return new_list\n",
    "list1 = [5, -4, -6, -14, 9, 8, 10, 11]\n",
    "prob_283(list1)"
   ]
  },
  {
   "cell_type": "code",
   "execution_count": 92,
   "id": "cfeaf419",
   "metadata": {},
   "outputs": [
    {
     "data": {
      "text/plain": [
       "[5, -4, 0, 9, 8]"
      ]
     },
     "execution_count": 92,
     "metadata": {},
     "output_type": "execute_result"
    }
   ],
   "source": [
    "def prob_284(n_list, a, b):\n",
    "    new_list = [n for n in n_list if a < n < b ]\n",
    "    return new_list\n",
    "list1 = [5, -4, -6, 0, -14, 9, 8, 10, 11]\n",
    "prob_284(list1, -5, 10)"
   ]
  },
  {
   "cell_type": "code",
   "execution_count": 78,
   "id": "c938d36f",
   "metadata": {},
   "outputs": [
    {
     "data": {
      "text/plain": [
       "[-6, 0, 9]"
      ]
     },
     "execution_count": 78,
     "metadata": {},
     "output_type": "execute_result"
    }
   ],
   "source": [
    "def prob_285(n_list, p):\n",
    "    new_list = [n for n in n_list if n % p == 0]\n",
    "    return new_list\n",
    "list1 = [5, -4, -6, 0, -14, 9, 8, 10, 11]\n",
    "prob_285(list1, 3) "
   ]
  },
  {
   "cell_type": "code",
   "execution_count": 81,
   "id": "aeaee7bb",
   "metadata": {},
   "outputs": [
    {
     "data": {
      "text/plain": [
       "[-4, -6, 0, -14, 8, 10]"
      ]
     },
     "execution_count": 81,
     "metadata": {},
     "output_type": "execute_result"
    }
   ],
   "source": [
    "def prob_286(n_list):\n",
    "    new_list = [n for n in n_list if n % 2 == 0]\n",
    "    return new_list\n",
    "list1 = [5, -4, -6, 0, -14, 9, 8, 10, 11]\n",
    "prob_286(list1)     "
   ]
  },
  {
   "cell_type": "code",
   "execution_count": 83,
   "id": "7576d48e",
   "metadata": {},
   "outputs": [
    {
     "data": {
      "text/plain": [
       "[-4, -6, 0, -14, 9, 10, 11]"
      ]
     },
     "execution_count": 83,
     "metadata": {},
     "output_type": "execute_result"
    }
   ],
   "source": [
    "def prob_287(n_list):\n",
    "    new_list = [n_list[i] for i in range(1, len(n_list)) if i != n_list[i]]\n",
    "    return new_list\n",
    "list1 = [5, -4, 2, -6, 0, 5, -14, 9, 8, 10, 11]\n",
    "prob_287(list1)  "
   ]
  },
  {
   "cell_type": "code",
   "execution_count": 85,
   "id": "83052b22",
   "metadata": {},
   "outputs": [
    {
     "data": {
      "text/plain": [
       "[-4, -6, 5, 9, 10]"
      ]
     },
     "execution_count": 85,
     "metadata": {},
     "output_type": "execute_result"
    }
   ],
   "source": [
    "def prob_288(n_list):\n",
    "    new_list = [n_list[i] for i in range(1, len(n_list)) if i % 2 == 1]\n",
    "    return new_list \n",
    "list1 = [5, -4, 2, -6, 0, 5, -14, 9, 8, 10, 11]\n",
    "prob_288(list1)  "
   ]
  },
  {
   "cell_type": "code",
   "execution_count": 91,
   "id": "e4be2d26",
   "metadata": {},
   "outputs": [
    {
     "data": {
      "text/plain": [
       "[5, -4, -6, 9, 8]"
      ]
     },
     "execution_count": 91,
     "metadata": {},
     "output_type": "execute_result"
    }
   ],
   "source": [
    "def prob_289(n_list, c, d):\n",
    "    new_list = [n for n in n_list if c < n**2 < d ]\n",
    "    return new_list\n",
    "list1 = [5, -4, -6, 0, -14, 9, 8, 10, 11]\n",
    "prob_289(list1, 5, 100)"
   ]
  },
  {
   "cell_type": "code",
   "execution_count": 96,
   "id": "a2eedd5b",
   "metadata": {},
   "outputs": [
    {
     "data": {
      "text/plain": [
       "[7]"
      ]
     },
     "execution_count": 96,
     "metadata": {},
     "output_type": "execute_result"
    }
   ],
   "source": [
    "def prob_290(n_list):\n",
    "    new_list = [n for n in n_list if n % 6 == 1]\n",
    "    return new_list\n",
    "list1 = [5, -4, -6, 7, 0, -14, 9, 8, 10, 11]\n",
    "prob_290(list1)     "
   ]
  },
  {
   "cell_type": "code",
   "execution_count": 35,
   "id": "1c36f46f",
   "metadata": {},
   "outputs": [
    {
     "data": {
      "text/plain": [
       "<function __main__.average.<locals>.sum_count(element)>"
      ]
     },
     "execution_count": 35,
     "metadata": {},
     "output_type": "execute_result"
    }
   ],
   "source": [
    "def average():\n",
    "    sum_element = 0\n",
    "    count = 0\n",
    "    def sum_count(element):\n",
    "        nonlocal count, sum_element\n",
    "        count += 1\n",
    "        sum_element += element\n",
    "        return sum_element / count\n",
    "    return sum_count \n",
    "list1 = average()\n",
    "list1"
   ]
  },
  {
   "cell_type": "code",
   "execution_count": null,
   "id": "e1d31869",
   "metadata": {},
   "outputs": [],
   "source": []
  },
  {
   "cell_type": "code",
   "execution_count": null,
   "id": "45970b92",
   "metadata": {},
   "outputs": [],
   "source": []
  },
  {
   "cell_type": "code",
   "execution_count": null,
   "id": "a69ec95d",
   "metadata": {},
   "outputs": [],
   "source": []
  },
  {
   "cell_type": "code",
   "execution_count": null,
   "id": "6bd4feb9",
   "metadata": {},
   "outputs": [],
   "source": []
  },
  {
   "cell_type": "code",
   "execution_count": null,
   "id": "51204a6b",
   "metadata": {},
   "outputs": [],
   "source": []
  },
  {
   "cell_type": "code",
   "execution_count": null,
   "id": "0ffbe7e3",
   "metadata": {},
   "outputs": [],
   "source": []
  },
  {
   "cell_type": "code",
   "execution_count": null,
   "id": "b1ed3ac4",
   "metadata": {},
   "outputs": [],
   "source": []
  },
  {
   "cell_type": "code",
   "execution_count": 35,
   "id": "8877c90b",
   "metadata": {},
   "outputs": [
    {
     "name": "stdout",
     "output_type": "stream",
     "text": [
      "{\"name\": \"John\", \"age\": 30}\n",
      "{'name': 'John', 'age': 30}\n"
     ]
    }
   ],
   "source": [
    "import json\n",
    "\n",
    "data = {'name': 'John', \"age\": 30}\n",
    "    \n",
    "# JSON to string\n",
    "json_string = json.dumps(data)\n",
    "print(json_string)\n",
    "\n",
    "# String to JSON\n",
    "parsed_data = json.loads(json_string)\n",
    "print(parsed_data)\n"
   ]
  },
  {
   "cell_type": "code",
   "execution_count": null,
   "id": "9c8c58fe",
   "metadata": {},
   "outputs": [],
   "source": []
  },
  {
   "cell_type": "code",
   "execution_count": 5,
   "id": "dcce14b8",
   "metadata": {
    "scrolled": true
   },
   "outputs": [
    {
     "name": "stdout",
     "output_type": "stream",
     "text": [
      "{\"name\": \"John\", \"age\": 30}\n",
      "Person(name='John', age=30)\n"
     ]
    }
   ],
   "source": [
    "from dataclasses import dataclass, asdict\n",
    "import json\n",
    "\n",
    "@dataclass\n",
    "class Person:\n",
    "    name: str\n",
    "    age: int\n",
    "\n",
    "# Create an instance of the dataclass\n",
    "person = Person(name=\"John\", age=30)\n",
    "\n",
    "# Convert the dataclass instance to a dictionary\n",
    "person_dict = asdict(person)\n",
    "\n",
    "# Serialize the dictionary to JSON format\n",
    "json_string = json.dumps(person_dict)\n",
    "print(json_string)\n",
    "\n",
    "# Deserialize the JSON string back to a dictionary\n",
    "parsed_data = json.loads(json_string)\n",
    "\n",
    "# Create a new instance of the dataclass from the dictionary\n",
    "new_person = Person(**parsed_data)\n",
    "print(new_person)\n"
   ]
  },
  {
   "cell_type": "code",
   "execution_count": 28,
   "id": "1c72d60f",
   "metadata": {
    "scrolled": true
   },
   "outputs": [
    {
     "ename": "TypeError",
     "evalue": "Object of type datetime is not JSON serializable",
     "output_type": "error",
     "traceback": [
      "\u001b[0;31m---------------------------------------------------------------------------\u001b[0m",
      "\u001b[0;31mTypeError\u001b[0m                                 Traceback (most recent call last)",
      "Cell \u001b[0;32mIn[28], line 5\u001b[0m\n\u001b[1;32m      2\u001b[0m \u001b[38;5;28;01mimport\u001b[39;00m \u001b[38;5;21;01mjson\u001b[39;00m\n\u001b[1;32m      4\u001b[0m log_record \u001b[38;5;241m=\u001b[39m {\u001b[38;5;124m'\u001b[39m\u001b[38;5;124mtime\u001b[39m\u001b[38;5;124m'\u001b[39m: datetime\u001b[38;5;241m.\u001b[39mutcnow(), \u001b[38;5;124m'\u001b[39m\u001b[38;5;124mmessage\u001b[39m\u001b[38;5;124m'\u001b[39m: \u001b[38;5;124m'\u001b[39m\u001b[38;5;124mtesting\u001b[39m\u001b[38;5;124m'\u001b[39m}\n\u001b[0;32m----> 5\u001b[0m \u001b[43mjson\u001b[49m\u001b[38;5;241;43m.\u001b[39;49m\u001b[43mdumps\u001b[49m\u001b[43m(\u001b[49m\u001b[43mlog_record\u001b[49m\u001b[43m)\u001b[49m\n",
      "File \u001b[0;32m/usr/lib/python3.10/json/__init__.py:231\u001b[0m, in \u001b[0;36mdumps\u001b[0;34m(obj, skipkeys, ensure_ascii, check_circular, allow_nan, cls, indent, separators, default, sort_keys, **kw)\u001b[0m\n\u001b[1;32m    226\u001b[0m \u001b[38;5;66;03m# cached encoder\u001b[39;00m\n\u001b[1;32m    227\u001b[0m \u001b[38;5;28;01mif\u001b[39;00m (\u001b[38;5;129;01mnot\u001b[39;00m skipkeys \u001b[38;5;129;01mand\u001b[39;00m ensure_ascii \u001b[38;5;129;01mand\u001b[39;00m\n\u001b[1;32m    228\u001b[0m     check_circular \u001b[38;5;129;01mand\u001b[39;00m allow_nan \u001b[38;5;129;01mand\u001b[39;00m\n\u001b[1;32m    229\u001b[0m     \u001b[38;5;28mcls\u001b[39m \u001b[38;5;129;01mis\u001b[39;00m \u001b[38;5;28;01mNone\u001b[39;00m \u001b[38;5;129;01mand\u001b[39;00m indent \u001b[38;5;129;01mis\u001b[39;00m \u001b[38;5;28;01mNone\u001b[39;00m \u001b[38;5;129;01mand\u001b[39;00m separators \u001b[38;5;129;01mis\u001b[39;00m \u001b[38;5;28;01mNone\u001b[39;00m \u001b[38;5;129;01mand\u001b[39;00m\n\u001b[1;32m    230\u001b[0m     default \u001b[38;5;129;01mis\u001b[39;00m \u001b[38;5;28;01mNone\u001b[39;00m \u001b[38;5;129;01mand\u001b[39;00m \u001b[38;5;129;01mnot\u001b[39;00m sort_keys \u001b[38;5;129;01mand\u001b[39;00m \u001b[38;5;129;01mnot\u001b[39;00m kw):\n\u001b[0;32m--> 231\u001b[0m     \u001b[38;5;28;01mreturn\u001b[39;00m \u001b[43m_default_encoder\u001b[49m\u001b[38;5;241;43m.\u001b[39;49m\u001b[43mencode\u001b[49m\u001b[43m(\u001b[49m\u001b[43mobj\u001b[49m\u001b[43m)\u001b[49m\n\u001b[1;32m    232\u001b[0m \u001b[38;5;28;01mif\u001b[39;00m \u001b[38;5;28mcls\u001b[39m \u001b[38;5;129;01mis\u001b[39;00m \u001b[38;5;28;01mNone\u001b[39;00m:\n\u001b[1;32m    233\u001b[0m     \u001b[38;5;28mcls\u001b[39m \u001b[38;5;241m=\u001b[39m JSONEncoder\n",
      "File \u001b[0;32m/usr/lib/python3.10/json/encoder.py:199\u001b[0m, in \u001b[0;36mJSONEncoder.encode\u001b[0;34m(self, o)\u001b[0m\n\u001b[1;32m    195\u001b[0m         \u001b[38;5;28;01mreturn\u001b[39;00m encode_basestring(o)\n\u001b[1;32m    196\u001b[0m \u001b[38;5;66;03m# This doesn't pass the iterator directly to ''.join() because the\u001b[39;00m\n\u001b[1;32m    197\u001b[0m \u001b[38;5;66;03m# exceptions aren't as detailed.  The list call should be roughly\u001b[39;00m\n\u001b[1;32m    198\u001b[0m \u001b[38;5;66;03m# equivalent to the PySequence_Fast that ''.join() would do.\u001b[39;00m\n\u001b[0;32m--> 199\u001b[0m chunks \u001b[38;5;241m=\u001b[39m \u001b[38;5;28;43mself\u001b[39;49m\u001b[38;5;241;43m.\u001b[39;49m\u001b[43miterencode\u001b[49m\u001b[43m(\u001b[49m\u001b[43mo\u001b[49m\u001b[43m,\u001b[49m\u001b[43m \u001b[49m\u001b[43m_one_shot\u001b[49m\u001b[38;5;241;43m=\u001b[39;49m\u001b[38;5;28;43;01mTrue\u001b[39;49;00m\u001b[43m)\u001b[49m\n\u001b[1;32m    200\u001b[0m \u001b[38;5;28;01mif\u001b[39;00m \u001b[38;5;129;01mnot\u001b[39;00m \u001b[38;5;28misinstance\u001b[39m(chunks, (\u001b[38;5;28mlist\u001b[39m, \u001b[38;5;28mtuple\u001b[39m)):\n\u001b[1;32m    201\u001b[0m     chunks \u001b[38;5;241m=\u001b[39m \u001b[38;5;28mlist\u001b[39m(chunks)\n",
      "File \u001b[0;32m/usr/lib/python3.10/json/encoder.py:257\u001b[0m, in \u001b[0;36mJSONEncoder.iterencode\u001b[0;34m(self, o, _one_shot)\u001b[0m\n\u001b[1;32m    252\u001b[0m \u001b[38;5;28;01melse\u001b[39;00m:\n\u001b[1;32m    253\u001b[0m     _iterencode \u001b[38;5;241m=\u001b[39m _make_iterencode(\n\u001b[1;32m    254\u001b[0m         markers, \u001b[38;5;28mself\u001b[39m\u001b[38;5;241m.\u001b[39mdefault, _encoder, \u001b[38;5;28mself\u001b[39m\u001b[38;5;241m.\u001b[39mindent, floatstr,\n\u001b[1;32m    255\u001b[0m         \u001b[38;5;28mself\u001b[39m\u001b[38;5;241m.\u001b[39mkey_separator, \u001b[38;5;28mself\u001b[39m\u001b[38;5;241m.\u001b[39mitem_separator, \u001b[38;5;28mself\u001b[39m\u001b[38;5;241m.\u001b[39msort_keys,\n\u001b[1;32m    256\u001b[0m         \u001b[38;5;28mself\u001b[39m\u001b[38;5;241m.\u001b[39mskipkeys, _one_shot)\n\u001b[0;32m--> 257\u001b[0m \u001b[38;5;28;01mreturn\u001b[39;00m \u001b[43m_iterencode\u001b[49m\u001b[43m(\u001b[49m\u001b[43mo\u001b[49m\u001b[43m,\u001b[49m\u001b[43m \u001b[49m\u001b[38;5;241;43m0\u001b[39;49m\u001b[43m)\u001b[49m\n",
      "File \u001b[0;32m/usr/lib/python3.10/json/encoder.py:179\u001b[0m, in \u001b[0;36mJSONEncoder.default\u001b[0;34m(self, o)\u001b[0m\n\u001b[1;32m    160\u001b[0m \u001b[38;5;28;01mdef\u001b[39;00m \u001b[38;5;21mdefault\u001b[39m(\u001b[38;5;28mself\u001b[39m, o):\n\u001b[1;32m    161\u001b[0m \u001b[38;5;250m    \u001b[39m\u001b[38;5;124;03m\"\"\"Implement this method in a subclass such that it returns\u001b[39;00m\n\u001b[1;32m    162\u001b[0m \u001b[38;5;124;03m    a serializable object for ``o``, or calls the base implementation\u001b[39;00m\n\u001b[1;32m    163\u001b[0m \u001b[38;5;124;03m    (to raise a ``TypeError``).\u001b[39;00m\n\u001b[0;32m   (...)\u001b[0m\n\u001b[1;32m    177\u001b[0m \n\u001b[1;32m    178\u001b[0m \u001b[38;5;124;03m    \"\"\"\u001b[39;00m\n\u001b[0;32m--> 179\u001b[0m     \u001b[38;5;28;01mraise\u001b[39;00m \u001b[38;5;167;01mTypeError\u001b[39;00m(\u001b[38;5;124mf\u001b[39m\u001b[38;5;124m'\u001b[39m\u001b[38;5;124mObject of type \u001b[39m\u001b[38;5;132;01m{\u001b[39;00mo\u001b[38;5;241m.\u001b[39m\u001b[38;5;18m__class__\u001b[39m\u001b[38;5;241m.\u001b[39m\u001b[38;5;18m__name__\u001b[39m\u001b[38;5;132;01m}\u001b[39;00m\u001b[38;5;124m \u001b[39m\u001b[38;5;124m'\u001b[39m\n\u001b[1;32m    180\u001b[0m                     \u001b[38;5;124mf\u001b[39m\u001b[38;5;124m'\u001b[39m\u001b[38;5;124mis not JSON serializable\u001b[39m\u001b[38;5;124m'\u001b[39m)\n",
      "\u001b[0;31mTypeError\u001b[0m: Object of type datetime is not JSON serializable"
     ]
    }
   ],
   "source": [
    "from datetime import datetime\n",
    "import json\n",
    "\n",
    "log_record = {'time': datetime.utcnow(), 'message': 'testing'}\n",
    "json.dumps(log_record)"
   ]
  },
  {
   "cell_type": "code",
   "execution_count": 29,
   "id": "4374095a",
   "metadata": {},
   "outputs": [
    {
     "data": {
      "text/plain": [
       "'{\"time\": \"2023-08-02T09:00:33.353076\", \"message\": \"testing\"}'"
      ]
     },
     "execution_count": 29,
     "metadata": {},
     "output_type": "execute_result"
    }
   ],
   "source": [
    "from datetime import datetime\n",
    "import json\n",
    "\n",
    "# Sample log record containing a datetime object and a message\n",
    "log_record = {'time': datetime.utcnow(), 'message': 'testing'}\n",
    "\n",
    "# Custom function to format datetime objects to ISO format\n",
    "def format_iso(dt):\n",
    "    return dt.isoformat()\n",
    "\n",
    "# Using json.dumps() to serialize the dictionary to a JSON string\n",
    "json_string = json.dumps(log_record, default=format_iso)\n",
    "json_string"
   ]
  },
  {
   "cell_type": "code",
   "execution_count": 33,
   "id": "991e0159",
   "metadata": {},
   "outputs": [
    {
     "name": "stdout",
     "output_type": "stream",
     "text": [
      "{\"name\": \"test\", \"time\": \"2023-08-02T09:07:06.151573\"}\n"
     ]
    }
   ],
   "source": [
    "import json\n",
    "from datetime import datetime\n",
    "\n",
    "class CustomJSONEncoder(json.JSONEncoder):\n",
    "    def default(self, arg):\n",
    "        if isinstance(arg, datetime):\n",
    "            return arg.isoformat()  # If the argument is a datetime object, convert it to ISO format\n",
    "        else:\n",
    "            return super().default(arg)  # For non-datetime objects, use the default JSON encoding\n",
    "\n",
    "# Create a dictionary containing a 'name' field and the current UTC time in the 'time' field\n",
    "data = dict(name='test', time=datetime.utcnow())\n",
    "\n",
    "# Use json.dumps() to convert the dictionary to a JSON string, while applying the CustomJSONEncoder for serialization\n",
    "json_string = json.dumps(data, cls=CustomJSONEncoder)\n",
    "\n",
    "print(json_string)"
   ]
  },
  {
   "cell_type": "code",
   "execution_count": 5,
   "id": "b4b5e0bb",
   "metadata": {},
   "outputs": [
    {
     "data": {
      "text/plain": [
       "5"
      ]
     },
     "execution_count": 5,
     "metadata": {},
     "output_type": "execute_result"
    }
   ],
   "source": [
    "def add_numbers(a: int, b: int) -> int:\n",
    "    return a + b\n",
    "add_numbers(2, 3)"
   ]
  },
  {
   "cell_type": "code",
   "execution_count": 13,
   "id": "8bb370e2",
   "metadata": {},
   "outputs": [],
   "source": [
    "def show_count(count: int, word: str) -> str:\n",
    "    show_count(3, 'mouse', 'mice')\n",
    "def test_irregular() -> None:\n",
    "    got = show_count(2, 'child', 'children')\n",
    "    assert got == '2 children'\n"
   ]
  },
  {
   "cell_type": "code",
   "execution_count": 14,
   "id": "b196bf21",
   "metadata": {},
   "outputs": [
    {
     "name": "stdout",
     "output_type": "stream",
     "text": [
      "Dog says: Woof!\n",
      "Dog is walking.\n",
      "Duck says: Quack!\n",
      "Duck is walking.\n"
     ]
    }
   ],
   "source": [
    "class Dog:\n",
    "    def quack(self):\n",
    "        print(\"Dog says: Woof!\")\n",
    "\n",
    "    def walk(self):\n",
    "        print(\"Dog is walking.\")\n",
    "\n",
    "class Duck:\n",
    "    def quack(self):\n",
    "        print(\"Duck says: Quack!\")\n",
    "\n",
    "    def walk(self):\n",
    "        print(\"Duck is walking.\")\n",
    "        \n",
    "def play_with_animal(animal):\n",
    "    animal.quack()\n",
    "    animal.walk()\n",
    "\n",
    "dog = Dog()\n",
    "duck = Duck()\n",
    "\n",
    "play_with_animal(dog)  # Output: Dog says: Woof!  Dog is walking.\n",
    "play_with_animal(duck)  # Output: Duck says: Quack!  Duck is walking.\n"
   ]
  },
  {
   "cell_type": "code",
   "execution_count": 1,
   "id": "ccfb5955",
   "metadata": {},
   "outputs": [
    {
     "name": "stdout",
     "output_type": "stream",
     "text": [
      "running target()\n"
     ]
    }
   ],
   "source": [
    "def deco(func):\n",
    "    def inner():\n",
    "        print('running inner()')\n",
    "    return inner\n",
    "def target():\n",
    "    print('running target()')\n",
    "target()"
   ]
  },
  {
   "cell_type": "code",
   "execution_count": 2,
   "id": "8da0b619",
   "metadata": {},
   "outputs": [
    {
     "data": {
      "text/plain": [
       "<function __main__.target()>"
      ]
     },
     "execution_count": 2,
     "metadata": {},
     "output_type": "execute_result"
    }
   ],
   "source": [
    "target"
   ]
  },
  {
   "cell_type": "code",
   "execution_count": 3,
   "id": "3660739d",
   "metadata": {},
   "outputs": [],
   "source": [
    "registry = []\n",
    "def register(func):\n",
    "    print(f'running register({func})')\n",
    "    registry.append(func)\n",
    "    return func"
   ]
  },
  {
   "cell_type": "code",
   "execution_count": 4,
   "id": "19a2ea98",
   "metadata": {},
   "outputs": [],
   "source": [
    "def f1():\n",
    "    print('running f1()')"
   ]
  },
  {
   "cell_type": "code",
   "execution_count": 6,
   "id": "6d836367",
   "metadata": {},
   "outputs": [],
   "source": [
    "def f2():\n",
    "    print('running f2()')\n",
    "def f3():\n",
    "    print('running f3()')\n",
    "def main():\n",
    "    print('running main()')\n",
    "    print('registry ->', registry)\n",
    "    f1()\n",
    "    f2()\n",
    "    f3()"
   ]
  },
  {
   "cell_type": "code",
   "execution_count": 7,
   "id": "0705a298",
   "metadata": {},
   "outputs": [
    {
     "name": "stdout",
     "output_type": "stream",
     "text": [
      "running main()\n",
      "registry -> []\n",
      "running f1()\n",
      "running f2()\n",
      "running f3()\n"
     ]
    }
   ],
   "source": [
    "if __name__ == '__main__':\n",
    "    main()"
   ]
  },
  {
   "cell_type": "code",
   "execution_count": 13,
   "id": "08334d1d",
   "metadata": {},
   "outputs": [
    {
     "name": "stdout",
     "output_type": "stream",
     "text": [
      "3\n",
      "6\n"
     ]
    }
   ],
   "source": [
    "def f1(a):\n",
    "    print(a)\n",
    "    print(b)\n",
    "b=6\n",
    "f1(3)\n",
    "def f2(a):\n",
    "    print(a)\n",
    "    print(b)\n",
    "    b=9\n",
    "f2(3)"
   ]
  },
  {
   "cell_type": "code",
   "execution_count": null,
   "id": "a2245583",
   "metadata": {},
   "outputs": [],
   "source": []
  }
 ],
 "metadata": {
  "kernelspec": {
   "display_name": "Python 3 (ipykernel)",
   "language": "python",
   "name": "python3"
  },
  "language_info": {
   "codemirror_mode": {
    "name": "ipython",
    "version": 3
   },
   "file_extension": ".py",
   "mimetype": "text/x-python",
   "name": "python",
   "nbconvert_exporter": "python",
   "pygments_lexer": "ipython3",
   "version": "3.10.12"
  }
 },
 "nbformat": 4,
 "nbformat_minor": 5
}
