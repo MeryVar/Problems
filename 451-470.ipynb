{
 "cells": [
  {
   "cell_type": "code",
   "execution_count": 21,
   "id": "a176cc48",
   "metadata": {},
   "outputs": [
    {
     "data": {
      "text/plain": [
       "[[15, 15, 15], [15, 15, 15], [15, 15, 15]]"
      ]
     },
     "execution_count": 21,
     "metadata": {},
     "output_type": "execute_result"
    }
   ],
   "source": [
    "def prob_451(matrix):\n",
    "    sum_main_diag = 0\n",
    "    sum_anti_diag = 0\n",
    "    for i in range(len(matrix)):\n",
    "        for j in range(len(matrix)):\n",
    "            if i == j:\n",
    "                sum_main_diag += matrix[i][j]\n",
    "            if i + j == len(matrix) - 1:\n",
    "                sum_anti_diag += matrix[i][j]          \n",
    "    return [[(sum_main_diag + sum_anti_diag) // 2] * len(matrix) for i in range(len(matrix))]\n",
    "\n",
    "matrix = [[1, 2, 3],\n",
    "          [4, 5, 6],\n",
    "          [7, 8, 9]]\n",
    "prob_451(matrix)"
   ]
  },
  {
   "cell_type": "code",
   "execution_count": 19,
   "id": "bc1b0542",
   "metadata": {},
   "outputs": [
    {
     "data": {
      "text/plain": [
       "[[15, 15, 15], [15, 15, 15], [15, 15, 15]]"
      ]
     },
     "execution_count": 19,
     "metadata": {},
     "output_type": "execute_result"
    }
   ],
   "source": [
    "def prob_451_other_solution(matrix):\n",
    "    mean = sum(matrix[i][i] + matrix[i][len(matrix) - 1 - i] for i in range(len(matrix))) // 2\n",
    "    return [[mean] * len(matrix) for i in range(len(matrix))]\n",
    "\n",
    "matrix = [[1, 2, 3],\n",
    "          [4, 5, 6],\n",
    "          [7, 8, 9]]\n",
    "prob_451_other_solution(matrix)"
   ]
  },
  {
   "cell_type": "code",
   "execution_count": 12,
   "id": "96914e1f",
   "metadata": {},
   "outputs": [
    {
     "data": {
      "text/plain": [
       "[[10, 10, 10], [52, 52, 52], [130, 130, 130]]"
      ]
     },
     "execution_count": 12,
     "metadata": {},
     "output_type": "execute_result"
    }
   ],
   "source": [
    "def prob_452(matrix):\n",
    "    return [[(matrix[i][0] ** 2 + matrix[i][-1] ** 2)] * len(matrix) for i in range(len(matrix))]\n",
    "\n",
    "matrix = [[1, 2, 3],\n",
    "          [4, 5, 6],\n",
    "          [7, 8, 9]]\n",
    "prob_452(matrix)"
   ]
  },
  {
   "cell_type": "code",
   "execution_count": 25,
   "id": "eea3846e",
   "metadata": {},
   "outputs": [
    {
     "data": {
      "text/plain": [
       "[[26, 26, 26], [26, 26, 26], [26, 26, 26]]"
      ]
     },
     "execution_count": 25,
     "metadata": {},
     "output_type": "execute_result"
    }
   ],
   "source": [
    "def prob_453(matrix, a, b):\n",
    "    sum_num = 0\n",
    "    for i in range(len(matrix)):\n",
    "        for j in range(len(matrix)):\n",
    "            if i <= j and a <= matrix[i][j] <= b:\n",
    "                sum_num += matrix[i][j]\n",
    "    return [[sum_num] * len(matrix) for i in range(len(matrix))]\n",
    "    \n",
    "matrix = [[1, 2, 3],\n",
    "          [4, 5, 6],\n",
    "          [7, 8, 9]]\n",
    "prob_453(matrix, 1, 9)"
   ]
  },
  {
   "cell_type": "code",
   "execution_count": 74,
   "id": "18d1b9f7",
   "metadata": {},
   "outputs": [
    {
     "data": {
      "text/plain": [
       "[[14, 14, 14], [77, 77, 77], [194, 194, 194]]"
      ]
     },
     "execution_count": 74,
     "metadata": {},
     "output_type": "execute_result"
    }
   ],
   "source": [
    "def prob_454(matrix):\n",
    "    list_B = []\n",
    "    for i in range(len(matrix)):\n",
    "        row_sum = 0\n",
    "        for j in matrix[i]:\n",
    "            row_sum += j ** 2\n",
    "        row = [row_sum] * len(matrix)\n",
    "        list_B.append(row)\n",
    "    return list_B\n",
    "\n",
    "matrix = [[1, 2, 3],\n",
    "          [4, 5, 6],\n",
    "          [7, 8, 9]]\n",
    "prob_454(matrix)"
   ]
  },
  {
   "cell_type": "code",
   "execution_count": 31,
   "id": "3af76345",
   "metadata": {},
   "outputs": [
    {
     "data": {
      "text/plain": [
       "[[4725, 4725, 4725], [4725, 4725, 4725], [4725, 4725, 4725]]"
      ]
     },
     "execution_count": 31,
     "metadata": {},
     "output_type": "execute_result"
    }
   ],
   "source": [
    "def prob_455(matrix):\n",
    "    mul_main_diag = 1\n",
    "    mul_anti_diag = 1\n",
    "    for i in range(len(matrix)):\n",
    "        for j in range(len(matrix)):\n",
    "            if i == j:\n",
    "                mul_main_diag *= matrix[i][j]\n",
    "            if i + j == len(matrix) - 1:\n",
    "                mul_anti_diag *= matrix[i][j]          \n",
    "    return [[(mul_main_diag * mul_anti_diag)] * len(matrix) for i in range(len(matrix))]\n",
    "\n",
    "matrix = [[1, 2, 3],\n",
    "          [4, 5, 6],\n",
    "          [7, 8, 9]]\n",
    "prob_455(matrix)"
   ]
  },
  {
   "cell_type": "code",
   "execution_count": 41,
   "id": "0ba3b482",
   "metadata": {},
   "outputs": [
    {
     "data": {
      "text/plain": [
       "[[2, 2, 2], [2, 2, 2], [2, 2, 2]]"
      ]
     },
     "execution_count": 41,
     "metadata": {},
     "output_type": "execute_result"
    }
   ],
   "source": [
    "def prob_456(matrix):    \n",
    "    return [[len([num for num in range(len(matrix)) if num > 0])] * len(matrix) for i in range(len(matrix))]\n",
    "\n",
    "matrix = [[1, -2, -3],\n",
    "          [4, -5, -6],\n",
    "          [7, 8, 9]]\n",
    "prob_456(matrix)"
   ]
  },
  {
   "cell_type": "code",
   "execution_count": 51,
   "id": "223ca71c",
   "metadata": {},
   "outputs": [
    {
     "data": {
      "text/plain": [
       "[[1, 1, 1], [1, 1, 1], [1, 1, 1]]"
      ]
     },
     "execution_count": 51,
     "metadata": {},
     "output_type": "execute_result"
    }
   ],
   "source": [
    "def prob_457(matrix):\n",
    "    return [[sum([num for num in range(len(matrix)) if num % 2 != 0])] * len(matrix) for i in range(len(matrix))]\n",
    "\n",
    "matrix = [[9, 2, -3],\n",
    "          [4, -5, -6],\n",
    "          [7, 8, 9]]\n",
    "prob_457(matrix)"
   ]
  },
  {
   "cell_type": "code",
   "execution_count": 75,
   "id": "565629ce",
   "metadata": {},
   "outputs": [
    {
     "data": {
      "text/plain": [
       "[[1, 1, 1], [3, 3, 3], [3, 3, 3]]"
      ]
     },
     "execution_count": 75,
     "metadata": {},
     "output_type": "execute_result"
    }
   ],
   "source": [
    "def prob_458(matrix, k):\n",
    "    list_B = []\n",
    "    for row in matrix:\n",
    "        row_counts = [len([num for num in row if abs(num) > k])] * len(matrix)\n",
    "        list_B.append(row_counts)\n",
    "    return list_B\n",
    "\n",
    "matrix = [[1, 2, -3],\n",
    "          [4, 5, -6],\n",
    "          [7, 8, 9]]\n",
    "prob_458(matrix, 2)"
   ]
  },
  {
   "cell_type": "code",
   "execution_count": 76,
   "id": "d5635d7c",
   "metadata": {},
   "outputs": [
    {
     "data": {
      "text/plain": [
       "[[6, 6, 6], [30, 30, 30], [1, 1, 1]]"
      ]
     },
     "execution_count": 76,
     "metadata": {},
     "output_type": "execute_result"
    }
   ],
   "source": [
    "def prob_459(matrix):\n",
    "    def mul(lst):\n",
    "        result = 1\n",
    "        for num in lst:\n",
    "            result *= num\n",
    "        return result\n",
    "\n",
    "    list_B = []\n",
    "    for row in matrix:\n",
    "        neg_nums = [num for num in row if num < 0]\n",
    "        row_mul = mul(neg_nums)\n",
    "        row_values = [row_mul] * len(row)\n",
    "        list_B.append(row_values)\n",
    "    return list_B\n",
    "\n",
    "matrix = [[1, -2, -3],\n",
    "          [4, -5, -6],\n",
    "          [7, 8, 9]]\n",
    "prob_459(matrix)"
   ]
  },
  {
   "cell_type": "code",
   "execution_count": 77,
   "id": "2fac55ec",
   "metadata": {},
   "outputs": [
    {
     "data": {
      "text/plain": [
       "[[4, 4, 4], [576, 576, 576], [64, 64, 64]]"
      ]
     },
     "execution_count": 77,
     "metadata": {},
     "output_type": "execute_result"
    }
   ],
   "source": [
    "def prob_460(matrix):\n",
    "    list_B = []\n",
    "    for row in matrix:\n",
    "        mul = 1\n",
    "        for num in row:\n",
    "            if num % 2 == 0:\n",
    "                mul *= num ** 2\n",
    "        list_B.append([mul] * len(row))\n",
    "    return list_B\n",
    "\n",
    "matrix = [[1, -2, -3],\n",
    "          [4, -5, -6],\n",
    "          [7, 8, 9]]\n",
    "prob_460(matrix)"
   ]
  },
  {
   "cell_type": "code",
   "execution_count": 73,
   "id": "bbd17158",
   "metadata": {},
   "outputs": [
    {
     "data": {
      "text/plain": [
       "[-2]"
      ]
     },
     "execution_count": 73,
     "metadata": {},
     "output_type": "execute_result"
    }
   ],
   "source": [
    "def prob_461(matrix, a, b):\n",
    "    return [el for row in matrix for el in row if a <= el ** 2 <= b]\n",
    "    \n",
    "matrix = [[1, -2, -3],\n",
    "          [4, -5, -6],\n",
    "          [7, 8, 9]]\n",
    "prob_461(matrix, 2, 6)"
   ]
  },
  {
   "cell_type": "code",
   "execution_count": 84,
   "id": "33134f98",
   "metadata": {},
   "outputs": [
    {
     "data": {
      "text/plain": [
       "[[4, 0, -6]]"
      ]
     },
     "execution_count": 84,
     "metadata": {},
     "output_type": "execute_result"
    }
   ],
   "source": [
    "def prob_462(matrix):\n",
    "    list_X = []\n",
    "    for i in range(len(matrix)):\n",
    "        if matrix[i][i] == 0:\n",
    "            list_X.append(matrix[i])\n",
    "    return list_X\n",
    "\n",
    "matrix = [[1, -2, -3],\n",
    "          [4, 0, -6],\n",
    "          [7, 8, 9]]\n",
    "prob_462(matrix)"
   ]
  },
  {
   "cell_type": "code",
   "execution_count": 85,
   "id": "e201a0f4",
   "metadata": {},
   "outputs": [
    {
     "data": {
      "text/plain": [
       "[-3, -6, 24]"
      ]
     },
     "execution_count": 85,
     "metadata": {},
     "output_type": "execute_result"
    }
   ],
   "source": [
    "def prob_463(matrix):\n",
    "    list_X = []\n",
    "    for i in range(len(matrix)):\n",
    "        for j in range(len(matrix)):\n",
    "            if j + i == len(matrix) - 1:\n",
    "                list_X.append(sum(matrix[i][j:]))\n",
    "    return list_X\n",
    "\n",
    "matrix = [[1, -2, -3],\n",
    "          [4, 0, -6],\n",
    "          [7, 8, 9]]\n",
    "prob_463(matrix)"
   ]
  },
  {
   "cell_type": "code",
   "execution_count": 88,
   "id": "4de5f109",
   "metadata": {},
   "outputs": [
    {
     "data": {
      "text/plain": [
       "[6, -24, 9]"
      ]
     },
     "execution_count": 88,
     "metadata": {},
     "output_type": "execute_result"
    }
   ],
   "source": [
    "def prob_464(matrix):\n",
    "    list_X = []\n",
    "    for i in range(len(matrix)):\n",
    "        mul = 1\n",
    "        for j in range(i, len(matrix)):\n",
    "            mul *= matrix[i][j]\n",
    "        list_X.append(mul)\n",
    "    return list_X\n",
    "\n",
    "matrix = [[1, -2, -3],\n",
    "          [4, 4, -6],\n",
    "          [7, 8, 9]]\n",
    "prob_464(matrix)"
   ]
  },
  {
   "cell_type": "code",
   "execution_count": 91,
   "id": "54e7c0a9",
   "metadata": {},
   "outputs": [
    {
     "data": {
      "text/plain": [
       "[0, 0, 1]"
      ]
     },
     "execution_count": 91,
     "metadata": {},
     "output_type": "execute_result"
    }
   ],
   "source": [
    "def prob_465(matrix, b):\n",
    "    list_X = []\n",
    "    for i in range(len(matrix)):\n",
    "        if sum(matrix[i]) <= b:\n",
    "            list_X.append(0)\n",
    "        else:\n",
    "            list_X.append(1)\n",
    "    return list_X\n",
    "\n",
    "matrix = [[1, -2, -3],\n",
    "          [4, 4, -6],\n",
    "          [7, 8, 9]]\n",
    "prob_465(matrix, 4)"
   ]
  },
  {
   "cell_type": "code",
   "execution_count": 93,
   "id": "e1fd6a0c",
   "metadata": {},
   "outputs": [
    {
     "data": {
      "text/plain": [
       "[3, 3, -3]"
      ]
     },
     "execution_count": 93,
     "metadata": {},
     "output_type": "execute_result"
    }
   ],
   "source": [
    "def prob_466(matrix):\n",
    "    list_X = []\n",
    "    for row in matrix:\n",
    "        if sorted(row) == row:\n",
    "            list_X.append(-3)\n",
    "        else:\n",
    "            list_X.append(3)\n",
    "    return list_X\n",
    "\n",
    "matrix = [[1, -2, -3],\n",
    "          [4, 4, -6],\n",
    "          [7, 8, 9]]\n",
    "prob_466(matrix)"
   ]
  },
  {
   "cell_type": "code",
   "execution_count": 98,
   "id": "8ef154d2",
   "metadata": {},
   "outputs": [
    {
     "data": {
      "text/plain": [
       "[-3, 1, 1, -6, -6, 4, 9, 9, 9]"
      ]
     },
     "execution_count": 98,
     "metadata": {},
     "output_type": "execute_result"
    }
   ],
   "source": [
    "def prob_467(matrix):\n",
    "    list_X = []\n",
    "    for i in range(len(matrix)):\n",
    "        matrix_row = matrix[i]\n",
    "        for num in matrix_row:\n",
    "            if num < 0:\n",
    "                list_X.append(matrix_row[0])\n",
    "            else:\n",
    "                list_X.append(matrix_row[-1])\n",
    "    return list_X\n",
    "\n",
    "matrix = [[1, -2, -3],\n",
    "          [4, 4, -6],\n",
    "          [7, 8, 9]]\n",
    "prob_467(matrix)"
   ]
  },
  {
   "cell_type": "code",
   "execution_count": 108,
   "id": "c87d736b",
   "metadata": {},
   "outputs": [
    {
     "data": {
      "text/plain": [
       "[11, 18, 21]"
      ]
     },
     "execution_count": 108,
     "metadata": {},
     "output_type": "execute_result"
    }
   ],
   "source": [
    "def prob_468(matrix):\n",
    "    list_X = []\n",
    "    sum_diag = 0\n",
    "    for i in range(len(matrix)):\n",
    "        list_X.append(matrix[i][len(matrix) - i - 1])\n",
    "        sum_diag += matrix[i][i]\n",
    "    return [x + sum_diag for x in list_X]\n",
    "\n",
    "matrix = [[1, -2, -3],\n",
    "          [4, 4, -6],\n",
    "          [7, 8, 9]]\n",
    "prob_468(matrix)"
   ]
  },
  {
   "cell_type": "code",
   "execution_count": 118,
   "id": "59805486",
   "metadata": {},
   "outputs": [
    {
     "data": {
      "text/plain": [
       "[-3]"
      ]
     },
     "execution_count": 118,
     "metadata": {},
     "output_type": "execute_result"
    }
   ],
   "source": [
    "def prob_469(matrix):\n",
    "    list_X = []\n",
    "    for i in range(len(matrix)):\n",
    "        for j in range(len(matrix)):\n",
    "            if i + j == len(matrix) - 1 and matrix[i][j] < 0:\n",
    "                list_X.append(matrix[i][j])\n",
    "    return list_X\n",
    "    \n",
    "matrix = [[1, -2, -3],\n",
    "          [4, 4, -6],\n",
    "          [7, 8, 9]]\n",
    "prob_469(matrix)"
   ]
  },
  {
   "cell_type": "code",
   "execution_count": 116,
   "id": "9412694d",
   "metadata": {},
   "outputs": [
    {
     "data": {
      "text/plain": [
       "[0, 0, 0, 0, 2, 0, 0, 0, 9]"
      ]
     },
     "execution_count": 116,
     "metadata": {},
     "output_type": "execute_result"
    }
   ],
   "source": [
    "def prob_470(matrix):\n",
    "    list_X = []\n",
    "    for i in range(len(matrix)):\n",
    "        for j in range(len(matrix)):\n",
    "            if i == j and matrix[i][0] == matrix[i][-1]:\n",
    "                list_X.append(matrix[i][j])\n",
    "            else:\n",
    "                list_X.append(0)\n",
    "    return list_X\n",
    "\n",
    "matrix = [[1, -2, -3],\n",
    "          [4, 2, 4],\n",
    "          [9, 8, 9]]\n",
    "prob_470(matrix)"
   ]
  }
 ],
 "metadata": {
  "kernelspec": {
   "display_name": "Python 3 (ipykernel)",
   "language": "python",
   "name": "python3"
  },
  "language_info": {
   "codemirror_mode": {
    "name": "ipython",
    "version": 3
   },
   "file_extension": ".py",
   "mimetype": "text/x-python",
   "name": "python",
   "nbconvert_exporter": "python",
   "pygments_lexer": "ipython3",
   "version": "3.10.12"
  }
 },
 "nbformat": 4,
 "nbformat_minor": 5
}
