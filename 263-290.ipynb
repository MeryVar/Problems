{
 "cells": [
  {
   "cell_type": "code",
   "execution_count": 2,
   "id": "25fad737",
   "metadata": {},
   "outputs": [
    {
     "data": {
      "text/plain": [
       "6"
      ]
     },
     "execution_count": 2,
     "metadata": {},
     "output_type": "execute_result"
    }
   ],
   "source": [
    "def prob_263(my_list1, my_list2):\n",
    "    positive_numbers1 = [n for n in my_list1 if n > 0]\n",
    "    positive_numbers2 = [n for n in my_list2 if n > 0]\n",
    "    count1 = count2 = 0\n",
    "    for number in positive_numbers1:\n",
    "        count1 += 1\n",
    "    for number in positive_numbers2:\n",
    "        count2 += 1\n",
    "    return count1 + count2\n",
    "list_1 = [5, -4, -6, 9, 8]\n",
    "list_2 = [5, -2, 3, -4, 7]\n",
    "prob_263(list_1, list_2)"
   ]
  },
  {
   "cell_type": "code",
   "execution_count": 3,
   "id": "8549993a",
   "metadata": {},
   "outputs": [
    {
     "data": {
      "text/plain": [
       "4"
      ]
     },
     "execution_count": 3,
     "metadata": {},
     "output_type": "execute_result"
    }
   ],
   "source": [
    "def prob_264(my_list1, my_list2):\n",
    "    positive_numbers1 = [n for n in my_list1 if n < 0]\n",
    "    positive_numbers2 = [n for n in my_list2 if n < 0]\n",
    "    count1 = count2 = 0\n",
    "    for number in positive_numbers1:\n",
    "        count1 += 1\n",
    "    for number in positive_numbers2:\n",
    "        count2 += 1\n",
    "    return count1 + count2\n",
    "list_1 = [5, -4, -6, 9, 8]\n",
    "list_2 = [5, -2, 3, -4, 7]\n",
    "prob_264(list_1, list_2) "
   ]
  },
  {
   "cell_type": "code",
   "execution_count": 4,
   "id": "3269091d",
   "metadata": {},
   "outputs": [
    {
     "data": {
      "text/plain": [
       "0.014285714285714285"
      ]
     },
     "execution_count": 4,
     "metadata": {},
     "output_type": "execute_result"
    }
   ],
   "source": [
    "def prob_265(my_list1, my_list2):\n",
    "    mul_my_list2 = 1\n",
    "    for number in my_list2:\n",
    "        mul_my_list2 *= number\n",
    "    return sum([n for n in my_list1]) / mul_my_list2\n",
    "list_1 = [5, -4, -6, 9, 8]\n",
    "list_2 = [5, -2, 3, -4, 7]\n",
    "prob_265(list_1, list_2) "
   ]
  },
  {
   "cell_type": "code",
   "execution_count": 5,
   "id": "1e845198",
   "metadata": {},
   "outputs": [
    {
     "data": {
      "text/plain": [
       "8"
      ]
     },
     "execution_count": 5,
     "metadata": {},
     "output_type": "execute_result"
    }
   ],
   "source": [
    "def prob_266(my_list1, my_list2):\n",
    "     return sum([n for n in my_list1 if n % 2 == 1]) - sum([n for n in my_list2 if n % 2 == 0])\n",
    "list_1 = [5, -4, -6, 9, 8]\n",
    "list_2 = [5, 2, 3, 4, 7]\n",
    "prob_266(list_1, list_2)  "
   ]
  },
  {
   "cell_type": "code",
   "execution_count": 6,
   "id": "79402651",
   "metadata": {},
   "outputs": [
    {
     "data": {
      "text/plain": [
       "49"
      ]
     },
     "execution_count": 6,
     "metadata": {},
     "output_type": "execute_result"
    }
   ],
   "source": [
    "def prob_267(my_list1, my_list2):\n",
    "    return sum([n for n in my_list1 if n % 7 == 0]) + sum([n for n in my_list2 if n % 7 == 0])\n",
    "list_1 = [5, -4, -6, 14, 9, 8]\n",
    "list_2 = [5, 28, 3, 4, 7]\n",
    "prob_267(list_1, list_2) "
   ]
  },
  {
   "cell_type": "code",
   "execution_count": 7,
   "id": "585fb347",
   "metadata": {},
   "outputs": [
    {
     "data": {
      "text/plain": [
       "6"
      ]
     },
     "execution_count": 7,
     "metadata": {},
     "output_type": "execute_result"
    }
   ],
   "source": [
    "def prob_268(my_list1, my_list2, k):\n",
    "    numbers1 = [n for n in my_list1 if n % k == 0]\n",
    "    numbers2 = [n for n in my_list2 if n % k == 0]\n",
    "    count1 = count2 = 0\n",
    "    for number in numbers1:\n",
    "        count1 += 1\n",
    "    for number in numbers2:\n",
    "        count2 += 1\n",
    "    return count1 + count2\n",
    "list_1 = [5, -4, -6, 14, 9, 8]\n",
    "list_2 = [5, 28, 3, 4, 7]\n",
    "prob_268(list_1, list_2, 2) "
   ]
  },
  {
   "cell_type": "code",
   "execution_count": 8,
   "id": "9c6e7e6a",
   "metadata": {},
   "outputs": [
    {
     "data": {
      "text/plain": [
       "40"
      ]
     },
     "execution_count": 8,
     "metadata": {},
     "output_type": "execute_result"
    }
   ],
   "source": [
    "def prob_269(my_list1, my_list2):\n",
    "    return sum(my_list1[::2]) + sum([my_list2[i] for i in range(1, len(my_list2), 2)])\n",
    "list_1 = [5, -4, -6, 14, 9, 8]\n",
    "list_2 = [5, 28, 3, 4, 7]\n",
    "prob_269(list_1, list_2)"
   ]
  },
  {
   "cell_type": "code",
   "execution_count": 9,
   "id": "5073df26",
   "metadata": {},
   "outputs": [
    {
     "data": {
      "text/plain": [
       "180"
      ]
     },
     "execution_count": 9,
     "metadata": {},
     "output_type": "execute_result"
    }
   ],
   "source": [
    "def prob_270(my_list1, my_list2):\n",
    "    return sum([n**2 for n in my_list1]) + sum([n**2 for n in my_list2])\n",
    "list_1 = [5, -4, -6]\n",
    "list_2 = [5, 2, 3, 4, 7]\n",
    "prob_270(list_1, list_2) "
   ]
  },
  {
   "cell_type": "code",
   "execution_count": 11,
   "id": "3b112a1f",
   "metadata": {},
   "outputs": [
    {
     "data": {
      "text/plain": [
       "2"
      ]
     },
     "execution_count": 11,
     "metadata": {},
     "output_type": "execute_result"
    }
   ],
   "source": [
    "def prob_271(n_list):\n",
    "    return n_list.count('a')\n",
    "#     num = [n for n in n_list if n == 'a']\n",
    "#     count = 0\n",
    "#     for n in num:\n",
    "#         count += 1\n",
    "#     return count\n",
    "list1 = ['a', 'b', 'c', 'l', 'a', 'd'] \n",
    "prob_271(list1)"
   ]
  },
  {
   "cell_type": "code",
   "execution_count": 12,
   "id": "26ab63da",
   "metadata": {},
   "outputs": [
    {
     "data": {
      "text/plain": [
       "True"
      ]
     },
     "execution_count": 12,
     "metadata": {},
     "output_type": "execute_result"
    }
   ],
   "source": [
    "def prob_272(n_list):\n",
    "    return n_list.count('b') == len(n_list) / 2\n",
    "list1 = ['b', 'h', 'b', 'a', 'b', 'd'] \n",
    "prob_272(list1)"
   ]
  },
  {
   "cell_type": "code",
   "execution_count": 13,
   "id": "7b776dd7",
   "metadata": {},
   "outputs": [
    {
     "data": {
      "text/plain": [
       "3"
      ]
     },
     "execution_count": 13,
     "metadata": {},
     "output_type": "execute_result"
    }
   ],
   "source": [
    "def prob_273(n_list):\n",
    "    return sum([index for index in range(1, len(n_list)) if n_list[index] == 's'])\n",
    "list1 = ['s', 'h', 'b', 's', 'b', 'd'] \n",
    "prob_273(list1)"
   ]
  },
  {
   "cell_type": "code",
   "execution_count": 14,
   "id": "c976202b",
   "metadata": {},
   "outputs": [
    {
     "data": {
      "text/plain": [
       "1.5"
      ]
     },
     "execution_count": 14,
     "metadata": {},
     "output_type": "execute_result"
    }
   ],
   "source": [
    "def prob_274(n_list):\n",
    "    return sum([index for index in range(len(n_list)) if n_list[index] > 'h']) / n_list.count('h') if n_list.count('h') > 0 else False \n",
    "list1 = ['h', 's', 'm', 'h', 'b', 'd']\n",
    "prob_274(list1)"
   ]
  },
  {
   "cell_type": "code",
   "execution_count": 15,
   "id": "c3bc6b22",
   "metadata": {},
   "outputs": [
    {
     "data": {
      "text/plain": [
       "4"
      ]
     },
     "execution_count": 15,
     "metadata": {},
     "output_type": "execute_result"
    }
   ],
   "source": [
    "def prob_275(n_list):\n",
    "    return len([char for char in n_list if char < 'k'])\n",
    "list1 = ['h', 's', 'm', 'k', 'l', 'm', 'n', 'h', 'b', 'd']\n",
    "prob_275(list1)"
   ]
  },
  {
   "cell_type": "code",
   "execution_count": 16,
   "id": "f55bb639",
   "metadata": {},
   "outputs": [
    {
     "data": {
      "text/plain": [
       "True"
      ]
     },
     "execution_count": 16,
     "metadata": {},
     "output_type": "execute_result"
    }
   ],
   "source": [
    "def prob_276(n_list):\n",
    "       return any(char == 'r' for char in n_list)\n",
    "list1 = ['h', 'r', 's', 'r', 'm', 'k', 'n']\n",
    "prob_276(list1)"
   ]
  },
  {
   "cell_type": "code",
   "execution_count": 17,
   "id": "c8934ec1",
   "metadata": {},
   "outputs": [
    {
     "data": {
      "text/plain": [
       "['h', 'r', 's', 'k', 'n']"
      ]
     },
     "execution_count": 17,
     "metadata": {},
     "output_type": "execute_result"
    }
   ],
   "source": [
    "def prob_277(n_list):\n",
    "    return [char for char in n_list if char != 'd']\n",
    "list1 = ['h', 'd', 'r', 'd', 's', 'k', 'n']\n",
    "prob_277(list1)"
   ]
  },
  {
   "cell_type": "code",
   "execution_count": 18,
   "id": "49d0b269",
   "metadata": {},
   "outputs": [
    {
     "data": {
      "text/plain": [
       "['l', 'd', 'k']"
      ]
     },
     "execution_count": 18,
     "metadata": {},
     "output_type": "execute_result"
    }
   ],
   "source": [
    "def prob_278(n_list):\n",
    "    return [n_list[i] for i in range(1, len(n_list), 2)]\n",
    "list1 = ['h', 'l', 'r', 'd', 's', 'k', 'n']\n",
    "prob_278(list1)"
   ]
  },
  {
   "cell_type": "code",
   "execution_count": 19,
   "id": "ba00b4f9",
   "metadata": {},
   "outputs": [
    {
     "data": {
      "text/plain": [
       "5"
      ]
     },
     "execution_count": 19,
     "metadata": {},
     "output_type": "execute_result"
    }
   ],
   "source": [
    "def prob_279(n_list):\n",
    "    return len([char for char in n_list if char > 'k'])\n",
    "list1 = ['h', 's', 'm', 'k', 'l', 'm', 'n', 'h', 'b', 'd']\n",
    "prob_279(list1)"
   ]
  },
  {
   "cell_type": "code",
   "execution_count": 20,
   "id": "c5fbcdc3",
   "metadata": {},
   "outputs": [
    {
     "data": {
      "text/plain": [
       "['f', 'f', 's', 'm', 'k', 'f', 'f', 'm', 'n', 'f', 'f', 'f', 'f', 'd']"
      ]
     },
     "execution_count": 20,
     "metadata": {},
     "output_type": "execute_result"
    }
   ],
   "source": [
    "def prob_280(n_list, list_char, new_char):\n",
    "    new_list = []\n",
    "    for char in n_list:\n",
    "        new_list.append(char)\n",
    "        if char == list_char:\n",
    "            new_list.append(new_char)\n",
    "    return new_list\n",
    "list1 = ['f', 's', 'm', 'k', 'f', 'm', 'n', 'f', 'f', 'd']\n",
    "prob_280(list1, 'f', 'f')"
   ]
  },
  {
   "cell_type": "code",
   "execution_count": 21,
   "id": "2a9820c1",
   "metadata": {},
   "outputs": [
    {
     "data": {
      "text/plain": [
       "[5, 9, 8, 10, 11]"
      ]
     },
     "execution_count": 21,
     "metadata": {},
     "output_type": "execute_result"
    }
   ],
   "source": [
    "def prob_281(n_list):\n",
    "    new_list = [n for n in n_list if n > 0]\n",
    "    return new_list\n",
    "list1 = [5, -4, -6,-14, 9, 8, 10, 11]\n",
    "prob_281(list1)"
   ]
  },
  {
   "cell_type": "code",
   "execution_count": 22,
   "id": "93a0cad9",
   "metadata": {},
   "outputs": [
    {
     "data": {
      "text/plain": [
       "[5, -4, -6, -14, 9, 8, 10, 11]"
      ]
     },
     "execution_count": 22,
     "metadata": {},
     "output_type": "execute_result"
    }
   ],
   "source": [
    "def prob_282(n_list):\n",
    "    new_list = [n for n in n_list if n != 0]\n",
    "    return new_list\n",
    "list1 = [5, -4, 0, -6, -14, 0, 9, 0, 8, 0, 10, 11]\n",
    "prob_282(list1)"
   ]
  },
  {
   "cell_type": "code",
   "execution_count": 23,
   "id": "1bca4584",
   "metadata": {},
   "outputs": [
    {
     "data": {
      "text/plain": [
       "[5, 9, 11]"
      ]
     },
     "execution_count": 23,
     "metadata": {},
     "output_type": "execute_result"
    }
   ],
   "source": [
    "def prob_283(n_list):\n",
    "    new_list = [n for n in n_list if n %2 == 1]\n",
    "    return new_list\n",
    "list1 = [5, -4, -6, -14, 9, 8, 10, 11]\n",
    "prob_283(list1)"
   ]
  },
  {
   "cell_type": "code",
   "execution_count": 24,
   "id": "64c6cb2a",
   "metadata": {},
   "outputs": [
    {
     "data": {
      "text/plain": [
       "[5, -4, 0, 9, 8]"
      ]
     },
     "execution_count": 24,
     "metadata": {},
     "output_type": "execute_result"
    }
   ],
   "source": [
    "def prob_284(n_list, a, b):\n",
    "    new_list = [n for n in n_list if a < n < b ]\n",
    "    return new_list\n",
    "list1 = [5, -4, -6, 0, -14, 9, 8, 10, 11]\n",
    "prob_284(list1, -5, 10)"
   ]
  },
  {
   "cell_type": "code",
   "execution_count": 25,
   "id": "71be4d7f",
   "metadata": {},
   "outputs": [
    {
     "data": {
      "text/plain": [
       "[-6, 0, 9]"
      ]
     },
     "execution_count": 25,
     "metadata": {},
     "output_type": "execute_result"
    }
   ],
   "source": [
    "def prob_285(n_list, p):\n",
    "    new_list = [n for n in n_list if n % p == 0]\n",
    "    return new_list\n",
    "list1 = [5, -4, -6, 0, -14, 9, 8, 10, 11]\n",
    "prob_285(list1, 3) "
   ]
  },
  {
   "cell_type": "code",
   "execution_count": 26,
   "id": "019d9551",
   "metadata": {},
   "outputs": [
    {
     "data": {
      "text/plain": [
       "[-4, -6, 0, -14, 8, 10]"
      ]
     },
     "execution_count": 26,
     "metadata": {},
     "output_type": "execute_result"
    }
   ],
   "source": [
    "def prob_286(n_list):\n",
    "    new_list = [n for n in n_list if n % 2 == 0]\n",
    "    return new_list\n",
    "list1 = [5, -4, -6, 0, -14, 9, 8, 10, 11]\n",
    "prob_286(list1) "
   ]
  },
  {
   "cell_type": "code",
   "execution_count": 27,
   "id": "969b3a94",
   "metadata": {},
   "outputs": [
    {
     "data": {
      "text/plain": [
       "[-4, -6, 0, -14, 9, 10, 11]"
      ]
     },
     "execution_count": 27,
     "metadata": {},
     "output_type": "execute_result"
    }
   ],
   "source": [
    "def prob_287(n_list):\n",
    "    new_list = [n_list[i] for i in range(1, len(n_list)) if i != n_list[i]]\n",
    "    return new_list\n",
    "list1 = [5, -4, 2, -6, 0, 5, -14, 9, 8, 10, 11]\n",
    "prob_287(list1) "
   ]
  },
  {
   "cell_type": "code",
   "execution_count": 28,
   "id": "97457437",
   "metadata": {},
   "outputs": [
    {
     "data": {
      "text/plain": [
       "[-4, -6, 5, 9, 10]"
      ]
     },
     "execution_count": 28,
     "metadata": {},
     "output_type": "execute_result"
    }
   ],
   "source": [
    "def prob_288(n_list):\n",
    "    new_list = [n_list[i] for i in range(1, len(n_list)) if i % 2 == 1]\n",
    "    return new_list \n",
    "list1 = [5, -4, 2, -6, 0, 5, -14, 9, 8, 10, 11]\n",
    "prob_288(list1)"
   ]
  },
  {
   "cell_type": "code",
   "execution_count": 29,
   "id": "b0a586ce",
   "metadata": {},
   "outputs": [
    {
     "data": {
      "text/plain": [
       "[5, -4, -6, 9, 8]"
      ]
     },
     "execution_count": 29,
     "metadata": {},
     "output_type": "execute_result"
    }
   ],
   "source": [
    "def prob_289(n_list, c, d):\n",
    "    new_list = [n for n in n_list if c < n**2 < d ]\n",
    "    return new_list\n",
    "list1 = [5, -4, -6, 0, -14, 9, 8, 10, 11]\n",
    "prob_289(list1, 5, 100)"
   ]
  },
  {
   "cell_type": "code",
   "execution_count": 30,
   "id": "0f625df4",
   "metadata": {},
   "outputs": [
    {
     "data": {
      "text/plain": [
       "[7]"
      ]
     },
     "execution_count": 30,
     "metadata": {},
     "output_type": "execute_result"
    }
   ],
   "source": [
    "def prob_290(n_list):\n",
    "    new_list = [n for n in n_list if n % 6 == 1]\n",
    "    return new_list\n",
    "list1 = [5, -4, -6, 7, 0, -14, 9, 8, 10, 11]\n",
    "prob_290(list1)"
   ]
  }
 ],
 "metadata": {
  "kernelspec": {
   "display_name": "Python 3 (ipykernel)",
   "language": "python",
   "name": "python3"
  },
  "language_info": {
   "codemirror_mode": {
    "name": "ipython",
    "version": 3
   },
   "file_extension": ".py",
   "mimetype": "text/x-python",
   "name": "python",
   "nbconvert_exporter": "python",
   "pygments_lexer": "ipython3",
   "version": "3.10.12"
  }
 },
 "nbformat": 4,
 "nbformat_minor": 5
}
