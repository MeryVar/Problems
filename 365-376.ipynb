{
 "cells": [
  {
   "cell_type": "code",
   "execution_count": 3,
   "id": "06ea7aef",
   "metadata": {},
   "outputs": [
    {
     "name": "stdout",
     "output_type": "stream",
     "text": [
      "n = 6\n",
      "a1 = -3\n",
      "a2 = 2\n",
      "a3 = 5\n",
      "a4 = -7\n",
      "a5 = 1\n",
      "a6 = -8\n"
     ]
    },
    {
     "data": {
      "text/plain": [
       "[5, -8, -8, 5, -8, 5]"
      ]
     },
     "execution_count": 3,
     "metadata": {},
     "output_type": "execute_result"
    }
   ],
   "source": [
    "def prob_365(numbers):\n",
    "    b = []\n",
    "    n = len(numbers)\n",
    "    for i in range(n):\n",
    "        if numbers[i] <= 0:\n",
    "            b.append(max(numbers))\n",
    "        else:\n",
    "            b.append(min(numbers))\n",
    "    return b\n",
    "n = int(input(\"n = \"))\n",
    "nums = [int(input(f\"a{i + 1} = \")) for i in range(n)]\n",
    "prob_365(nums)"
   ]
  },
  {
   "cell_type": "code",
   "execution_count": 8,
   "id": "3b264fdc",
   "metadata": {},
   "outputs": [
    {
     "name": "stdout",
     "output_type": "stream",
     "text": [
      "n = 5\n",
      "a1 = 3\n",
      "a2 = 16\n",
      "a3 = 4\n",
      "a4 = 2\n",
      "a5 = 1\n"
     ]
    },
    {
     "data": {
      "text/plain": [
       "[2]"
      ]
     },
     "execution_count": 8,
     "metadata": {},
     "output_type": "execute_result"
    }
   ],
   "source": [
    "def prob_366(numbers):\n",
    "    b = []\n",
    "    n = len(numbers)\n",
    "    for i in range(n):\n",
    "        if i - 1 <= numbers[i] <= i:\n",
    "            b.append(numbers[i])      \n",
    "    return b\n",
    "\n",
    "n = int(input(\"n = \"))\n",
    "nums = [int(input(f\"a{i + 1} = \")) for i in range(n)]\n",
    "prob_366(nums)"
   ]
  },
  {
   "cell_type": "code",
   "execution_count": 15,
   "id": "e8adfc79",
   "metadata": {},
   "outputs": [
    {
     "name": "stdout",
     "output_type": "stream",
     "text": [
      "[2, 3, 5, 7]\n"
     ]
    }
   ],
   "source": [
    "def prob_367(num):\n",
    "    if num < 2:\n",
    "        return False\n",
    "    for i in range(2, int(num ** 0.5) + 1):       \n",
    "        if num % i == 0:\n",
    "            return False\n",
    "    return True\n",
    "def primes_in_a_b(a,b):\n",
    "    prime_list = [num for num in range(a, b + 1) if prob_367(num)]\n",
    "    return prime_list\n",
    "print(primes_in_a_b(1,10))"
   ]
  },
  {
   "cell_type": "code",
   "execution_count": 11,
   "id": "111ccf64",
   "metadata": {},
   "outputs": [
    {
     "name": "stdout",
     "output_type": "stream",
     "text": [
      "n = 3\n",
      "x1 = 1\n",
      "y1 = 2\n",
      "x2 = 3\n",
      "y2 = 4\n",
      "x3 = 8\n",
      "y3 = 9\n"
     ]
    },
    {
     "data": {
      "text/plain": [
       "(1, 2)"
      ]
     },
     "execution_count": 11,
     "metadata": {},
     "output_type": "execute_result"
    }
   ],
   "source": [
    "def prob_368(points):\n",
    "    differences = []\n",
    "    for i in range(len(points) - 1):\n",
    "        x1, y1 = points[i]\n",
    "        x2, y2 = points[i + 1]\n",
    "        diff = abs(x1 - x2) + abs(y1 - y2)\n",
    "        differences.append(diff)\n",
    "    \n",
    "    max_diff_ind = differences.index(max(differences))\n",
    "    return (max_diff_ind, max_diff_ind + 1)\n",
    "\n",
    "n = int(input(\"n = \"))\n",
    "points = [(int(input(f\"x{i + 1} = \")), int(input(f\"y{i + 1} = \"))) for i in range(n)]\n",
    "prob_368(points)"
   ]
  },
  {
   "cell_type": "code",
   "execution_count": 6,
   "id": "039626bb",
   "metadata": {},
   "outputs": [
    {
     "data": {
      "text/plain": [
       "5"
      ]
     },
     "execution_count": 6,
     "metadata": {},
     "output_type": "execute_result"
    }
   ],
   "source": [
    "def prob_369(list1, list2):\n",
    "    unique_digits = set(list2)\n",
    "    for digit in list1:\n",
    "        if digit not in unique_digits:\n",
    "            return digit\n",
    "    return None  \n",
    "list1 = [5, 7, 2, 9, 4, 1, 3]\n",
    "list2 = [6, 8, 2, 1, 0, 4, 3]\n",
    "prob_369(list1, list2)"
   ]
  },
  {
   "cell_type": "code",
   "execution_count": 10,
   "id": "a03a541f",
   "metadata": {},
   "outputs": [
    {
     "data": {
      "text/plain": [
       "44"
      ]
     },
     "execution_count": 10,
     "metadata": {},
     "output_type": "execute_result"
    }
   ],
   "source": [
    "def prob_370(nums):\n",
    "    digit_sum = sum([digit for digit in nums if nums.count(digit) >= 2])\n",
    "    return digit_sum\n",
    "nums = [1, 2, 3, 4, 2, 3, 4, 5, 6, 6, 7, 7]\n",
    "prob_370(nums)"
   ]
  },
  {
   "cell_type": "code",
   "execution_count": 15,
   "id": "570aa317",
   "metadata": {},
   "outputs": [
    {
     "name": "stdout",
     "output_type": "stream",
     "text": [
      "n = 3\n",
      "x1 = 1\n",
      "y1 = 2\n",
      "x2 = 3\n",
      "y2 = 4\n",
      "x3 = 5\n",
      "y3 = 6\n"
     ]
    },
    {
     "data": {
      "text/plain": [
       "7.810249675906654"
      ]
     },
     "execution_count": 15,
     "metadata": {},
     "output_type": "execute_result"
    }
   ],
   "source": [
    "def prob_371(points):\n",
    "    max_dist = 0\n",
    "    for x, y in points:\n",
    "        distance = (x**2 + y**2)**0.5\n",
    "        max_dist = max(max_dist, distance)\n",
    "    return max_dist\n",
    "n = int(input(\"n = \"))\n",
    "points = [(int(input(f\"x{i + 1} = \")), int(input(f\"y{i + 1} = \"))) for i in range(n)]\n",
    "prob_371(points)"
   ]
  },
  {
   "cell_type": "code",
   "execution_count": 19,
   "id": "4b94354d",
   "metadata": {
    "scrolled": true
   },
   "outputs": [
    {
     "data": {
      "text/plain": [
       "True"
      ]
     },
     "execution_count": 19,
     "metadata": {},
     "output_type": "execute_result"
    }
   ],
   "source": [
    "def prob_375(my_list):\n",
    "    zeros = 0\n",
    "    for num in my_list:\n",
    "        if num == 0:\n",
    "            zeros += 1\n",
    "            if zeros == 3:\n",
    "                return True\n",
    "    return False\n",
    "my_list = [4, 3, 2, 0, 0, 0, 4, 5, 3, 0, 0, 0, 7, 8]\n",
    "prob_375(my_list)"
   ]
  },
  {
   "cell_type": "code",
   "execution_count": 23,
   "id": "3fb60d8c",
   "metadata": {},
   "outputs": [
    {
     "name": "stdout",
     "output_type": "stream",
     "text": [
      "45 ---> 3, 6\n"
     ]
    }
   ],
   "source": [
    "def prob_376(my_list):\n",
    "    for num in my_list:\n",
    "        for first_num in range(1, int(num**0.5) + 1):\n",
    "            second_num = int((num - i**2)**0.5)\n",
    "            if first_num**2 + second_num**2 == num and num % 5 == 0:\n",
    "                print(f\"{num} ---> {first_num}, {second_num}\")\n",
    "my_list = [12, 36, 54, 87, 16, 45, 32, 74, 10, 13]\n",
    "prob_376(my_list)"
   ]
  }
 ],
 "metadata": {
  "kernelspec": {
   "display_name": "Python 3 (ipykernel)",
   "language": "python",
   "name": "python3"
  },
  "language_info": {
   "codemirror_mode": {
    "name": "ipython",
    "version": 3
   },
   "file_extension": ".py",
   "mimetype": "text/x-python",
   "name": "python",
   "nbconvert_exporter": "python",
   "pygments_lexer": "ipython3",
   "version": "3.10.12"
  }
 },
 "nbformat": 4,
 "nbformat_minor": 5
}
