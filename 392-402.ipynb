{
 "cells": [
  {
   "cell_type": "code",
   "execution_count": 7,
   "id": "861cb549",
   "metadata": {},
   "outputs": [
    {
     "data": {
      "text/plain": [
       "[87, 74, 54, 45, 36, 32, 16, 13, 12, 10]"
      ]
     },
     "execution_count": 7,
     "metadata": {},
     "output_type": "execute_result"
    }
   ],
   "source": [
    "def prob_392(my_list):\n",
    "    my_list.sort(reverse=True)\n",
    "    return my_list\n",
    "my_list = [12, 36, 54, 87, 16, 45, 32, 74, 10, 13]\n",
    "prob_392(my_list)"
   ]
  },
  {
   "cell_type": "code",
   "execution_count": 10,
   "id": "ba2232f5",
   "metadata": {},
   "outputs": [
    {
     "data": {
      "text/plain": [
       "4"
      ]
     },
     "execution_count": 10,
     "metadata": {},
     "output_type": "execute_result"
    }
   ],
   "source": [
    "def prob_393(my_list):\n",
    "    max_zeros = 0\n",
    "    count_zeros = 0  \n",
    "\n",
    "    for num in my_list:\n",
    "        if num == 0:\n",
    "            count_zeros += 1\n",
    "        else:\n",
    "            max_zeros = max(max_zeros, count_zeros)\n",
    "            count_zeros = 0\n",
    "    return max_zeros\n",
    "\n",
    "my_list = [12, 36, 0, 0, 54, 87, 0, 0, 0, 0, 16, 45, 0, 32, 74, 0, 0, 10, 13]\n",
    "prob_393(my_list)"
   ]
  },
  {
   "cell_type": "code",
   "execution_count": 17,
   "id": "d7c642bc",
   "metadata": {},
   "outputs": [
    {
     "data": {
      "text/plain": [
       "[-5, -8, -10, -6, 3, 0, 0, 12, 9]"
      ]
     },
     "execution_count": 17,
     "metadata": {},
     "output_type": "execute_result"
    }
   ],
   "source": [
    "def prob_394(my_list):\n",
    "    negative_nums = [num for num in input_list if num < 0]\n",
    "    other_nums = [num for num in my_list if num >= 0]\n",
    "    return negative_nums + other_nums\n",
    "input_list = [-5, 3, -8, 0, -10, 0, 12, -6, 9]\n",
    "prob_394(input_list)"
   ]
  },
  {
   "cell_type": "code",
   "execution_count": 26,
   "id": "943106c4",
   "metadata": {},
   "outputs": [
    {
     "name": "stdout",
     "output_type": "stream",
     "text": [
      "[-2, -6, 8, 10, -3, 5, 7]\n"
     ]
    }
   ],
   "source": [
    "def prob_395(my_list):\n",
    "    positive_index = None\n",
    "    for i, num in enumerate(my_list):\n",
    "        if num > 0:\n",
    "            positive_index = i\n",
    "            break\n",
    "    if positive_index is not None:\n",
    "        del my_list[positive_index]\n",
    "    return my_list\n",
    "\n",
    "my_list = [-2, 4, -6, 8, 10, -3, 5, 7]\n",
    "prob_395(my_list)"
   ]
  },
  {
   "cell_type": "code",
   "execution_count": 30,
   "id": "773f414e",
   "metadata": {},
   "outputs": [
    {
     "data": {
      "text/plain": [
       "[-2, 0, 0, 4, -6, 8, 10, -3, 5]"
      ]
     },
     "execution_count": 30,
     "metadata": {},
     "output_type": "execute_result"
    }
   ],
   "source": [
    "def prob_396(my_list):\n",
    "    negative_index = next((i for i, num in enumerate(my_list) if num < 0), None)\n",
    "\n",
    "    if negative_index is not None:\n",
    "        my_list.insert(negative_index + 1, 0)\n",
    "        my_list[negative_index + 2:] = my_list[negative_index + 1: -1]\n",
    "\n",
    "    return my_list\n",
    "my_list = [-2, 4, -6, 8, 10, -3, 5, 7]\n",
    "prob_396(my_list)"
   ]
  },
  {
   "cell_type": "code",
   "execution_count": 33,
   "id": "7c6361e3",
   "metadata": {},
   "outputs": [
    {
     "name": "stdout",
     "output_type": "stream",
     "text": [
      "[1, 2, 3]\n"
     ]
    }
   ],
   "source": [
    "def prob_397(x, y, m):\n",
    "    z = sorted(x + y)[:m]\n",
    "    return z\n",
    "\n",
    "x = [1, 3, 5]\n",
    "y = [2, 4, 6]\n",
    "result_list = prob_397(x, y, 3)\n",
    "print(result_list)"
   ]
  },
  {
   "cell_type": "code",
   "execution_count": 36,
   "id": "39f27bfd",
   "metadata": {},
   "outputs": [
    {
     "name": "stdout",
     "output_type": "stream",
     "text": [
      "[2]\n"
     ]
    }
   ],
   "source": [
    "def prob_398(matrix):\n",
    "    num_rows = len(matrix)\n",
    "    num_cols = len(matrix[0])\n",
    "    elements = []\n",
    "    \n",
    "    for col in range(num_cols):\n",
    "        element = matrix[0][col]\n",
    "        in_all_rows = all(element in matrix[i] for i in range(1, num_rows))\n",
    "        if in_all_rows:\n",
    "            elements.append(element)\n",
    "    if elements:\n",
    "        print(elements)\n",
    "    else:\n",
    "        print(\"No\")\n",
    "\n",
    "matrix = [\n",
    "    [1, 2, 3, 4],\n",
    "    [2, 4, 6, 8],\n",
    "    [2, 3, 7, 9]\n",
    "]    \n",
    "prob_398(matrix)"
   ]
  },
  {
   "cell_type": "code",
   "execution_count": 43,
   "id": "c7fae0c3",
   "metadata": {},
   "outputs": [
    {
     "name": "stdout",
     "output_type": "stream",
     "text": [
      "N = 5\n",
      "a1 = 2\n",
      "a2 = 2\n",
      "a3 = 3\n",
      "a4 = 4\n",
      "a5 = 6\n"
     ]
    },
    {
     "data": {
      "text/plain": [
       "[3, 4, 6]"
      ]
     },
     "execution_count": 43,
     "metadata": {},
     "output_type": "execute_result"
    }
   ],
   "source": [
    "def prob_399(N, list1):\n",
    "    list1.sort()\n",
    "    unique_el = [x for x in list1 if list1.count(x) == 1]\n",
    "    indices = [list1.index(x) for x in unique_el]\n",
    "    return unique_el\n",
    "\n",
    "N = int(input(\"N = \"))\n",
    "nums = [int(input(f\"a{i + 1} = \")) for i in range(N)]\n",
    "prob_399(N, nums)"
   ]
  },
  {
   "cell_type": "code",
   "execution_count": 52,
   "id": "823a9f24",
   "metadata": {},
   "outputs": [
    {
     "name": "stdout",
     "output_type": "stream",
     "text": [
      "N = 6\n",
      "a1 = 2\n",
      "a2 = 3\n",
      "a3 = 5\n",
      "a4 = 1\n",
      "a5 = 4\n",
      "a6 = 2\n",
      "([1, 2], 2)\n"
     ]
    }
   ],
   "source": [
    "def prob_400(N, list1):\n",
    "    small_num = []\n",
    "    for i in range(1, N):\n",
    "        if list1[i] < list1[i-1]:\n",
    "            count = list1.count(list1[i])\n",
    "            small_num.append(list1[i])\n",
    "    return small_num, count\n",
    "\n",
    "N = int(input(\"N = \"))\n",
    "nums = [int(input(f\"a{i + 1} = \")) for i in range(N)]\n",
    "prob_400(N, nums)"
   ]
  },
  {
   "cell_type": "code",
   "execution_count": 66,
   "id": "beddc019",
   "metadata": {},
   "outputs": [
    {
     "name": "stdout",
     "output_type": "stream",
     "text": [
      "[8, 4, 5, 6, 3]\n"
     ]
    },
    {
     "data": {
      "text/plain": [
       "2880"
      ]
     },
     "execution_count": 66,
     "metadata": {},
     "output_type": "execute_result"
    }
   ],
   "source": [
    "def prob_401(N, list1):\n",
    "    first_zero = list1.index(0)\n",
    "    last_zero = N - 1 - list1[::-1].index(0)\n",
    "    if first_zero == last_zero - 1:\n",
    "        print(0)\n",
    "    else:\n",
    "        list2 = list1[first_zero + 1:last_zero]\n",
    "        print(list2)\n",
    "        mul = 1\n",
    "        for num in list2:\n",
    "            mul *= num\n",
    "        return mul\n",
    "\n",
    "list1 = [2, 3, 0, 8, 4, 5, 6, 3, 0, 4, 7, 8, 9]\n",
    "N = len(list1)\n",
    "prob_401(N, list1)"
   ]
  },
  {
   "cell_type": "code",
   "execution_count": 69,
   "id": "dfc9093c",
   "metadata": {},
   "outputs": [
    {
     "data": {
      "text/plain": [
       "7"
      ]
     },
     "execution_count": 69,
     "metadata": {},
     "output_type": "execute_result"
    }
   ],
   "source": [
    "def prob_402(N, list1, b, c):\n",
    "    interval = list1[b:c+1]\n",
    "    return max(interval)\n",
    "\n",
    "list1 = [2, 3, 0, 18, 4, 15, 6, 3, 0, 4, 7]\n",
    "N = len(list1)\n",
    "prob_402(N, list1, 6, 10)"
   ]
  }
 ],
 "metadata": {
  "kernelspec": {
   "display_name": "Python 3 (ipykernel)",
   "language": "python",
   "name": "python3"
  },
  "language_info": {
   "codemirror_mode": {
    "name": "ipython",
    "version": 3
   },
   "file_extension": ".py",
   "mimetype": "text/x-python",
   "name": "python",
   "nbconvert_exporter": "python",
   "pygments_lexer": "ipython3",
   "version": "3.10.12"
  }
 },
 "nbformat": 4,
 "nbformat_minor": 5
}
