{
 "cells": [
  {
   "cell_type": "code",
   "execution_count": 24,
   "id": "0f63adc4",
   "metadata": {},
   "outputs": [
    {
     "data": {
      "text/plain": [
       "7"
      ]
     },
     "execution_count": 24,
     "metadata": {},
     "output_type": "execute_result"
    }
   ],
   "source": [
    "def prob_341(input_list):\n",
    "    return len([num for num in input_list if input_list.count(num)==1])\n",
    "input_list = [3, 2, 1, 10, 1, 12, 4, 10, 1, 15, 1, 9, 1, 5]\n",
    "prob_341(input_list)"
   ]
  },
  {
   "cell_type": "code",
   "execution_count": 26,
   "id": "3b1c9b9d",
   "metadata": {},
   "outputs": [
    {
     "data": {
      "text/plain": [
       "25"
      ]
     },
     "execution_count": 26,
     "metadata": {},
     "output_type": "execute_result"
    }
   ],
   "source": [
    "def prob_342(input_list):\n",
    "    return sum([num for num in input_list if input_list.count(num)>=2])\n",
    "input_list = [3, 2, 1, 10, 1, 12, 4, 10, 1, 15, 1, 9, 1, 5]\n",
    "prob_342(input_list)"
   ]
  },
  {
   "cell_type": "code",
   "execution_count": 51,
   "id": "25f2d198",
   "metadata": {},
   "outputs": [
    {
     "name": "stdout",
     "output_type": "stream",
     "text": [
      "[2, 5]\n"
     ]
    },
    {
     "data": {
      "text/plain": [
       "3.5"
      ]
     },
     "execution_count": 51,
     "metadata": {},
     "output_type": "execute_result"
    }
   ],
   "source": [
    "def prob_344(input_list, sum_num):\n",
    "    num_indices = {}\n",
    "    for index, num in enumerate(input_list):\n",
    "        diff = sum_num - num\n",
    "        if diff in num_indices:\n",
    "            ind = [num_indices[diff], index]\n",
    "            return ind\n",
    "        num_indices[num] = index\n",
    "def mean_num_indices(input_list, sum_num):\n",
    "    indices = prob_344(input_list, sum_num)\n",
    "    if indices is not None:\n",
    "        mean = sum(indices) / len(indices)\n",
    "        return mean\n",
    "input_list = [3, 4, 25, 10, 12, 102, 2, 5]\n",
    "sum_num = 127\n",
    "print(prob_344(input_list, sum_num))\n",
    "mean_num_indices(input_list, sum_num)"
   ]
  },
  {
   "cell_type": "code",
   "execution_count": 78,
   "id": "9efeb477",
   "metadata": {},
   "outputs": [
    {
     "data": {
      "text/plain": [
       "27"
      ]
     },
     "execution_count": 78,
     "metadata": {},
     "output_type": "execute_result"
    }
   ],
   "source": [
    "def prob_345(input_list):\n",
    "    max_element = max(input_list) \n",
    "    max_index = input_list.index(max_element)  \n",
    "    if max_index == len(input_list) - 1:\n",
    "        return \"s=0\"  \n",
    "    return sum(input_list[max_index + 1:])\n",
    "input_list = [3, 4, 10, 15, 2, 25, 102, 12, 15]\n",
    "prob_345(input_list)"
   ]
  },
  {
   "cell_type": "code",
   "execution_count": 84,
   "id": "b283c788",
   "metadata": {},
   "outputs": [
    {
     "data": {
      "text/plain": [
       "3000"
      ]
     },
     "execution_count": 84,
     "metadata": {},
     "output_type": "execute_result"
    }
   ],
   "source": [
    "def prob_346(input_list):\n",
    "    min_value = 0  \n",
    "    last_min_index = -1  \n",
    "    mul = 1  \n",
    "    for index, num in enumerate(input_list):\n",
    "        if num < min_value:\n",
    "            min_value = num\n",
    "            last_min_index = index\n",
    "    if last_min_index == -1:\n",
    "        return \"s=0\"\n",
    "    for num in input_list[:last_min_index]:\n",
    "        if num > 0:\n",
    "            mul *= num\n",
    "    return mul\n",
    "input_list = [3, 4, 10, -15, -2, 25, -102, 12, 5]\n",
    "prob_346(input_list)"
   ]
  },
  {
   "cell_type": "code",
   "execution_count": 110,
   "id": "5ffd6098",
   "metadata": {},
   "outputs": [
    {
     "data": {
      "text/plain": [
       "(0, -4)"
      ]
     },
     "execution_count": 110,
     "metadata": {},
     "output_type": "execute_result"
    }
   ],
   "source": [
    "def prob_347(input_list, b):\n",
    "    index_mul = 1\n",
    "    num_sum = 0\n",
    "    for index, num in enumerate(input_list):\n",
    "        if num < b:\n",
    "            index_mul *= index\n",
    "            num_sum += num\n",
    "    return index_mul, num_sum\n",
    "input_list = [3, 4, 10, -5, -2, 25, 102, 12, 5]\n",
    "prob_347(input_list, 4)"
   ]
  },
  {
   "cell_type": "code",
   "execution_count": 117,
   "id": "53da419d",
   "metadata": {},
   "outputs": [
    {
     "data": {
      "text/plain": [
       "13"
      ]
     },
     "execution_count": 117,
     "metadata": {},
     "output_type": "execute_result"
    }
   ],
   "source": [
    "def prob_348(input_list):\n",
    "    ind_sum = 0\n",
    "    for index, num in enumerate(input_list):\n",
    "        if isinstance(num, int) and num % 2 == 0:\n",
    "            ind_sum += index\n",
    "    return ind_sum\n",
    "input_list = [3, 0.863, 10, -5, -2, 25, 10.2, 12, 5]\n",
    "prob_348(input_list)"
   ]
  },
  {
   "cell_type": "code",
   "execution_count": 120,
   "id": "30bba6fe",
   "metadata": {},
   "outputs": [
    {
     "data": {
      "text/plain": [
       "4.0"
      ]
     },
     "execution_count": 120,
     "metadata": {},
     "output_type": "execute_result"
    }
   ],
   "source": [
    "def prob_349(input_list):\n",
    "    odd_indices = []\n",
    "    for index, num in enumerate(input_list):\n",
    "        if isinstance(num, int) and num % 2 == 1:\n",
    "            odd_indices.append(index)\n",
    "    if odd_indices:\n",
    "        mean = sum(odd_indices) / len(odd_indices)\n",
    "        return mean\n",
    "input_list = [3, 0.863, 10, -5, -2, 25, 10.2, 12, 5]\n",
    "prob_349(input_list)"
   ]
  },
  {
   "cell_type": "code",
   "execution_count": 123,
   "id": "0b63a7cf",
   "metadata": {},
   "outputs": [
    {
     "data": {
      "text/plain": [
       "66.0"
      ]
     },
     "execution_count": 123,
     "metadata": {},
     "output_type": "execute_result"
    }
   ],
   "source": [
    "def prob_350(input_list):\n",
    "    positive_count = 0\n",
    "    sum_sqr = 0\n",
    "    for num in reversed(input_list):\n",
    "        if num > 0:\n",
    "            positive_count += 1\n",
    "            sum_sqr += num ** 2\n",
    "        if positive_count == 5:\n",
    "            break\n",
    "    return sum_sqr / positive_count\n",
    "input_list = [3, 4, -5, 6, -2, 7, 8, 9, 10]\n",
    "prob_350(input_list)"
   ]
  }
 ],
 "metadata": {
  "kernelspec": {
   "display_name": "Python 3 (ipykernel)",
   "language": "python",
   "name": "python3"
  },
  "language_info": {
   "codemirror_mode": {
    "name": "ipython",
    "version": 3
   },
   "file_extension": ".py",
   "mimetype": "text/x-python",
   "name": "python",
   "nbconvert_exporter": "python",
   "pygments_lexer": "ipython3",
   "version": "3.10.12"
  }
 },
 "nbformat": 4,
 "nbformat_minor": 5
}
