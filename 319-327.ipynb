{
 "cells": [
  {
   "cell_type": "code",
   "execution_count": 6,
   "id": "88d48161",
   "metadata": {},
   "outputs": [
    {
     "data": {
      "text/plain": [
       "[13, 7, 0, 4, 0, 24, 0, 21]"
      ]
     },
     "execution_count": 6,
     "metadata": {},
     "output_type": "execute_result"
    }
   ],
   "source": [
    "def prob_319(input_list):\n",
    "    for i in range(2, len(input_list), 2):\n",
    "        input_list[i] = 0\n",
    "    max_element = max(input_list)\n",
    "    for i in range(len(input_list)):\n",
    "        if input_list[i] != 0:\n",
    "            input_list[i] += max_element\n",
    "    return input_list\n",
    "input_list = [1, -5, 3, -8, -10, 12, -6, 9]\n",
    "prob_319(input_list)"
   ]
  },
  {
   "cell_type": "code",
   "execution_count": 30,
   "id": "0161edf7",
   "metadata": {},
   "outputs": [
    {
     "data": {
      "text/plain": [
       "[1, -5, 3, -8, 1, 12, -6, 9]"
      ]
     },
     "execution_count": 30,
     "metadata": {},
     "output_type": "execute_result"
    }
   ],
   "source": [
    "def prob_320(my_list):\n",
    "    max_el = my_list.remove(max(my_list))\n",
    "    min_el = my_list.remove(min(my_list))\n",
    "    return my_list\n",
    "input_list = [1, -5, 3, 12, -8, -10, 1, 12, -6, 9]\n",
    "prob_320(input_list)"
   ]
  },
  {
   "cell_type": "code",
   "execution_count": 15,
   "id": "c51a9ee3",
   "metadata": {},
   "outputs": [
    {
     "data": {
      "text/plain": [
       "[13, -5, 15, -10, 12, -8, -10, 1, 12, -6, 9]"
      ]
     },
     "execution_count": 15,
     "metadata": {},
     "output_type": "execute_result"
    }
   ],
   "source": [
    "def prob_321(input_list):\n",
    "    max_value = max(input_list)\n",
    "    max_index = my_list.index(max_value)\n",
    "    for i in range(max_index):\n",
    "        if i % 2 == 0:\n",
    "            my_list[i] += max_value\n",
    "    return my_list\n",
    "input_list = [1, -5, 3, -10, 12, -8, -10, 1, 12, -6, 9]\n",
    "prob_321(input_list)"
   ]
  },
  {
   "cell_type": "code",
   "execution_count": 18,
   "id": "090b6796",
   "metadata": {},
   "outputs": [
    {
     "data": {
      "text/plain": [
       "[1, 0, 0, 0, -10, 12, 0, 0, 0, -10, 1, 0, 0, 0, -6, 9]"
      ]
     },
     "execution_count": 18,
     "metadata": {},
     "output_type": "execute_result"
    }
   ],
   "source": [
    "def prob_322(my_list):\n",
    "    new_list = []\n",
    "    for num in my_list:\n",
    "        new_list.append(num)\n",
    "        if num == 0:\n",
    "            new_list.extend([0, 0])\n",
    "    return new_list\n",
    "input_list = [1, 0, -10, 12, 0, -10, 1, 0, -6, 9]\n",
    "prob_322(input_list)"
   ]
  },
  {
   "cell_type": "code",
   "execution_count": 22,
   "id": "7d9001df",
   "metadata": {},
   "outputs": [
    {
     "data": {
      "text/plain": [
       "[30]"
      ]
     },
     "execution_count": 22,
     "metadata": {},
     "output_type": "execute_result"
    }
   ],
   "source": [
    "def prob_323(my_list):\n",
    "    return [n for n in my_list if n > max(my_list) + min(my_list) / 2]\n",
    "input_list = [1, 30, -10, 12, 0, -10, 1, 0, -6, 9]\n",
    "prob_323(input_list)"
   ]
  },
  {
   "cell_type": "code",
   "execution_count": 1,
   "id": "e1933c05",
   "metadata": {},
   "outputs": [
    {
     "data": {
      "text/plain": [
       "[12, 9, 3, 0, -10, 0, -10, 1, 0, -6]"
      ]
     },
     "execution_count": 1,
     "metadata": {},
     "output_type": "execute_result"
    }
   ],
   "source": [
    "def prob_324(input_list):\n",
    "    nums_1 = [num for num in input_list if num > input_list[0]]\n",
    "    nums_2 = [num for num in input_list if num == input_list[0]]\n",
    "    nums_3 = [num for num in input_list if num < input_list[0]]\n",
    "    return nums_1 + nums_2 + nums_3\n",
    "input_list = [3, 0, -10, 12, 0, -10, 1, 0, -6, 9]\n",
    "prob_324(input_list)"
   ]
  },
  {
   "cell_type": "code",
   "execution_count": 8,
   "id": "b81a1db5",
   "metadata": {},
   "outputs": [
    {
     "data": {
      "text/plain": [
       "[12, 0, -10, 3, 0, -10, 1, 0, -6, 9]"
      ]
     },
     "execution_count": 8,
     "metadata": {},
     "output_type": "execute_result"
    }
   ],
   "source": [
    "def prob_325(input_list):\n",
    "    max_index = input_list.index(max(input_list))  \n",
    "    input_list[0], input_list[max_index] = input_list[max_index], input_list[0] \n",
    "    return input_list\n",
    "input_list = [3, 0, -10, 12, 0, -10, 1, 0, -6, 9]\n",
    "prob_325(input_list)"
   ]
  },
  {
   "cell_type": "code",
   "execution_count": 16,
   "id": "b9ec769f",
   "metadata": {},
   "outputs": [
    {
     "data": {
      "text/plain": [
       "[5, 9, -6, 15, 1, -10, 4, 12, 10, 2, 3]"
      ]
     },
     "execution_count": 16,
     "metadata": {},
     "output_type": "execute_result"
    }
   ],
   "source": [
    "def prob_326(input_list):\n",
    "    input_list.reverse()\n",
    "    return input_list\n",
    "input_list = [3, 2, 10, 12, 4, -10, 1, 15, -6, 9, 5]\n",
    "prob_326(input_list)"
   ]
  },
  {
   "cell_type": "code",
   "execution_count": 22,
   "id": "88b5f10e",
   "metadata": {},
   "outputs": [
    {
     "name": "stdout",
     "output_type": "stream",
     "text": [
      "1\n"
     ]
    },
    {
     "data": {
      "text/plain": [
       "[2, 4, 8, 10, 12]"
      ]
     },
     "execution_count": 22,
     "metadata": {},
     "output_type": "execute_result"
    }
   ],
   "source": [
    "def prob_327(input_list):\n",
    "    min_num = min(input_list)\n",
    "    print(min_num)\n",
    "    indices_list = [index for index, num in enumerate(input_list) if num == min_num]\n",
    "    return indices_list\n",
    "input_list = [3, 2, 1, 10, 1, 12, 4, 10, 1, 15, 1, 9, 1, 5]\n",
    "prob_327(input_list)"
   ]
  }
 ],
 "metadata": {
  "kernelspec": {
   "display_name": "Python 3 (ipykernel)",
   "language": "python",
   "name": "python3"
  },
  "language_info": {
   "codemirror_mode": {
    "name": "ipython",
    "version": 3
   },
   "file_extension": ".py",
   "mimetype": "text/x-python",
   "name": "python",
   "nbconvert_exporter": "python",
   "pygments_lexer": "ipython3",
   "version": "3.10.12"
  }
 },
 "nbformat": 4,
 "nbformat_minor": 5
}
