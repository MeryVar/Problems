{
 "cells": [
  {
   "cell_type": "code",
   "execution_count": 6,
   "id": "cd76ff26",
   "metadata": {},
   "outputs": [
    {
     "data": {
      "text/plain": [
       "379"
      ]
     },
     "execution_count": 6,
     "metadata": {},
     "output_type": "execute_result"
    }
   ],
   "source": [
    "def prob_377(my_list):\n",
    "    sqr_list = [num ** 2 for num in my_list]\n",
    "    sequence = all(sqr_list[i] - sqr_list[i-1] == sqr_list[1] - sqr_list[0] for i in range(2, len(sqr_list)))\n",
    "    positive_nums = [num for num in my_list if num > 0]\n",
    "    \n",
    "    if sequence:\n",
    "        negative_nums = [num for num in my_list if num < 0]\n",
    "        product = 1\n",
    "        for num in negative_nums:\n",
    "            product *= num\n",
    "        print(product)\n",
    "    else:\n",
    "        positive_nums = [num for num in my_list if num > 0]\n",
    "        return sum(positive_nums)\n",
    "    \n",
    "my_list = [12, 36, 54, 87, 16, 45, 32, 74, 10, 13]\n",
    "prob_377(my_list)"
   ]
  },
  {
   "cell_type": "code",
   "execution_count": 11,
   "id": "12ee2548",
   "metadata": {},
   "outputs": [
    {
     "name": "stdout",
     "output_type": "stream",
     "text": [
      "54\n"
     ]
    }
   ],
   "source": [
    "def prob_378(my_list):\n",
    "    sum_positive = 0\n",
    "    product_negative = 1\n",
    "\n",
    "    for index, num in enumerate(my_list):\n",
    "        if index < len(my_list) - 1 and num < 0 and my_list[index + 1] > 0:\n",
    "            sum_positive = sum(my_list[index + 1:])\n",
    "            break\n",
    "        elif num < 0:\n",
    "            product_negative *= num\n",
    "\n",
    "    if sum_positive > 0:\n",
    "        return sum_positive\n",
    "    else:\n",
    "        return product_negative\n",
    "\n",
    "my_list = [5, -4, 66, -7, 8, -9, 4, -6, 5, -7]\n",
    "result = prob_378(my_list)\n",
    "print(result)"
   ]
  },
  {
   "cell_type": "code",
   "execution_count": 13,
   "id": "0274657a",
   "metadata": {},
   "outputs": [
    {
     "name": "stdout",
     "output_type": "stream",
     "text": [
      "[2, 3, 7, 13, 11]\n"
     ]
    }
   ],
   "source": [
    "def prob_379(list1, n):\n",
    "    def is_prime(num):\n",
    "        if num < 2:\n",
    "            return False\n",
    "        for i in range(2, int(num ** 0.5) + 1):\n",
    "            if num % i == 0:\n",
    "                return False\n",
    "        return True\n",
    "    \n",
    "    list2 = [num for num in list1 if num < n and is_prime(num)]\n",
    "    return list2\n",
    "\n",
    "list1 = [6, 2, 3, 8, 7, 9, 13, 11, 4]\n",
    "result = prob_379(list1, 18)\n",
    "print(result)"
   ]
  },
  {
   "cell_type": "code",
   "execution_count": 23,
   "id": "088452d2",
   "metadata": {},
   "outputs": [
    {
     "data": {
      "text/plain": [
       "2.9154759474226504"
      ]
     },
     "execution_count": 23,
     "metadata": {},
     "output_type": "execute_result"
    }
   ],
   "source": [
    "def prob_380(X, Y, m):\n",
    "    if set(Y) == set(X):\n",
    "        result = sum(max(X), max(Y)) / 2\n",
    "    else:\n",
    "        result = ((min(X) ** 2 + min(Y) ** 2) / 2) ** 0.5\n",
    "    return result\n",
    "\n",
    "X = [1, 2, 3, 4, 5]\n",
    "Y = [4, 5, 6, 7, 8]\n",
    "prob_380(X, Y, len(X))"
   ]
  },
  {
   "cell_type": "code",
   "execution_count": 15,
   "id": "e48598d7",
   "metadata": {},
   "outputs": [
    {
     "data": {
      "text/plain": [
       "[-9, -7, -7, -6, -4, 4, 5, 5, 8, 66]"
      ]
     },
     "execution_count": 15,
     "metadata": {},
     "output_type": "execute_result"
    }
   ],
   "source": [
    "def prob_381(my_list):\n",
    "    my_list.sort()\n",
    "    return my_list\n",
    "my_list = [5, -4, 66, -7, 8, -9, 4, -6, 5, -7]\n",
    "prob_381(my_list)    "
   ]
  },
  {
   "cell_type": "code",
   "execution_count": 8,
   "id": "5dd2df30",
   "metadata": {},
   "outputs": [
    {
     "data": {
      "text/plain": [
       "[1, 2, 3]"
      ]
     },
     "execution_count": 8,
     "metadata": {},
     "output_type": "execute_result"
    }
   ],
   "source": [
    "def prob_382(X, Y):\n",
    "    Z = [x for x in X if x not in Y]\n",
    "    return Z\n",
    "\n",
    "X = [1, 2, 3, 4, 5]\n",
    "Y = [4, 5, 6, 7, 8]\n",
    "prob_382(X, Y)"
   ]
  },
  {
   "cell_type": "code",
   "execution_count": 33,
   "id": "7994c708",
   "metadata": {},
   "outputs": [
    {
     "data": {
      "text/plain": [
       "[4, 5]"
      ]
     },
     "execution_count": 33,
     "metadata": {},
     "output_type": "execute_result"
    }
   ],
   "source": [
    "def prob_383(X, Y):\n",
    "    Z = [x for x in X if x in Y]\n",
    "    return Z\n",
    "\n",
    "X = [1, 2, 3, 4, 5]\n",
    "Y = [4, 5, 6, 7, 8]\n",
    "prob_383(X, Y)"
   ]
  },
  {
   "cell_type": "code",
   "execution_count": 46,
   "id": "973186c1",
   "metadata": {},
   "outputs": [
    {
     "data": {
      "text/plain": [
       "[4, 5]"
      ]
     },
     "execution_count": 46,
     "metadata": {},
     "output_type": "execute_result"
    }
   ],
   "source": [
    "def prob_384(X, Y):\n",
    "    Z = [x for x in X if X.count(x) == 1 and x in Y]\n",
    "    return Z\n",
    "\n",
    "X = [1, 2, 3, 4, 5]\n",
    "Y = [4, 5, 6, 7, 8]\n",
    "prob_384(X, Y)"
   ]
  },
  {
   "cell_type": "code",
   "execution_count": 21,
   "id": "2f5a84a5",
   "metadata": {},
   "outputs": [
    {
     "data": {
      "text/plain": [
       "[4, 4]"
      ]
     },
     "execution_count": 21,
     "metadata": {},
     "output_type": "execute_result"
    }
   ],
   "source": [
    "def prob_385(X, Y):\n",
    "    Z = [x for x in X if X.count(x) == 2 and x in Y]\n",
    "    return Z\n",
    "\n",
    "X = [1, 2, 3, 4, 4]\n",
    "Y = [4, 5, 4, 5, 8]\n",
    "prob_385(X, Y)"
   ]
  },
  {
   "cell_type": "code",
   "execution_count": 19,
   "id": "aabdf651",
   "metadata": {},
   "outputs": [
    {
     "data": {
      "text/plain": [
       "[6, 7]"
      ]
     },
     "execution_count": 19,
     "metadata": {},
     "output_type": "execute_result"
    }
   ],
   "source": [
    "def prob_386(X, Y):\n",
    "    av_Y = sum(Y) / len(Y)\n",
    "    Z = [x for x in X if av_Y <= x]\n",
    "    return Z\n",
    "\n",
    "X = [1, 2, 3, 6, 7]\n",
    "Y = [4, 5, 4, 5, 8]\n",
    "prob_386(X, Y)"
   ]
  },
  {
   "cell_type": "code",
   "execution_count": 22,
   "id": "c93ab35d",
   "metadata": {},
   "outputs": [
    {
     "data": {
      "text/plain": [
       "[9]"
      ]
     },
     "execution_count": 22,
     "metadata": {},
     "output_type": "execute_result"
    }
   ],
   "source": [
    "def prob_387(X, Y):\n",
    "    Z = [x for x in X if x > max(Y)]\n",
    "    return Z\n",
    "\n",
    "X = [1, 2, 3, 4, 9]\n",
    "Y = [4, 5, 4, 5, 8]\n",
    "prob_387(X, Y)"
   ]
  },
  {
   "cell_type": "code",
   "execution_count": 24,
   "id": "aa55c4d1",
   "metadata": {},
   "outputs": [
    {
     "data": {
      "text/plain": [
       "[1, 2, 3]"
      ]
     },
     "execution_count": 24,
     "metadata": {},
     "output_type": "execute_result"
    }
   ],
   "source": [
    "def prob_388(X, Y):\n",
    "    Z = [x for x in X if x < min(Y)]\n",
    "    return Z\n",
    "\n",
    "X = [1, 2, 3, 4, 9]\n",
    "Y = [4, 5, 4, 5, 8]\n",
    "prob_388(X, Y) "
   ]
  },
  {
   "cell_type": "code",
   "execution_count": 29,
   "id": "56ed9b36",
   "metadata": {},
   "outputs": [
    {
     "data": {
      "text/plain": [
       "[6]"
      ]
     },
     "execution_count": 29,
     "metadata": {},
     "output_type": "execute_result"
    }
   ],
   "source": [
    "def prob_389(X, Y):\n",
    "    odd_el = [y for y in Y if y % 2 != 0]\n",
    "    odd_av = sum(odd_el) / len(odd_el)\n",
    "    Z = [x for x in X if abs(x) > odd_av]\n",
    "    return Z\n",
    "\n",
    "X = [1, -2, -3, 4, 6]\n",
    "Y = [4, 5, 4, 5, 8]\n",
    "prob_389(X, Y)"
   ]
  },
  {
   "cell_type": "code",
   "execution_count": 33,
   "id": "b5576493",
   "metadata": {},
   "outputs": [
    {
     "data": {
      "text/plain": [
       "[1, -2, -3, 4]"
      ]
     },
     "execution_count": 33,
     "metadata": {},
     "output_type": "execute_result"
    }
   ],
   "source": [
    "def prob_390(X, Y):\n",
    "    even_el = [y**2 for y in Y if y % 2 == 0]\n",
    "    even_sqr = (sum(even_el) / len(even_el)) ** 0.5\n",
    "    Z = [x for x in X if abs(x) < even_sqr]\n",
    "    return Z\n",
    "\n",
    "X = [1, -2, -3, 4, 6]\n",
    "Y = [4, 5, 4, 5, 8]\n",
    "prob_390(X, Y)"
   ]
  },
  {
   "cell_type": "code",
   "execution_count": 36,
   "id": "01761c48",
   "metadata": {},
   "outputs": [
    {
     "data": {
      "text/plain": [
       "[1, -3, 4]"
      ]
     },
     "execution_count": 36,
     "metadata": {},
     "output_type": "execute_result"
    }
   ],
   "source": [
    "def prob_391(X, Y):\n",
    "    y_el = [y**2 for y in Y]\n",
    "    y_el_sqr = (sum(y_el) / len(y_el)) ** 0.5\n",
    "    Z = [x for x in X if x < y_el_sqr]\n",
    "    return Z\n",
    "\n",
    "X = [1, 8, -3, 4, 6]\n",
    "Y = [4, 5, 4, 5, 8]\n",
    "prob_391(X, Y)"
   ]
  }
 ],
 "metadata": {
  "kernelspec": {
   "display_name": "Python 3 (ipykernel)",
   "language": "python",
   "name": "python3"
  },
  "language_info": {
   "codemirror_mode": {
    "name": "ipython",
    "version": 3
   },
   "file_extension": ".py",
   "mimetype": "text/x-python",
   "name": "python",
   "nbconvert_exporter": "python",
   "pygments_lexer": "ipython3",
   "version": "3.10.12"
  }
 },
 "nbformat": 4,
 "nbformat_minor": 5
}
