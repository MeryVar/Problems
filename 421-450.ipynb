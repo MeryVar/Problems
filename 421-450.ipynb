{
 "cells": [
  {
   "cell_type": "code",
   "execution_count": 49,
   "id": "d92945c3",
   "metadata": {},
   "outputs": [
    {
     "data": {
      "text/plain": [
       "1"
      ]
     },
     "execution_count": 49,
     "metadata": {},
     "output_type": "execute_result"
    }
   ],
   "source": [
    "def prob_421(matrix, k):\n",
    "    count = 0\n",
    "    for i in range(len(matrix)):\n",
    "        for j in range(len(matrix)):\n",
    "             if i > j and matrix[i][j] % k == 0:\n",
    "                    count += 1\n",
    "    return count\n",
    "\n",
    "matrix = [[1, 2, 3],\n",
    "          [4, 5, 6],\n",
    "          [7, 8, 9]]\n",
    "prob_421(matrix, 8)"
   ]
  },
  {
   "cell_type": "code",
   "execution_count": 51,
   "id": "79f73408",
   "metadata": {},
   "outputs": [
    {
     "data": {
      "text/plain": [
       "25.0"
      ]
     },
     "execution_count": 51,
     "metadata": {},
     "output_type": "execute_result"
    }
   ],
   "source": [
    "def prob_422(matrix):\n",
    "    sum_num = 0\n",
    "    count = 0\n",
    "    for i in range(len(matrix)):\n",
    "        for j in range(len(matrix)):\n",
    "             if i > j and matrix[i][j] % 5 == 0:\n",
    "                    sum_num += matrix[i][j]\n",
    "                    count += 1\n",
    "    return sum_num / count\n",
    "\n",
    "matrix = [[1, 2, 3],\n",
    "          [25, 5, 6],\n",
    "          [7, 8, 9]]\n",
    "prob_422(matrix)"
   ]
  },
  {
   "cell_type": "code",
   "execution_count": 52,
   "id": "c5f80149",
   "metadata": {},
   "outputs": [
    {
     "data": {
      "text/plain": [
       "7.0710678118654755"
      ]
     },
     "execution_count": 52,
     "metadata": {},
     "output_type": "execute_result"
    }
   ],
   "source": [
    "def prob_423(matrix):\n",
    "    sum_num = 0\n",
    "    count = 0\n",
    "    for i in range(len(matrix)):\n",
    "        for j in range(len(matrix)):\n",
    "             if i >= j and matrix[i][j] % 2 == 0:\n",
    "                    sum_num += matrix[i][j] ** 2\n",
    "                    count += 1\n",
    "    return (sum_num / count) ** 0.5\n",
    "\n",
    "matrix = [[1, 2, 3],\n",
    "          [25, 5, 6],\n",
    "          [6, 8, 9]]\n",
    "prob_423(matrix)"
   ]
  },
  {
   "cell_type": "code",
   "execution_count": 30,
   "id": "57214ce2",
   "metadata": {},
   "outputs": [
    {
     "data": {
      "text/plain": [
       "10.0"
      ]
     },
     "execution_count": 30,
     "metadata": {},
     "output_type": "execute_result"
    }
   ],
   "source": [
    "def prob_424(matrix):\n",
    "    sum_num = 0\n",
    "    count = 0\n",
    "    for i in range(len(matrix)):\n",
    "        for j in range(len(matrix)):\n",
    "             if i >= j and matrix[i][j] % 2 != 0:\n",
    "                    sum_num += matrix[i][j]\n",
    "                    count += 1\n",
    "    return sum_num / count\n",
    "\n",
    "matrix = [[1, 2, 3],\n",
    "          [25, 5, 6],\n",
    "          [6, 8, 9]]\n",
    "prob_424(matrix)"
   ]
  },
  {
   "cell_type": "code",
   "execution_count": 31,
   "id": "cf06bcf6",
   "metadata": {},
   "outputs": [
    {
     "data": {
      "text/plain": [
       "2"
      ]
     },
     "execution_count": 31,
     "metadata": {},
     "output_type": "execute_result"
    }
   ],
   "source": [
    "def prob_425(matrix):\n",
    "    count = 0\n",
    "    for i in range(len(matrix)):\n",
    "        for j in range(len(matrix)):\n",
    "             if i > j and matrix[i][j] % 2 == 0:\n",
    "                    count += 1\n",
    "    return count\n",
    "\n",
    "\n",
    "matrix = [[1, 2, 3],\n",
    "          [25, 5, 6],\n",
    "          [6, 8, 9]]\n",
    "prob_425(matrix)"
   ]
  },
  {
   "cell_type": "code",
   "execution_count": 34,
   "id": "6c7227e1",
   "metadata": {},
   "outputs": [
    {
     "data": {
      "text/plain": [
       "4"
      ]
     },
     "execution_count": 34,
     "metadata": {},
     "output_type": "execute_result"
    }
   ],
   "source": [
    "def prob_426(matrix):\n",
    "    sum_num = 0\n",
    "    for i in range(len(matrix)):\n",
    "        for j in range(len(matrix)):\n",
    "            if i + j < len(matrix) - 1 and matrix[i][j] % 2 == 0:\n",
    "                sum_num += matrix[i][j]\n",
    "    return sum_num\n",
    "\n",
    "\n",
    "matrix = [[1, 2, 3],\n",
    "          [2, 5, 6],\n",
    "          [6, 8, 9]]\n",
    "prob_426(matrix)"
   ]
  },
  {
   "cell_type": "code",
   "execution_count": 35,
   "id": "be735223",
   "metadata": {},
   "outputs": [
    {
     "data": {
      "text/plain": [
       "72"
      ]
     },
     "execution_count": 35,
     "metadata": {},
     "output_type": "execute_result"
    }
   ],
   "source": [
    "def prob_427(matrix, k):\n",
    "    mul_num = 1\n",
    "    for i in range(len(matrix)):\n",
    "        for j in range(len(matrix)):\n",
    "            if i + j <= len(matrix) - 1 and matrix[i][j] % k == 0:\n",
    "                mul_num *= matrix[i][j]\n",
    "    return mul_num\n",
    "\n",
    "\n",
    "matrix = [[1, 2, 3],\n",
    "          [6, 5, 6],\n",
    "          [6, 8, 9]]\n",
    "prob_427(matrix, 2)"
   ]
  },
  {
   "cell_type": "code",
   "execution_count": 38,
   "id": "5246ae74",
   "metadata": {},
   "outputs": [
    {
     "data": {
      "text/plain": [
       "3"
      ]
     },
     "execution_count": 38,
     "metadata": {},
     "output_type": "execute_result"
    }
   ],
   "source": [
    "def prob_428(matrix):\n",
    "    count = 0\n",
    "    for i in range(len(matrix)):\n",
    "        for j in range(len(matrix)):\n",
    "            if i + j <= len(matrix) - 1 and matrix[i][j] == 0:\n",
    "                count += 1\n",
    "    return count\n",
    "\n",
    "matrix = [[1, 0, 3],\n",
    "          [0, 0, 6],\n",
    "          [6, 8, 9]]\n",
    "prob_428(matrix)"
   ]
  },
  {
   "cell_type": "code",
   "execution_count": 39,
   "id": "7ffb0a4f",
   "metadata": {},
   "outputs": [
    {
     "data": {
      "text/plain": [
       "1"
      ]
     },
     "execution_count": 39,
     "metadata": {},
     "output_type": "execute_result"
    }
   ],
   "source": [
    "def prob_429(matrix):\n",
    "    count = 0\n",
    "    for i in range(len(matrix)):\n",
    "        for j in range(len(matrix)):\n",
    "             if i <= j and matrix[i][j] % 5 == 2:\n",
    "                    count += 1\n",
    "    return count\n",
    "    \n",
    "matrix = [[1, 0, 3],\n",
    "          [0, 7, 6],\n",
    "          [6, 8, 9]]\n",
    "prob_429(matrix)"
   ]
  },
  {
   "cell_type": "code",
   "execution_count": 48,
   "id": "534ac92c",
   "metadata": {},
   "outputs": [
    {
     "data": {
      "text/plain": [
       "7.0"
      ]
     },
     "execution_count": 48,
     "metadata": {},
     "output_type": "execute_result"
    }
   ],
   "source": [
    "def prob_430(matrix):\n",
    "    sum_num = 0\n",
    "    count = 0\n",
    "    for i in range(len(matrix)):\n",
    "        for j in range(len(matrix)):\n",
    "             if i >= j and matrix[i][j] % 2 == 0:\n",
    "                    sum_num += matrix[i][j]\n",
    "                    count += 1\n",
    "    return sum_num / count\n",
    "\n",
    "matrix = [[1, 0, 3],\n",
    "          [1, 7, 6],\n",
    "          [6, 8, 9]]\n",
    "prob_430(matrix)"
   ]
  },
  {
   "cell_type": "code",
   "execution_count": 56,
   "id": "1c9874ea",
   "metadata": {},
   "outputs": [
    {
     "data": {
      "text/plain": [
       "2"
      ]
     },
     "execution_count": 56,
     "metadata": {},
     "output_type": "execute_result"
    }
   ],
   "source": [
    "def prob_431(matrix):\n",
    "    count = 0\n",
    "    for i in range(len(matrix)):\n",
    "        for j in range(len(matrix)):\n",
    "            if i + j >= len(matrix) - 1 and (i + j) % 2 != 0:\n",
    "                count += 1\n",
    "    return count\n",
    "\n",
    "matrix = [[1, 0, 10],\n",
    "          [1, 8, 6],\n",
    "          [6, 8, 9]]\n",
    "prob_431(matrix)"
   ]
  },
  {
   "cell_type": "code",
   "execution_count": 60,
   "id": "77ae4fdc",
   "metadata": {},
   "outputs": [
    {
     "data": {
      "text/plain": [
       "2.23606797749979"
      ]
     },
     "execution_count": 60,
     "metadata": {},
     "output_type": "execute_result"
    }
   ],
   "source": [
    "def prob_432(matrix):\n",
    "    sum_num = 0\n",
    "    count = 0\n",
    "    for i in range(len(matrix)):\n",
    "        for j in range(len(matrix)):\n",
    "            if i + j <= len(matrix) - 1 and (i + j) % 2 != 0:\n",
    "                sum_num += matrix[i][j] ** 2\n",
    "                count += 1\n",
    "    return (sum_num / count) ** 0.5\n",
    "\n",
    "matrix = [[7, 3, 1],\n",
    "          [1, 5, 6],\n",
    "          [6, 8, 9]]\n",
    "prob_432(matrix)"
   ]
  },
  {
   "cell_type": "code",
   "execution_count": 63,
   "id": "3d16acbe",
   "metadata": {},
   "outputs": [
    {
     "data": {
      "text/plain": [
       "3"
      ]
     },
     "execution_count": 63,
     "metadata": {},
     "output_type": "execute_result"
    }
   ],
   "source": [
    "def prob_433(matrix, a, b):\n",
    "    count = 0\n",
    "    for i in range(len(matrix)):\n",
    "        for j in range(len(matrix)):\n",
    "            if i + j <= len(matrix) - 1 and a <= matrix[i][j] <= b:\n",
    "                count += 1\n",
    "    return count\n",
    "\n",
    "matrix = [[7, 3, 1],\n",
    "          [1, 5, 6],\n",
    "          [6, 8, 9]]\n",
    "prob_433(matrix, 2, 6)"
   ]
  },
  {
   "cell_type": "code",
   "execution_count": 103,
   "id": "5df7fad0",
   "metadata": {},
   "outputs": [
    {
     "data": {
      "text/plain": [
       "4"
      ]
     },
     "execution_count": 103,
     "metadata": {},
     "output_type": "execute_result"
    }
   ],
   "source": [
    "def prob_434(matrix):\n",
    "    count = 0\n",
    "    for i in range(len(matrix)):\n",
    "        for j in range(len(matrix)):\n",
    "            if i + j >= len(matrix) - 1 and 5.4 <= abs(matrix[i][j]) <= 15.3:\n",
    "                count += 1\n",
    "    return count\n",
    "\n",
    "matrix = [[7, 3, 1],\n",
    "          [1, 5, -6],\n",
    "          [6, -8, 9]]\n",
    "prob_434(matrix)"
   ]
  },
  {
   "cell_type": "code",
   "execution_count": 71,
   "id": "fde350fa",
   "metadata": {},
   "outputs": [
    {
     "data": {
      "text/plain": [
       "2"
      ]
     },
     "execution_count": 71,
     "metadata": {},
     "output_type": "execute_result"
    }
   ],
   "source": [
    "def prob_435(matrix):\n",
    "    count = 0\n",
    "    for i in range(len(matrix)):\n",
    "        for j in range(len(matrix)):\n",
    "            if i + j < len(matrix) - 1 and matrix[i][j] % 5 == 0:\n",
    "                count += 1\n",
    "    return count\n",
    "\n",
    "matrix = [[7, 35, 1],\n",
    "          [5, 5, 6],\n",
    "          [6, 8, 9]]\n",
    "prob_435(matrix)"
   ]
  },
  {
   "cell_type": "code",
   "execution_count": 74,
   "id": "ca63ab5c",
   "metadata": {},
   "outputs": [
    {
     "data": {
      "text/plain": [
       "5.5"
      ]
     },
     "execution_count": 74,
     "metadata": {},
     "output_type": "execute_result"
    }
   ],
   "source": [
    "def prob_436(matrix, a, b):\n",
    "    sum_num = 0\n",
    "    count = 0\n",
    "    for i in range(len(matrix)):\n",
    "        for j in range(len(matrix)):\n",
    "            if i > j and a <= matrix[i][j] <= b:\n",
    "                sum_num += matrix[i][j]\n",
    "                count += 1\n",
    "    return sum_num / count\n",
    "\n",
    "matrix = [[7, 35, 1],\n",
    "          [5, 5, 6],\n",
    "          [6, 8, 9]]\n",
    "prob_436(matrix, 1, 6)"
   ]
  },
  {
   "cell_type": "code",
   "execution_count": 79,
   "id": "3d09a90e",
   "metadata": {},
   "outputs": [
    {
     "data": {
      "text/plain": [
       "37.5"
      ]
     },
     "execution_count": 79,
     "metadata": {},
     "output_type": "execute_result"
    }
   ],
   "source": [
    "def prob_437(matrix):\n",
    "    sum_num = 0\n",
    "    count = 0\n",
    "    for i in range(len(matrix)):\n",
    "        for j in range(len(matrix)):\n",
    "            if i >= j and isinstance(matrix[i][j], int):\n",
    "                sum_num += matrix[i][j] ** 2\n",
    "                count += 1\n",
    "    return sum_num / count\n",
    "    \n",
    "matrix = [[7, 5, 1],\n",
    "          [5, 5, 6],\n",
    "          [6, 3, 9]]\n",
    "prob_437(matrix)"
   ]
  },
  {
   "cell_type": "code",
   "execution_count": 82,
   "id": "d71eb008",
   "metadata": {},
   "outputs": [
    {
     "data": {
      "text/plain": [
       "1"
      ]
     },
     "execution_count": 82,
     "metadata": {},
     "output_type": "execute_result"
    }
   ],
   "source": [
    "def prob_438(matrix):\n",
    "    count = 0\n",
    "    for i in range(len(matrix)):\n",
    "        for j in range(len(matrix)):\n",
    "            if i > j and matrix[i][j] > 0 and j % 2 == 0:\n",
    "                                count += 1\n",
    "    return count\n",
    "\n",
    "matrix = [[7, 5, 1],\n",
    "          [-5, 5, 6],\n",
    "          [6, 3, 9]]\n",
    "prob_438(matrix)"
   ]
  },
  {
   "cell_type": "code",
   "execution_count": 86,
   "id": "2529d5c2",
   "metadata": {},
   "outputs": [
    {
     "data": {
      "text/plain": [
       "30"
      ]
     },
     "execution_count": 86,
     "metadata": {},
     "output_type": "execute_result"
    }
   ],
   "source": [
    "def prob_439(matrix):\n",
    "    mul_num = 1\n",
    "    for i in range(len(matrix)):\n",
    "        for j in range(len(matrix)):\n",
    "            if i < j and (i + j) % 2 != 0:\n",
    "                mul_num *= matrix[i][j]\n",
    "    return mul_num\n",
    "\n",
    "matrix = [[7, 5, 1],\n",
    "          [-5, 5, 6],\n",
    "          [6, 3, 9]]\n",
    "prob_439(matrix)"
   ]
  },
  {
   "cell_type": "code",
   "execution_count": 88,
   "id": "797574c3",
   "metadata": {},
   "outputs": [
    {
     "data": {
      "text/plain": [
       "1"
      ]
     },
     "execution_count": 88,
     "metadata": {},
     "output_type": "execute_result"
    }
   ],
   "source": [
    "def prob_440(matrix):\n",
    "    sum_num = 0\n",
    "    for i in range(len(matrix)):\n",
    "        for j in range(len(matrix)):\n",
    "            if i < j and (i + j) % 2 == 0:\n",
    "                sum_num += matrix[i][j]\n",
    "    return sum_num\n",
    "\n",
    "matrix = [[7, 5, 8],\n",
    "          [-5, 5, 6],\n",
    "          [6, 3, 9]]\n",
    "prob_440(matrix)"
   ]
  },
  {
   "cell_type": "code",
   "execution_count": 91,
   "id": "47c9ef97",
   "metadata": {},
   "outputs": [
    {
     "data": {
      "text/plain": [
       "6.454972243679028"
      ]
     },
     "execution_count": 91,
     "metadata": {},
     "output_type": "execute_result"
    }
   ],
   "source": [
    "def prob_441(matrix):\n",
    "    sum_num = 0\n",
    "    count = 0\n",
    "    for i in range(len(matrix)):\n",
    "        for j in range(len(matrix)):\n",
    "            if i < j and matrix[i][j] > 0:\n",
    "                sum_num += matrix[i][j] ** 2\n",
    "                count += 1\n",
    "    return (sum_num / count) ** 0.5\n",
    "\n",
    "matrix = [[7, 5, 8],\n",
    "          [-5, 5, 6],\n",
    "          [6, 3, 9]]\n",
    "prob_441(matrix)"
   ]
  },
  {
   "cell_type": "code",
   "execution_count": 96,
   "id": "4d518c8f",
   "metadata": {},
   "outputs": [
    {
     "data": {
      "text/plain": [
       "-7.0"
      ]
     },
     "execution_count": 96,
     "metadata": {},
     "output_type": "execute_result"
    }
   ],
   "source": [
    "def prob_442(matrix):\n",
    "    sum_num = 0\n",
    "    count = 0\n",
    "    for i in range(len(matrix)):\n",
    "        for j in range(len(matrix)):\n",
    "            if i + j > len(matrix) - 1 and matrix[i][j] < 0:\n",
    "                sum_num += matrix[i][j]\n",
    "                count += 1\n",
    "    return sum_num / count\n",
    "\n",
    "matrix = [[7, 5, 8],\n",
    "          [5, 5, 6],\n",
    "          [6, -5, -9]]\n",
    "prob_442(matrix)"
   ]
  },
  {
   "cell_type": "code",
   "execution_count": 99,
   "id": "4d1b4f1d",
   "metadata": {},
   "outputs": [
    {
     "data": {
      "text/plain": [
       "2"
      ]
     },
     "execution_count": 99,
     "metadata": {},
     "output_type": "execute_result"
    }
   ],
   "source": [
    "def prob_443(matrix):\n",
    "    count = 0\n",
    "    for i in range(len(matrix)):\n",
    "        for j in range(len(matrix)):\n",
    "            if i < j and matrix[i][j] == 0:\n",
    "                count += 1\n",
    "    return count\n",
    "\n",
    "matrix = [[0, 5, 0],\n",
    "          [0, 5, 0],\n",
    "          [6, -5, -9]]\n",
    "prob_443(matrix)"
   ]
  },
  {
   "cell_type": "code",
   "execution_count": 102,
   "id": "3924081e",
   "metadata": {},
   "outputs": [
    {
     "data": {
      "text/plain": [
       "1"
      ]
     },
     "execution_count": 102,
     "metadata": {},
     "output_type": "execute_result"
    }
   ],
   "source": [
    "def prob_444(matrix):\n",
    "    count = 0\n",
    "    for i in range(len(matrix)):\n",
    "        for j in range(len(matrix)):\n",
    "            if i < j and matrix[i][j] < 0 and i % 2 != 0:\n",
    "                count += 1\n",
    "    return count\n",
    "\n",
    "matrix = [[-7, -5, -4],\n",
    "          [0, 5, -8],\n",
    "          [6, -5, -9]]\n",
    "prob_444(matrix)"
   ]
  },
  {
   "cell_type": "code",
   "execution_count": 104,
   "id": "b754a2cc",
   "metadata": {},
   "outputs": [
    {
     "data": {
      "text/plain": [
       "2"
      ]
     },
     "execution_count": 104,
     "metadata": {},
     "output_type": "execute_result"
    }
   ],
   "source": [
    "def prob_445(matrix, k):\n",
    "    count = 0\n",
    "    for i in range(len(matrix)):\n",
    "        for j in range(len(matrix)):\n",
    "            if i > j and abs(matrix[i][j]) > k:\n",
    "                count += 1\n",
    "    return count\n",
    "\n",
    "matrix = [[-7, -5, -4],\n",
    "          [0, 5, -8],\n",
    "          [6, -5, -9]]\n",
    "prob_445(matrix, 3)"
   ]
  },
  {
   "cell_type": "code",
   "execution_count": 109,
   "id": "516f9d6f",
   "metadata": {},
   "outputs": [
    {
     "data": {
      "text/plain": [
       "5"
      ]
     },
     "execution_count": 109,
     "metadata": {},
     "output_type": "execute_result"
    }
   ],
   "source": [
    "def prob_446(matrix, a, b):\n",
    "    sum_num = 0\n",
    "    for i in range(len(matrix)):\n",
    "        for j in range(len(matrix)):\n",
    "            if i <= j and a <= matrix[i][j] <= b:\n",
    "                sum_num += matrix[i][j]\n",
    "    return sum_num\n",
    "\n",
    "matrix = [[-7, -5, -4],\n",
    "          [0, 5, -8],\n",
    "          [6, -5, -9]]\n",
    "prob_446(matrix, 3, 7)            "
   ]
  },
  {
   "cell_type": "code",
   "execution_count": 111,
   "id": "1344dfff",
   "metadata": {},
   "outputs": [
    {
     "data": {
      "text/plain": [
       "1440"
      ]
     },
     "execution_count": 111,
     "metadata": {},
     "output_type": "execute_result"
    }
   ],
   "source": [
    "def prob_447(matrix, a):\n",
    "    mul_num = 1\n",
    "    for i in range(len(matrix)):\n",
    "        for j in range(len(matrix)):\n",
    "            if i + j >= len(matrix) - 1 and matrix[i][j] < a:\n",
    "                mul_num *= matrix[i][j]\n",
    "    return mul_num\n",
    "\n",
    "matrix = [[-7, -5, -4],\n",
    "          [0, 5, -8],\n",
    "          [6, -5, -9]]\n",
    "prob_447(matrix, 3)      "
   ]
  },
  {
   "cell_type": "code",
   "execution_count": 113,
   "id": "01cc8e92",
   "metadata": {},
   "outputs": [
    {
     "data": {
      "text/plain": [
       "-3.75"
      ]
     },
     "execution_count": 113,
     "metadata": {},
     "output_type": "execute_result"
    }
   ],
   "source": [
    "def prob_448(matrix):\n",
    "    sum_num = 0\n",
    "    count = 0\n",
    "    for i in range(len(matrix)):\n",
    "        for j in range(len(matrix)):\n",
    "            if i <= j and (i + j) % 2 == 0:\n",
    "                sum_num += matrix[i][j]\n",
    "                count += 1\n",
    "    return sum_num / count\n",
    "\n",
    "matrix = [[-7, -5, -4],\n",
    "          [0, 5, -8],\n",
    "          [6, -5, -9]]\n",
    "prob_448(matrix)         "
   ]
  },
  {
   "cell_type": "code",
   "execution_count": 118,
   "id": "0c5122ae",
   "metadata": {},
   "outputs": [
    {
     "data": {
      "text/plain": [
       "-12.7"
      ]
     },
     "execution_count": 118,
     "metadata": {},
     "output_type": "execute_result"
    }
   ],
   "source": [
    "def prob_449(matrix):\n",
    "    sum_num = 0\n",
    "    for i in range(len(matrix)):\n",
    "        for j in range(len(matrix)):\n",
    "            if i + j < len(matrix) - 1 and int(matrix[i][j]) % 4 == 0:\n",
    "                sum_num += matrix[i][j]\n",
    "    return sum_num\n",
    "\n",
    "matrix = [[-8.2, -4.5, -4],\n",
    "          [0, 8.3, -8],\n",
    "          [6, -5, -9]]\n",
    "prob_449(matrix) "
   ]
  },
  {
   "cell_type": "code",
   "execution_count": 120,
   "id": "f7d01eb7",
   "metadata": {},
   "outputs": [
    {
     "data": {
      "text/plain": [
       "-2.2"
      ]
     },
     "execution_count": 120,
     "metadata": {},
     "output_type": "execute_result"
    }
   ],
   "source": [
    "def prob_450(matrix):\n",
    "    sum_num = 0\n",
    "    for i in range(len(matrix)):\n",
    "        for j in range(len(matrix)):\n",
    "            if i + j > len(matrix) - 1:\n",
    "                sum_num += matrix[i][j] / 10\n",
    "    return sum_num\n",
    "\n",
    "matrix = [[-8.2, -4.5, -4],\n",
    "          [0, 8.3, -8],\n",
    "          [6, -5, -9]]\n",
    "prob_450(matrix)  "
   ]
  }
 ],
 "metadata": {
  "kernelspec": {
   "display_name": "Python 3 (ipykernel)",
   "language": "python",
   "name": "python3"
  },
  "language_info": {
   "codemirror_mode": {
    "name": "ipython",
    "version": 3
   },
   "file_extension": ".py",
   "mimetype": "text/x-python",
   "name": "python",
   "nbconvert_exporter": "python",
   "pygments_lexer": "ipython3",
   "version": "3.10.12"
  }
 },
 "nbformat": 4,
 "nbformat_minor": 5
}
