{
 "cells": [
  {
   "cell_type": "code",
   "execution_count": 49,
   "id": "da975d35",
   "metadata": {},
   "outputs": [
    {
     "data": {
      "text/plain": [
       "1"
      ]
     },
     "execution_count": 49,
     "metadata": {},
     "output_type": "execute_result"
    }
   ],
   "source": [
    "def prob_421(matrix, k):\n",
    "    count = 0\n",
    "    for i in range(len(matrix)):\n",
    "        for j in range(len(matrix)):\n",
    "             if i > j and matrix[i][j] % k == 0:\n",
    "                    count += 1\n",
    "    return count\n",
    "\n",
    "matrix = [[1, 2, 3],\n",
    "          [4, 5, 6],\n",
    "          [7, 8, 9]]\n",
    "prob_421(matrix, 8)"
   ]
  },
  {
   "cell_type": "code",
   "execution_count": 51,
   "id": "12f9c258",
   "metadata": {},
   "outputs": [
    {
     "data": {
      "text/plain": [
       "25.0"
      ]
     },
     "execution_count": 51,
     "metadata": {},
     "output_type": "execute_result"
    }
   ],
   "source": [
    "def prob_422(matrix):\n",
    "    sum_num = 0\n",
    "    count = 0\n",
    "    for i in range(len(matrix)):\n",
    "        for j in range(len(matrix)):\n",
    "             if i > j and matrix[i][j] % 5 == 0:\n",
    "                    sum_num += matrix[i][j]\n",
    "                    count += 1\n",
    "    return sum_num / count\n",
    "\n",
    "matrix = [[1, 2, 3],\n",
    "          [25, 5, 6],\n",
    "          [7, 8, 9]]\n",
    "prob_422(matrix)"
   ]
  },
  {
   "cell_type": "code",
   "execution_count": 52,
   "id": "634a03c1",
   "metadata": {},
   "outputs": [
    {
     "data": {
      "text/plain": [
       "7.0710678118654755"
      ]
     },
     "execution_count": 52,
     "metadata": {},
     "output_type": "execute_result"
    }
   ],
   "source": [
    "def prob_423(matrix):\n",
    "    sum_num = 0\n",
    "    count = 0\n",
    "    for i in range(len(matrix)):\n",
    "        for j in range(len(matrix)):\n",
    "             if i >= j and matrix[i][j] % 2 == 0:\n",
    "                    sum_num += matrix[i][j] ** 2\n",
    "                    count += 1\n",
    "    return (sum_num / count) ** 0.5\n",
    "\n",
    "matrix = [[1, 2, 3],\n",
    "          [25, 5, 6],\n",
    "          [6, 8, 9]]\n",
    "prob_423(matrix)"
   ]
  },
  {
   "cell_type": "code",
   "execution_count": 30,
   "id": "c97af743",
   "metadata": {},
   "outputs": [
    {
     "data": {
      "text/plain": [
       "10.0"
      ]
     },
     "execution_count": 30,
     "metadata": {},
     "output_type": "execute_result"
    }
   ],
   "source": [
    "def prob_424(matrix):\n",
    "    sum_num = 0\n",
    "    count = 0\n",
    "    for i in range(len(matrix)):\n",
    "        for j in range(len(matrix)):\n",
    "             if i >= j and matrix[i][j] % 2 != 0:\n",
    "                    sum_num += matrix[i][j]\n",
    "                    count += 1\n",
    "    return sum_num / count\n",
    "\n",
    "matrix = [[1, 2, 3],\n",
    "          [25, 5, 6],\n",
    "          [6, 8, 9]]\n",
    "prob_424(matrix)"
   ]
  },
  {
   "cell_type": "code",
   "execution_count": 31,
   "id": "575f7c7c",
   "metadata": {},
   "outputs": [
    {
     "data": {
      "text/plain": [
       "2"
      ]
     },
     "execution_count": 31,
     "metadata": {},
     "output_type": "execute_result"
    }
   ],
   "source": [
    "def prob_425(matrix):\n",
    "    count = 0\n",
    "    for i in range(len(matrix)):\n",
    "        for j in range(len(matrix)):\n",
    "             if i > j and matrix[i][j] % 2 == 0:\n",
    "                    count += 1\n",
    "    return count\n",
    "\n",
    "\n",
    "matrix = [[1, 2, 3],\n",
    "          [25, 5, 6],\n",
    "          [6, 8, 9]]\n",
    "prob_425(matrix)"
   ]
  },
  {
   "cell_type": "code",
   "execution_count": 34,
   "id": "bbea7bd1",
   "metadata": {},
   "outputs": [
    {
     "data": {
      "text/plain": [
       "4"
      ]
     },
     "execution_count": 34,
     "metadata": {},
     "output_type": "execute_result"
    }
   ],
   "source": [
    "def prob_426(matrix):\n",
    "    sum_num = 0\n",
    "    for i in range(len(matrix)):\n",
    "        for j in range(len(matrix)):\n",
    "            if i + j < len(matrix) - 1 and matrix[i][j] % 2 == 0:\n",
    "                sum_num += matrix[i][j]\n",
    "    return sum_num\n",
    "\n",
    "\n",
    "matrix = [[1, 2, 3],\n",
    "          [2, 5, 6],\n",
    "          [6, 8, 9]]\n",
    "prob_426(matrix)"
   ]
  },
  {
   "cell_type": "code",
   "execution_count": 35,
   "id": "1f7acbd6",
   "metadata": {},
   "outputs": [
    {
     "data": {
      "text/plain": [
       "72"
      ]
     },
     "execution_count": 35,
     "metadata": {},
     "output_type": "execute_result"
    }
   ],
   "source": [
    "def prob_427(matrix, k):\n",
    "    mul_num = 1\n",
    "    for i in range(len(matrix)):\n",
    "        for j in range(len(matrix)):\n",
    "            if i + j <= len(matrix) - 1 and matrix[i][j] % k == 0:\n",
    "                mul_num *= matrix[i][j]\n",
    "    return mul_num\n",
    "\n",
    "\n",
    "matrix = [[1, 2, 3],\n",
    "          [6, 5, 6],\n",
    "          [6, 8, 9]]\n",
    "prob_427(matrix, 2)"
   ]
  },
  {
   "cell_type": "code",
   "execution_count": 38,
   "id": "734895bf",
   "metadata": {},
   "outputs": [
    {
     "data": {
      "text/plain": [
       "3"
      ]
     },
     "execution_count": 38,
     "metadata": {},
     "output_type": "execute_result"
    }
   ],
   "source": [
    "def prob_428(matrix):\n",
    "    count = 0\n",
    "    for i in range(len(matrix)):\n",
    "        for j in range(len(matrix)):\n",
    "            if i + j <= len(matrix) - 1 and matrix[i][j] == 0:\n",
    "                count += 1\n",
    "    return count\n",
    "\n",
    "matrix = [[1, 0, 3],\n",
    "          [0, 0, 6],\n",
    "          [6, 8, 9]]\n",
    "prob_428(matrix)"
   ]
  },
  {
   "cell_type": "code",
   "execution_count": 39,
   "id": "0107e7ba",
   "metadata": {},
   "outputs": [
    {
     "data": {
      "text/plain": [
       "1"
      ]
     },
     "execution_count": 39,
     "metadata": {},
     "output_type": "execute_result"
    }
   ],
   "source": [
    "def prob_429(matrix):\n",
    "    count = 0\n",
    "    for i in range(len(matrix)):\n",
    "        for j in range(len(matrix)):\n",
    "             if i <= j and matrix[i][j] % 5 == 2:\n",
    "                    count += 1\n",
    "    return count\n",
    "    \n",
    "matrix = [[1, 0, 3],\n",
    "          [0, 7, 6],\n",
    "          [6, 8, 9]]\n",
    "prob_429(matrix)"
   ]
  },
  {
   "cell_type": "code",
   "execution_count": 48,
   "id": "8e7261f1",
   "metadata": {},
   "outputs": [
    {
     "data": {
      "text/plain": [
       "7.0"
      ]
     },
     "execution_count": 48,
     "metadata": {},
     "output_type": "execute_result"
    }
   ],
   "source": [
    "def prob_430(matrix):\n",
    "    sum_num = 0\n",
    "    count = 0\n",
    "    for i in range(len(matrix)):\n",
    "        for j in range(len(matrix)):\n",
    "             if i >= j and matrix[i][j] % 2 == 0:\n",
    "                    sum_num += matrix[i][j]\n",
    "                    count += 1\n",
    "    return sum_num / count\n",
    "\n",
    "matrix = [[1, 0, 3],\n",
    "          [1, 7, 6],\n",
    "          [6, 8, 9]]\n",
    "prob_430(matrix)"
   ]
  },
  {
   "cell_type": "code",
   "execution_count": 56,
   "id": "93ef36d4",
   "metadata": {},
   "outputs": [
    {
     "data": {
      "text/plain": [
       "2"
      ]
     },
     "execution_count": 56,
     "metadata": {},
     "output_type": "execute_result"
    }
   ],
   "source": [
    "def prob_431(matrix):\n",
    "    count = 0\n",
    "    for i in range(len(matrix)):\n",
    "        for j in range(len(matrix)):\n",
    "            if i + j >= len(matrix) - 1 and (i + j) % 2 != 0:\n",
    "                count += 1\n",
    "    return count\n",
    "\n",
    "matrix = [[1, 0, 10],\n",
    "          [1, 8, 6],\n",
    "          [6, 8, 9]]\n",
    "prob_431(matrix)"
   ]
  },
  {
   "cell_type": "code",
   "execution_count": 60,
   "id": "218255ce",
   "metadata": {},
   "outputs": [
    {
     "data": {
      "text/plain": [
       "2.23606797749979"
      ]
     },
     "execution_count": 60,
     "metadata": {},
     "output_type": "execute_result"
    }
   ],
   "source": [
    "def prob_432(matrix):\n",
    "    sum_num = 0\n",
    "    count = 0\n",
    "    for i in range(len(matrix)):\n",
    "        for j in range(len(matrix)):\n",
    "            if i + j <= len(matrix) - 1 and (i + j) % 2 != 0:\n",
    "                sum_num += matrix[i][j] ** 2\n",
    "                count += 1\n",
    "    return (sum_num / count) ** 0.5\n",
    "\n",
    "matrix = [[7, 3, 1],\n",
    "          [1, 5, 6],\n",
    "          [6, 8, 9]]\n",
    "prob_432(matrix)"
   ]
  },
  {
   "cell_type": "code",
   "execution_count": 63,
   "id": "9ddce478",
   "metadata": {},
   "outputs": [
    {
     "data": {
      "text/plain": [
       "3"
      ]
     },
     "execution_count": 63,
     "metadata": {},
     "output_type": "execute_result"
    }
   ],
   "source": [
    "def prob_433(matrix, a, b):\n",
    "    count = 0\n",
    "    for i in range(len(matrix)):\n",
    "        for j in range(len(matrix)):\n",
    "            if i + j <= len(matrix) - 1 and a <= matrix[i][j] <= b:\n",
    "                count += 1\n",
    "    return count\n",
    "\n",
    "matrix = [[7, 3, 1],\n",
    "          [1, 5, 6],\n",
    "          [6, 8, 9]]\n",
    "prob_433(matrix, 2, 6)"
   ]
  },
  {
   "cell_type": "code",
   "execution_count": 103,
   "id": "6f5f62b9",
   "metadata": {},
   "outputs": [
    {
     "data": {
      "text/plain": [
       "4"
      ]
     },
     "execution_count": 103,
     "metadata": {},
     "output_type": "execute_result"
    }
   ],
   "source": [
    "def prob_434(matrix):\n",
    "    count = 0\n",
    "    for i in range(len(matrix)):\n",
    "        for j in range(len(matrix)):\n",
    "            if i + j >= len(matrix) - 1 and 5.4 <= abs(matrix[i][j]) <= 15.3:\n",
    "                count += 1\n",
    "    return count\n",
    "\n",
    "matrix = [[7, 3, 1],\n",
    "          [1, 5, -6],\n",
    "          [6, -8, 9]]\n",
    "prob_434(matrix)"
   ]
  },
  {
   "cell_type": "code",
   "execution_count": 71,
   "id": "55a8c48f",
   "metadata": {},
   "outputs": [
    {
     "data": {
      "text/plain": [
       "2"
      ]
     },
     "execution_count": 71,
     "metadata": {},
     "output_type": "execute_result"
    }
   ],
   "source": [
    "def prob_435(matrix):\n",
    "    count = 0\n",
    "    for i in range(len(matrix)):\n",
    "        for j in range(len(matrix)):\n",
    "            if i + j < len(matrix) - 1 and matrix[i][j] % 5 == 0:\n",
    "                count += 1\n",
    "    return count\n",
    "\n",
    "matrix = [[7, 35, 1],\n",
    "          [5, 5, 6],\n",
    "          [6, 8, 9]]\n",
    "prob_435(matrix)"
   ]
  },
  {
   "cell_type": "code",
   "execution_count": 74,
   "id": "dcdbc466",
   "metadata": {},
   "outputs": [
    {
     "data": {
      "text/plain": [
       "5.5"
      ]
     },
     "execution_count": 74,
     "metadata": {},
     "output_type": "execute_result"
    }
   ],
   "source": [
    "def prob_436(matrix, a, b):\n",
    "    sum_num = 0\n",
    "    count = 0\n",
    "    for i in range(len(matrix)):\n",
    "        for j in range(len(matrix)):\n",
    "            if i > j and a <= matrix[i][j] <= b:\n",
    "                sum_num += matrix[i][j]\n",
    "                count += 1\n",
    "    return sum_num / count\n",
    "\n",
    "matrix = [[7, 35, 1],\n",
    "          [5, 5, 6],\n",
    "          [6, 8, 9]]\n",
    "prob_436(matrix, 1, 6)"
   ]
  },
  {
   "cell_type": "code",
   "execution_count": 79,
   "id": "1e4d6e03",
   "metadata": {},
   "outputs": [
    {
     "data": {
      "text/plain": [
       "37.5"
      ]
     },
     "execution_count": 79,
     "metadata": {},
     "output_type": "execute_result"
    }
   ],
   "source": [
    "def prob_437(matrix):\n",
    "    sum_num = 0\n",
    "    count = 0\n",
    "    for i in range(len(matrix)):\n",
    "        for j in range(len(matrix)):\n",
    "            if i >= j and isinstance(matrix[i][j], int):\n",
    "                sum_num += matrix[i][j] ** 2\n",
    "                count += 1\n",
    "    return sum_num / count\n",
    "    \n",
    "matrix = [[7, 5, 1],\n",
    "          [5, 5, 6],\n",
    "          [6, 3, 9]]\n",
    "prob_437(matrix)"
   ]
  },
  {
   "cell_type": "code",
   "execution_count": 82,
   "id": "afed1d5f",
   "metadata": {},
   "outputs": [
    {
     "data": {
      "text/plain": [
       "1"
      ]
     },
     "execution_count": 82,
     "metadata": {},
     "output_type": "execute_result"
    }
   ],
   "source": [
    "def prob_438(matrix):\n",
    "    count = 0\n",
    "    for i in range(len(matrix)):\n",
    "        for j in range(len(matrix)):\n",
    "            if i > j and matrix[i][j] > 0 and j % 2 == 0:\n",
    "                                count += 1\n",
    "    return count\n",
    "\n",
    "matrix = [[7, 5, 1],\n",
    "          [-5, 5, 6],\n",
    "          [6, 3, 9]]\n",
    "prob_438(matrix)"
   ]
  },
  {
   "cell_type": "code",
   "execution_count": 86,
   "id": "ebad1498",
   "metadata": {},
   "outputs": [
    {
     "data": {
      "text/plain": [
       "30"
      ]
     },
     "execution_count": 86,
     "metadata": {},
     "output_type": "execute_result"
    }
   ],
   "source": [
    "def prob_439(matrix):\n",
    "    mul_num = 1\n",
    "    for i in range(len(matrix)):\n",
    "        for j in range(len(matrix)):\n",
    "            if i < j and (i + j) % 2 != 0:\n",
    "                mul_num *= matrix[i][j]\n",
    "    return mul_num\n",
    "\n",
    "matrix = [[7, 5, 1],\n",
    "          [-5, 5, 6],\n",
    "          [6, 3, 9]]\n",
    "prob_439(matrix)"
   ]
  },
  {
   "cell_type": "code",
   "execution_count": 88,
   "id": "cd2fb9cc",
   "metadata": {},
   "outputs": [
    {
     "data": {
      "text/plain": [
       "1"
      ]
     },
     "execution_count": 88,
     "metadata": {},
     "output_type": "execute_result"
    }
   ],
   "source": [
    "def prob_440(matrix):\n",
    "    sum_num = 0\n",
    "    for i in range(len(matrix)):\n",
    "        for j in range(len(matrix)):\n",
    "            if i < j and (i + j) % 2 == 0:\n",
    "                sum_num += matrix[i][j]\n",
    "    return sum_num\n",
    "\n",
    "matrix = [[7, 5, 8],\n",
    "          [-5, 5, 6],\n",
    "          [6, 3, 9]]\n",
    "prob_440(matrix)"
   ]
  },
  {
   "cell_type": "code",
   "execution_count": 91,
   "id": "f6ba94e2",
   "metadata": {},
   "outputs": [
    {
     "data": {
      "text/plain": [
       "6.454972243679028"
      ]
     },
     "execution_count": 91,
     "metadata": {},
     "output_type": "execute_result"
    }
   ],
   "source": [
    "def prob_441(matrix):\n",
    "    sum_num = 0\n",
    "    count = 0\n",
    "    for i in range(len(matrix)):\n",
    "        for j in range(len(matrix)):\n",
    "            if i < j and matrix[i][j] > 0:\n",
    "                sum_num += matrix[i][j] ** 2\n",
    "                count += 1\n",
    "    return (sum_num / count) ** 0.5\n",
    "\n",
    "matrix = [[7, 5, 8],\n",
    "          [-5, 5, 6],\n",
    "          [6, 3, 9]]\n",
    "prob_441(matrix)"
   ]
  },
  {
   "cell_type": "code",
   "execution_count": 96,
   "id": "00ca79bd",
   "metadata": {},
   "outputs": [
    {
     "data": {
      "text/plain": [
       "-7.0"
      ]
     },
     "execution_count": 96,
     "metadata": {},
     "output_type": "execute_result"
    }
   ],
   "source": [
    "def prob_442(matrix):\n",
    "    sum_num = 0\n",
    "    count = 0\n",
    "    for i in range(len(matrix)):\n",
    "        for j in range(len(matrix)):\n",
    "            if i + j > len(matrix) - 1 and matrix[i][j] < 0:\n",
    "                sum_num += matrix[i][j]\n",
    "                count += 1\n",
    "    return sum_num / count\n",
    "\n",
    "matrix = [[7, 5, 8],\n",
    "          [5, 5, 6],\n",
    "          [6, -5, -9]]\n",
    "prob_442(matrix)"
   ]
  },
  {
   "cell_type": "code",
   "execution_count": 99,
   "id": "40332f24",
   "metadata": {},
   "outputs": [
    {
     "data": {
      "text/plain": [
       "2"
      ]
     },
     "execution_count": 99,
     "metadata": {},
     "output_type": "execute_result"
    }
   ],
   "source": [
    "def prob_443(matrix):\n",
    "    count = 0\n",
    "    for i in range(len(matrix)):\n",
    "        for j in range(len(matrix)):\n",
    "            if i < j and matrix[i][j] == 0:\n",
    "                count += 1\n",
    "    return count\n",
    "\n",
    "matrix = [[0, 5, 0],\n",
    "          [0, 5, 0],\n",
    "          [6, -5, -9]]\n",
    "prob_443(matrix)"
   ]
  },
  {
   "cell_type": "code",
   "execution_count": 102,
   "id": "e34867d9",
   "metadata": {},
   "outputs": [
    {
     "data": {
      "text/plain": [
       "1"
      ]
     },
     "execution_count": 102,
     "metadata": {},
     "output_type": "execute_result"
    }
   ],
   "source": [
    "def prob_444(matrix):\n",
    "    count = 0\n",
    "    for i in range(len(matrix)):\n",
    "        for j in range(len(matrix)):\n",
    "            if i < j and matrix[i][j] < 0 and i % 2 != 0:\n",
    "                count += 1\n",
    "    return count\n",
    "\n",
    "matrix = [[-7, -5, -4],\n",
    "          [0, 5, -8],\n",
    "          [6, -5, -9]]\n",
    "prob_444(matrix)"
   ]
  },
  {
   "cell_type": "code",
   "execution_count": 104,
   "id": "8262c92c",
   "metadata": {},
   "outputs": [
    {
     "data": {
      "text/plain": [
       "2"
      ]
     },
     "execution_count": 104,
     "metadata": {},
     "output_type": "execute_result"
    }
   ],
   "source": [
    "def prob_445(matrix, k):\n",
    "    count = 0\n",
    "    for i in range(len(matrix)):\n",
    "        for j in range(len(matrix)):\n",
    "            if i > j and abs(matrix[i][j]) > k:\n",
    "                count += 1\n",
    "    return count\n",
    "\n",
    "matrix = [[-7, -5, -4],\n",
    "          [0, 5, -8],\n",
    "          [6, -5, -9]]\n",
    "prob_445(matrix, 3)"
   ]
  },
  {
   "cell_type": "code",
   "execution_count": 109,
   "id": "8e3d1114",
   "metadata": {},
   "outputs": [
    {
     "data": {
      "text/plain": [
       "5"
      ]
     },
     "execution_count": 109,
     "metadata": {},
     "output_type": "execute_result"
    }
   ],
   "source": [
    "def prob_446(matrix, a, b):\n",
    "    sum_num = 0\n",
    "    for i in range(len(matrix)):\n",
    "        for j in range(len(matrix)):\n",
    "            if i <= j and a <= matrix[i][j] <= b:\n",
    "                sum_num += matrix[i][j]\n",
    "    return sum_num\n",
    "\n",
    "matrix = [[-7, -5, -4],\n",
    "          [0, 5, -8],\n",
    "          [6, -5, -9]]\n",
    "prob_446(matrix, 3, 7)            "
   ]
  },
  {
   "cell_type": "code",
   "execution_count": 111,
   "id": "b7671fdf",
   "metadata": {},
   "outputs": [
    {
     "data": {
      "text/plain": [
       "1440"
      ]
     },
     "execution_count": 111,
     "metadata": {},
     "output_type": "execute_result"
    }
   ],
   "source": [
    "def prob_447(matrix, a):\n",
    "    mul_num = 1\n",
    "    for i in range(len(matrix)):\n",
    "        for j in range(len(matrix)):\n",
    "            if i + j >= len(matrix) - 1 and matrix[i][j] < a:\n",
    "                mul_num *= matrix[i][j]\n",
    "    return mul_num\n",
    "\n",
    "matrix = [[-7, -5, -4],\n",
    "          [0, 5, -8],\n",
    "          [6, -5, -9]]\n",
    "prob_447(matrix, 3)      "
   ]
  },
  {
   "cell_type": "code",
   "execution_count": 113,
   "id": "0a0d05d6",
   "metadata": {},
   "outputs": [
    {
     "data": {
      "text/plain": [
       "-3.75"
      ]
     },
     "execution_count": 113,
     "metadata": {},
     "output_type": "execute_result"
    }
   ],
   "source": [
    "def prob_448(matrix):\n",
    "    sum_num = 0\n",
    "    count = 0\n",
    "    for i in range(len(matrix)):\n",
    "        for j in range(len(matrix)):\n",
    "            if i <= j and (i + j) % 2 == 0:\n",
    "                sum_num += matrix[i][j]\n",
    "                count += 1\n",
    "    return sum_num / count\n",
    "\n",
    "matrix = [[-7, -5, -4],\n",
    "          [0, 5, -8],\n",
    "          [6, -5, -9]]\n",
    "prob_448(matrix)         "
   ]
  },
  {
   "cell_type": "code",
   "execution_count": 118,
   "id": "06142062",
   "metadata": {},
   "outputs": [
    {
     "data": {
      "text/plain": [
       "-12.7"
      ]
     },
     "execution_count": 118,
     "metadata": {},
     "output_type": "execute_result"
    }
   ],
   "source": [
    "def prob_449(matrix):\n",
    "    sum_num = 0\n",
    "    for i in range(len(matrix)):\n",
    "        for j in range(len(matrix)):\n",
    "            if i + j < len(matrix) - 1 and int(matrix[i][j]) % 4 == 0:\n",
    "                sum_num += matrix[i][j]\n",
    "    return sum_num\n",
    "\n",
    "matrix = [[-8.2, -4.5, -4],\n",
    "          [0, 8.3, -8],\n",
    "          [6, -5, -9]]\n",
    "prob_449(matrix) "
   ]
  },
  {
   "cell_type": "code",
   "execution_count": 120,
   "id": "93eabb7c",
   "metadata": {},
   "outputs": [
    {
     "data": {
      "text/plain": [
       "-2.2"
      ]
     },
     "execution_count": 120,
     "metadata": {},
     "output_type": "execute_result"
    }
   ],
   "source": [
    "def prob_450(matrix):\n",
    "    sum_num = 0\n",
    "    for i in range(len(matrix)):\n",
    "        for j in range(len(matrix)):\n",
    "            if i + j > len(matrix) - 1:\n",
    "                sum_num += matrix[i][j] / 10\n",
    "    return sum_num\n",
    "\n",
    "matrix = [[-8.2, -4.5, -4],\n",
    "          [0, 8.3, -8],\n",
    "          [6, -5, -9]]\n",
    "prob_450(matrix)  "
   ]
  }
 ],
 "metadata": {
  "kernelspec": {
   "display_name": "Python 3 (ipykernel)",
   "language": "python",
   "name": "python3"
  },
  "language_info": {
   "codemirror_mode": {
    "name": "ipython",
    "version": 3
   },
   "file_extension": ".py",
   "mimetype": "text/x-python",
   "name": "python",
   "nbconvert_exporter": "python",
   "pygments_lexer": "ipython3",
   "version": "3.10.12"
  }
 },
 "nbformat": 4,
 "nbformat_minor": 5
}
