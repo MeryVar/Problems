{
 "cells": [
  {
   "cell_type": "code",
   "execution_count": 35,
   "id": "e2b4df81",
   "metadata": {},
   "outputs": [
    {
     "data": {
      "text/plain": [
       "7.820912137766711"
      ]
     },
     "execution_count": 35,
     "metadata": {},
     "output_type": "execute_result"
    }
   ],
   "source": [
    "def prob_351(input_list):\n",
    "    positive_numbers = [num ** 2 for num in input_list if num > 0] \n",
    "    if len(positive_numbers) > 0:  \n",
    "        mean = (sum(positive_numbers) / len(positive_numbers)) ** 0.5  \n",
    "        return mean\n",
    "    else:\n",
    "        return None  \n",
    "input_list = [3, -2, 15, 7, 8, -1, 2, 4]\n",
    "prob_351(input_list)"
   ]
  },
  {
   "cell_type": "code",
   "execution_count": 50,
   "id": "02d5deb3",
   "metadata": {},
   "outputs": [
    {
     "data": {
      "text/plain": [
       "15"
      ]
     },
     "execution_count": 50,
     "metadata": {},
     "output_type": "execute_result"
    }
   ],
   "source": [
    "def prob_352(input_list):\n",
    "    mul_num = 1  \n",
    "    sum_result = 0 \n",
    "    for num in input_list:\n",
    "        if num < 0:\n",
    "            break  \n",
    "        mul_num *= num \n",
    "        sum_result += mul_num  \n",
    "    return sum_result\n",
    "input_list = [3, 2, 1, -2, 4, 5]\n",
    "prob_352(input_list)"
   ]
  },
  {
   "cell_type": "code",
   "execution_count": 47,
   "id": "a73f9607",
   "metadata": {},
   "outputs": [
    {
     "data": {
      "text/plain": [
       "5"
      ]
     },
     "execution_count": 47,
     "metadata": {},
     "output_type": "execute_result"
    }
   ],
   "source": [
    "def prob_353(input_list):\n",
    "    if input_list == input_list[::-1]:\n",
    "        return max(input_list)\n",
    "input_list = [1,2,3,4,5,4,3,2,1]\n",
    "prob_353(input_list)"
   ]
  },
  {
   "cell_type": "code",
   "execution_count": 59,
   "id": "d56289b7",
   "metadata": {},
   "outputs": [
    {
     "data": {
      "text/plain": [
       "84.0"
      ]
     },
     "execution_count": 59,
     "metadata": {},
     "output_type": "execute_result"
    }
   ],
   "source": [
    "def prob_354(input_list):\n",
    "    count = 0  \n",
    "    num_sum = 0  \n",
    "    for num in input_list:\n",
    "        if 10 <= num <= 999 and isinstance(num, int):  \n",
    "            count += 1\n",
    "            num_sum += num\n",
    "    average = num_sum / count\n",
    "    return average\n",
    "input_list = [45, 123, 6, 9, 1, 5, 6]\n",
    "prob_354(input_list)"
   ]
  },
  {
   "cell_type": "code",
   "execution_count": 65,
   "id": "0a399dc4",
   "metadata": {},
   "outputs": [
    {
     "name": "stdout",
     "output_type": "stream",
     "text": [
      "Number: 4213, index: 2\n"
     ]
    }
   ],
   "source": [
    "def prob_355(input_list, k):\n",
    "    for index, num in enumerate(input_list):\n",
    "        if 1000 <= num <= 9999:  \n",
    "            digit_sum = sum(int(digit) for digit in str(num))  \n",
    "            if digit_sum == k:\n",
    "                print(f\"Number: {num}, index: {index}\")\n",
    "input_list = [7234, 6598, 4213, 1256, 1478]\n",
    "prob_355(input_list, 10)"
   ]
  },
  {
   "cell_type": "code",
   "execution_count": 83,
   "id": "ba9325da",
   "metadata": {},
   "outputs": [
    {
     "data": {
      "text/plain": [
       "5"
      ]
     },
     "execution_count": 83,
     "metadata": {},
     "output_type": "execute_result"
    }
   ],
   "source": [
    "def prob_356_357(input_list):\n",
    "    counts = 0\n",
    "    for index, num in enumerate(input_list):\n",
    "        for i in range(len(input_list)):\n",
    "            if 2 ** i <= num < 2 ** (i + 1):\n",
    "                counts += 1\n",
    "    return counts\n",
    "input_list = [3, 2, -8, 1, -2, 4, 5]\n",
    "prob_356_357(input_list)"
   ]
  }
 ],
 "metadata": {
  "kernelspec": {
   "display_name": "Python 3 (ipykernel)",
   "language": "python",
   "name": "python3"
  },
  "language_info": {
   "codemirror_mode": {
    "name": "ipython",
    "version": 3
   },
   "file_extension": ".py",
   "mimetype": "text/x-python",
   "name": "python",
   "nbconvert_exporter": "python",
   "pygments_lexer": "ipython3",
   "version": "3.10.12"
  }
 },
 "nbformat": 4,
 "nbformat_minor": 5
}
