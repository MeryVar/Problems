{
 "cells": [
  {
   "cell_type": "code",
   "execution_count": 52,
   "id": "851b075a",
   "metadata": {},
   "outputs": [
    {
     "data": {
      "text/plain": [
       "1"
      ]
     },
     "execution_count": 52,
     "metadata": {},
     "output_type": "execute_result"
    }
   ],
   "source": [
    "def prob_471(matrix):\n",
    "    min_num = matrix[0][0]\n",
    "    for i in range(len(matrix)):\n",
    "        for j in range(len(matrix)):\n",
    "            if i >= j and matrix[i][j] < min_num:\n",
    "                min_num = matrix[i][j]\n",
    "    return min_num\n",
    "    \n",
    "matrix = [[1, 2, 3],\n",
    "          [4, 5, 6],\n",
    "          [7, 8, 9]]\n",
    "prob_471(matrix)"
   ]
  },
  {
   "cell_type": "code",
   "execution_count": 53,
   "id": "7dd1cb92",
   "metadata": {},
   "outputs": [
    {
     "data": {
      "text/plain": [
       "9"
      ]
     },
     "execution_count": 53,
     "metadata": {},
     "output_type": "execute_result"
    }
   ],
   "source": [
    "def prob_472(matrix):\n",
    "    max_num = matrix[0][0]\n",
    "    for i in range(len(matrix)):\n",
    "        for j in range(len(matrix)):\n",
    "            if i <= j and matrix[i][j] > max_num:\n",
    "                max_num = matrix[i][j]\n",
    "    return max_num\n",
    "\n",
    "    \n",
    "matrix = [[1, 2, 3],\n",
    "          [4, 5, 6],\n",
    "          [7, 8, 9]]\n",
    "prob_472(matrix)"
   ]
  },
  {
   "cell_type": "code",
   "execution_count": 29,
   "id": "fbf055be",
   "metadata": {},
   "outputs": [
    {
     "data": {
      "text/plain": [
       "([2, 2], 4)"
      ]
     },
     "execution_count": 29,
     "metadata": {},
     "output_type": "execute_result"
    }
   ],
   "source": [
    "def prob_473(matrix):\n",
    "    max_num = matrix[0][0]\n",
    "    max_indices = []\n",
    "    for i in range(len(matrix)):\n",
    "        for j in range(len(matrix[i])):\n",
    "            if i >= j and matrix[i][j] > max_num:\n",
    "                max_num = matrix[i][j]\n",
    "                max_indices = [i, j]\n",
    "    max_sum = sum(max_indices)\n",
    "    return max_indices, max_sum\n",
    "    \n",
    "matrix = [[1, 2, 3],\n",
    "          [4, 5, 6],\n",
    "          [7, 8, 9]]\n",
    "prob_473(matrix)"
   ]
  },
  {
   "cell_type": "code",
   "execution_count": 33,
   "id": "565189ff",
   "metadata": {},
   "outputs": [
    {
     "data": {
      "text/plain": [
       "([2, 2], 8)"
      ]
     },
     "execution_count": 33,
     "metadata": {},
     "output_type": "execute_result"
    }
   ],
   "source": [
    "def prob_475(matrix):\n",
    "    max_num = matrix[0][0]\n",
    "    max_indices = []\n",
    "    for i in range(len(matrix)):\n",
    "        for j in range(len(matrix[i])):\n",
    "            if i <= j and matrix[i][j] > max_num:\n",
    "                max_num = matrix[i][j]\n",
    "                max_indices = [i, j]\n",
    "    max_sum = i ** 2 + j ** 2\n",
    "    return max_indices, max_sum\n",
    "    \n",
    "matrix = [[1, 2, 3],\n",
    "          [4, 5, 6],\n",
    "          [7, 8, 9]]\n",
    "prob_475(matrix)"
   ]
  },
  {
   "cell_type": "code",
   "execution_count": 42,
   "id": "3dd3d4c3",
   "metadata": {},
   "outputs": [
    {
     "data": {
      "text/plain": [
       "[3, 6, 9]"
      ]
     },
     "execution_count": 42,
     "metadata": {},
     "output_type": "execute_result"
    }
   ],
   "source": [
    "def prob_476(matrix):\n",
    "    return [max(row) for row in matrix]\n",
    "\n",
    "matrix = [[1, 2, 3],\n",
    "          [4, 5, 6],\n",
    "          [7, 8, 9]]\n",
    "prob_476(matrix)"
   ]
  },
  {
   "cell_type": "code",
   "execution_count": 43,
   "id": "40d68d35",
   "metadata": {},
   "outputs": [
    {
     "data": {
      "text/plain": [
       "[1, 4, 7]"
      ]
     },
     "execution_count": 43,
     "metadata": {},
     "output_type": "execute_result"
    }
   ],
   "source": [
    "def prob_477(matrix):\n",
    "    return [min(col) for col in matrix]\n",
    "\n",
    "matrix = [[1, 2, 3],\n",
    "          [4, 5, 6],\n",
    "          [7, 8, 9]]\n",
    "prob_477(matrix)"
   ]
  },
  {
   "cell_type": "code",
   "execution_count": 54,
   "id": "aeb18929",
   "metadata": {},
   "outputs": [
    {
     "data": {
      "text/plain": [
       "7"
      ]
     },
     "execution_count": 54,
     "metadata": {},
     "output_type": "execute_result"
    }
   ],
   "source": [
    "def prob_478(matrix):\n",
    "    max_num_diag = matrix[0][0]\n",
    "    for i in range(len(matrix)):\n",
    "        for j in range(len(matrix)):\n",
    "            if i + j == len(matrix) - 1 and matrix[i][j] > max_num_diag:\n",
    "                max_num_diag = matrix[i][j]\n",
    "    return max_num_diag\n",
    "\n",
    "matrix = [[1, 2, 3],\n",
    "          [4, 5, 6],\n",
    "          [7, 8, 9]]\n",
    "prob_478(matrix)"
   ]
  },
  {
   "cell_type": "code",
   "execution_count": 51,
   "id": "29c0dffc",
   "metadata": {},
   "outputs": [
    {
     "data": {
      "text/plain": [
       "1"
      ]
     },
     "execution_count": 51,
     "metadata": {},
     "output_type": "execute_result"
    }
   ],
   "source": [
    "def prob_479(matrix):\n",
    "    min_num_diag = matrix[0][0]\n",
    "    for i in range(len(matrix)):\n",
    "        for j in range(len(matrix)):\n",
    "            if i == j and matrix[i][j] < min_num_diag:\n",
    "                min_num_diag = matrix[i][j]\n",
    "    return min_num_diag\n",
    "\n",
    "matrix = [[1, 2, 3],\n",
    "          [4, 5, 6],\n",
    "          [7, 8, 9]]\n",
    "prob_479(matrix)"
   ]
  },
  {
   "cell_type": "code",
   "execution_count": 46,
   "id": "e2ee085e",
   "metadata": {},
   "outputs": [
    {
     "data": {
      "text/plain": [
       "2"
      ]
     },
     "execution_count": 46,
     "metadata": {},
     "output_type": "execute_result"
    }
   ],
   "source": [
    "def prob_480(matrix):\n",
    "    max_num_diag = matrix[0][0]\n",
    "    for i in range(len(matrix)):\n",
    "        for j in range(len(matrix)):\n",
    "            if i + j == len(matrix) - 1 and matrix[i][j] > max_num_diag:\n",
    "                max_num_diag = matrix[i][j]\n",
    "    return i\n",
    "  \n",
    "matrix = [[1, 2, 3],\n",
    "          [4, 5, 6],\n",
    "          [7, 8, 9]]\n",
    "prob_480(matrix)"
   ]
  },
  {
   "cell_type": "code",
   "execution_count": 56,
   "id": "67495aaf",
   "metadata": {},
   "outputs": [
    {
     "data": {
      "text/plain": [
       "4"
      ]
     },
     "execution_count": 56,
     "metadata": {},
     "output_type": "execute_result"
    }
   ],
   "source": [
    "def prob_481(matrix):\n",
    "    min_el = matrix[0][0]\n",
    "    max_el = matrix[0][0]\n",
    "    count = 0\n",
    "    \n",
    "    for i in range(len(matrix)):\n",
    "        for j in range(len(matrix)):\n",
    "            if matrix[i][j] < min_el:\n",
    "                min_el = matrix[i][j]\n",
    "            if matrix[i][j] > max_el:\n",
    "                max_el = matrix[i][j]\n",
    "    mean = (max_el + min_el) / 2\n",
    "    \n",
    "    for i in range(len(matrix)):\n",
    "        for j in range(len(matrix)):\n",
    "            if matrix[i][j] > mean:\n",
    "                count += 1\n",
    "    return count\n",
    "    \n",
    "matrix = [[1, 2, 3],\n",
    "          [4, 5, 6],\n",
    "          [7, 8, 9]]\n",
    "prob_481(matrix)"
   ]
  },
  {
   "cell_type": "code",
   "execution_count": 60,
   "id": "969e22cf",
   "metadata": {},
   "outputs": [
    {
     "data": {
      "text/plain": [
       "672"
      ]
     },
     "execution_count": 60,
     "metadata": {},
     "output_type": "execute_result"
    }
   ],
   "source": [
    "def prob_482(matrix):\n",
    "    mul = 1\n",
    "    for i in range(len(matrix)):\n",
    "        for j in range(len(matrix)):\n",
    "            if matrix[i][j] > 0:\n",
    "                mul *= matrix[i][j]\n",
    "    return mul\n",
    "\n",
    "matrix = [[1, -2, 3],\n",
    "          [4, -5, -6],\n",
    "          [7, 8, -9]]\n",
    "prob_482(matrix)"
   ]
  },
  {
   "cell_type": "code",
   "execution_count": 63,
   "id": "75a5c55e",
   "metadata": {},
   "outputs": [
    {
     "data": {
      "text/plain": [
       "-0.6"
      ]
     },
     "execution_count": 63,
     "metadata": {},
     "output_type": "execute_result"
    }
   ],
   "source": [
    "def prob_483(matrix):\n",
    "    sum_num = 0\n",
    "    count = 0\n",
    "    for i in range(len(matrix)):\n",
    "        for j in range(len(matrix)):\n",
    "            if i == j or i + j == len(matrix) - 1 and matrix[i][j] > 0:\n",
    "                sum_num += matrix[i][j]\n",
    "                count += 1\n",
    "    return sum_num / count\n",
    "\n",
    "matrix = [[1, -2, 3],\n",
    "          [4, -5, -6],\n",
    "          [7, 8, -9]]\n",
    "prob_483(matrix)"
   ]
  },
  {
   "cell_type": "code",
   "execution_count": 64,
   "id": "ab7878c0",
   "metadata": {},
   "outputs": [
    {
     "data": {
      "text/plain": [
       "5.972157622389639"
      ]
     },
     "execution_count": 64,
     "metadata": {},
     "output_type": "execute_result"
    }
   ],
   "source": [
    "def prob_484(matrix):\n",
    "    sum_num = 0\n",
    "    count = 0\n",
    "    for i in range(len(matrix)):\n",
    "        for j in range(len(matrix)):\n",
    "            if i == j or i + j == len(matrix) - 1 and matrix[i][j] < 0:\n",
    "                sum_num += matrix[i][j] ** 2\n",
    "                count += 1\n",
    "    return (sum_num / count) ** 0.5\n",
    "\n",
    "matrix = [[1, -2, 3],\n",
    "          [4, -5, -6],\n",
    "          [7, 8, -9]]\n",
    "prob_484(matrix)"
   ]
  },
  {
   "cell_type": "code",
   "execution_count": 67,
   "id": "028091e8",
   "metadata": {},
   "outputs": [
    {
     "data": {
      "text/plain": [
       "7"
      ]
     },
     "execution_count": 67,
     "metadata": {},
     "output_type": "execute_result"
    }
   ],
   "source": [
    "def prob_485(matrix):\n",
    "    max_num = matrix[0][0]\n",
    "    row_sum = col_sum = row_num = col_num = 0\n",
    "    \n",
    "    for i in range(len(matrix)):\n",
    "        for j in range(len(matrix[i])):\n",
    "            if matrix[i][j] > max_num:\n",
    "                max_num = matrix[i][j]\n",
    "                row_num = i\n",
    "                col_num = j\n",
    "\n",
    "    for j in range(len(matrix[row_num])):\n",
    "        row_sum += matrix[row_num][j]\n",
    "\n",
    "    for i in range(len(matrix)):\n",
    "        col_sum += matrix[i][col_num]\n",
    "    return row_sum + col_sum\n",
    "\n",
    "matrix = [[1, -2, 3],\n",
    "          [4, -5, -6],\n",
    "          [7, 8, -9]]\n",
    "prob_485(matrix)"
   ]
  },
  {
   "cell_type": "code",
   "execution_count": 70,
   "id": "9f69bde6",
   "metadata": {},
   "outputs": [
    {
     "data": {
      "text/plain": [
       "5.291502622129181"
      ]
     },
     "execution_count": 70,
     "metadata": {},
     "output_type": "execute_result"
    }
   ],
   "source": [
    "def prob_486(matrix):\n",
    "    sum_num = 0\n",
    "    count = 0\n",
    "    for i in range(len(matrix)):\n",
    "        for j in range(len(matrix)):\n",
    "            if i == j or i + j == len(matrix) - 1 and matrix[i][j] >= 0:\n",
    "                sum_num += matrix[i][j] ** 2\n",
    "                count += 1\n",
    "    return (sum_num / count) ** 0.5\n",
    "\n",
    "matrix = [[1, -2, 3],\n",
    "          [0, 0, -6],\n",
    "          [7, 8, -9]]\n",
    "prob_486(matrix)"
   ]
  },
  {
   "cell_type": "code",
   "execution_count": 76,
   "id": "2174552a",
   "metadata": {},
   "outputs": [
    {
     "data": {
      "text/plain": [
       "'NO'"
      ]
     },
     "execution_count": 76,
     "metadata": {},
     "output_type": "execute_result"
    }
   ],
   "source": [
    "def prob_487(matrix):\n",
    "    sum_num = 0\n",
    "    is_symmetric = True\n",
    "\n",
    "    for i in range(len(matrix)):\n",
    "        for j in range(len(matrix[i])):\n",
    "            if matrix[i][j] != matrix[j][i]:\n",
    "                is_symmetric = False\n",
    "                break\n",
    "\n",
    "    if is_symmetric:\n",
    "        for i in range(len(matrix)):\n",
    "            for j in range(len(matrix[i])):\n",
    "                if matrix[i][j] > 0:\n",
    "                    sum_num += matrix[i][j]\n",
    "        return sum_num\n",
    "    else:\n",
    "        return \"NO\"\n",
    "    \n",
    "matrix = [[1, -2, 3],\n",
    "          [0, 0, -6],\n",
    "          [7, 8, -9]]\n",
    "prob_487(matrix)"
   ]
  },
  {
   "cell_type": "code",
   "execution_count": 79,
   "id": "ec051e5b",
   "metadata": {},
   "outputs": [
    {
     "data": {
      "text/plain": [
       "[3, -6]"
      ]
     },
     "execution_count": 79,
     "metadata": {},
     "output_type": "execute_result"
    }
   ],
   "source": [
    "def prob_488(matrix):\n",
    "    list_b = []\n",
    "    for i in range(len(matrix)):\n",
    "        for j in range(len(matrix)):\n",
    "            if i == j and (i + j) != (len(matrix) + len(matrix) - 2):\n",
    "                list_b.append(max(matrix[i][j + 1:]))\n",
    "    return list_b\n",
    "    \n",
    "matrix = [[1, -2, 3],\n",
    "          [0, 0, -6],\n",
    "          [7, 8, -9]]\n",
    "prob_488(matrix)"
   ]
  },
  {
   "cell_type": "code",
   "execution_count": 93,
   "id": "63f6d777",
   "metadata": {},
   "outputs": [
    {
     "data": {
      "text/plain": [
       "[1, 7, 5]"
      ]
     },
     "execution_count": 93,
     "metadata": {},
     "output_type": "execute_result"
    }
   ],
   "source": [
    "def prob_489(matrix):\n",
    "    list_b = []\n",
    "    for row in matrix:\n",
    "        index = None\n",
    "        for i, num in enumerate(row):\n",
    "            if num > 0:\n",
    "                index = num\n",
    "                break\n",
    "        list_b.append(index)\n",
    "    return list_b\n",
    "\n",
    "matrix = [[1, -2, 3],\n",
    "          [7, 4, -6],\n",
    "          [5, 8, -9]]\n",
    "prob_489(matrix)"
   ]
  },
  {
   "cell_type": "code",
   "execution_count": 98,
   "id": "185da675",
   "metadata": {},
   "outputs": [
    {
     "data": {
      "text/plain": [
       "[-1, -3, 4]"
      ]
     },
     "execution_count": 98,
     "metadata": {},
     "output_type": "execute_result"
    }
   ],
   "source": [
    "def prob_490(matrix):\n",
    "    list_b = []\n",
    "    for row in matrix:\n",
    "        sum_num = 0\n",
    "        for i in range(len(row)-1, -1, -1):\n",
    "            if row[i] < 0:\n",
    "                sum_num += row[i]\n",
    "        list_b.append(sum_num)\n",
    "    return list_b\n",
    "\n",
    "matrix = [[1, -2, 3],\n",
    "          [7, -4, -6],\n",
    "          [-4, 8, -9]]\n",
    "prob_490(matrix)"
   ]
  },
  {
   "cell_type": "code",
   "execution_count": 118,
   "id": "1da95ee4",
   "metadata": {},
   "outputs": [
    {
     "name": "stdout",
     "output_type": "stream",
     "text": [
      "[8, -4, 3]\n",
      "[7, -4, -6]\n",
      "[-2, 1, -9]\n"
     ]
    }
   ],
   "source": [
    "def prob_491(matrix):\n",
    "    max_num = max(max(row) for row in matrix)\n",
    "    max_index = [(i, j) for i, row in enumerate(matrix) for j, num in enumerate(row) if num == max_num][0]\n",
    "    \n",
    "    matrix[0][0], matrix[max_index[0]][0], matrix[0][max_index[1]], matrix[max_index[0]][max_index[1]] = \\\n",
    "        matrix[max_index[0]][max_index[1]], matrix[0][max_index[1]], matrix[max_index[0]][0], matrix[0][0]\n",
    "    for row in matrix:\n",
    "        print(row)    \n",
    "        \n",
    "matrix = [[1, -2, 3],\n",
    "          [7, -4, -6],\n",
    "          [-4, 8, -9]]\n",
    "prob_491(matrix)"
   ]
  },
  {
   "cell_type": "code",
   "execution_count": 119,
   "id": "c0fbe3bd",
   "metadata": {},
   "outputs": [
    {
     "name": "stdout",
     "output_type": "stream",
     "text": [
      "[1, -2, 3]\n",
      "[-4, 8, 9]\n",
      "[7, -4, -6]\n"
     ]
    }
   ],
   "source": [
    "def prob_492(matrix):\n",
    "    max_num = max(max(row) for row in matrix)\n",
    "    min_num = min(min(row) for row in matrix)\n",
    "\n",
    "    max_row_index = [i for i, row in enumerate(matrix) if max_num in row][0]\n",
    "    min_row_index = [i for i, row in enumerate(matrix) if min_num in row][0]\n",
    "\n",
    "    matrix[min_row_index], matrix[max_row_index] = matrix[max_row_index], matrix[min_row_index]\n",
    "\n",
    "    for row in matrix:\n",
    "        print(row)    \n",
    "        \n",
    "matrix = [[1, -2, 3],\n",
    "          [7, -4, -6],\n",
    "          [-4, 8, 9]]\n",
    "prob_492(matrix)"
   ]
  },
  {
   "cell_type": "code",
   "execution_count": 124,
   "id": "984d5c3f",
   "metadata": {},
   "outputs": [
    {
     "name": "stdout",
     "output_type": "stream",
     "text": [
      "[1, -2, 5]\n",
      "[7, -4, 3]\n"
     ]
    }
   ],
   "source": [
    "def prob_493(matrix):\n",
    "    max_num = max(max(row) for row in matrix)\n",
    "    \n",
    "    max_row_index = [i for i, row in enumerate(matrix) if max_num in row][0]\n",
    "    max_col_index = matrix[max_row_index].index(max_num)\n",
    "    \n",
    "    del matrix[max_row_index]\n",
    "    \n",
    "    for row in matrix:\n",
    "        del row[max_col_index]\n",
    "    \n",
    "    for row in matrix:\n",
    "        print(row)  \n",
    "        \n",
    "matrix = [[1, -2, 3, 5],\n",
    "          [7, -4, -6, 3],\n",
    "          [-4, 8, 9, 2]]\n",
    "prob_493(matrix)"
   ]
  },
  {
   "cell_type": "code",
   "execution_count": 138,
   "id": "ce1adb76",
   "metadata": {},
   "outputs": [
    {
     "name": "stdout",
     "output_type": "stream",
     "text": [
      "[1, -2, 3, 2]\n",
      "[7, -4, -6, 5]\n"
     ]
    }
   ],
   "source": [
    "def prob_494(matrix):\n",
    "    cols = []\n",
    "    for i in range(len(matrix)):\n",
    "        cols.append(matrix[i][0])\n",
    "    cols.sort()\n",
    "    \n",
    "    for i in range(len(matrix)):\n",
    "        matrix[i][0] = cols[i]\n",
    "\n",
    "    for row in matrix:\n",
    "        print(row) \n",
    "        \n",
    "matrix = [[7, -2, 3, 2],\n",
    "          [1, -4, -6, 5]]\n",
    "prob_494(matrix)"
   ]
  },
  {
   "cell_type": "code",
   "execution_count": 137,
   "id": "252089de",
   "metadata": {},
   "outputs": [
    {
     "name": "stdout",
     "output_type": "stream",
     "text": [
      "[7, -2, 3, 5]\n",
      "[1, -4, -6, 2]\n"
     ]
    }
   ],
   "source": [
    "def prob_495(matrix):\n",
    "    cols = []\n",
    "    last_col_index = len(matrix[0]) - 1\n",
    "\n",
    "    for i in range(len(matrix)):\n",
    "        cols.append(matrix[i][last_col_index])\n",
    "    cols.sort(reverse=True) \n",
    "\n",
    "    for i in range(len(matrix)):\n",
    "        matrix[i][last_col_index] = cols[i]\n",
    "\n",
    "    for row in matrix:\n",
    "        print(row) \n",
    "        \n",
    "matrix = [[7, -2, 3, 2],\n",
    "          [1, -4, -6, 5]]\n",
    "prob_495(matrix)"
   ]
  },
  {
   "cell_type": "code",
   "execution_count": 143,
   "id": "94721885",
   "metadata": {},
   "outputs": [
    {
     "name": "stdout",
     "output_type": "stream",
     "text": [
      "[-4, -2, 3]\n",
      "[7, 1, -6]\n",
      "[-4, 8, 9]\n"
     ]
    }
   ],
   "source": [
    "def prob_496(matrix):\n",
    "    diag_elements = [matrix[i][i] for i in range(min(len(matrix), len(matrix[0])))]\n",
    "    sort_diag = sorted(diag_elements)\n",
    "    \n",
    "    for i in range(len(sort_diag)):\n",
    "        matrix[i][i] = sort_diag[i]\n",
    "\n",
    "    for row in matrix:\n",
    "        print(row)    \n",
    "        \n",
    "matrix = [[1, -2, 3],\n",
    "          [7, 9, -6],\n",
    "          [-4, 8, -4]]\n",
    "prob_496(matrix)"
   ]
  }
 ],
 "metadata": {
  "kernelspec": {
   "display_name": "Python 3 (ipykernel)",
   "language": "python",
   "name": "python3"
  },
  "language_info": {
   "codemirror_mode": {
    "name": "ipython",
    "version": 3
   },
   "file_extension": ".py",
   "mimetype": "text/x-python",
   "name": "python",
   "nbconvert_exporter": "python",
   "pygments_lexer": "ipython3",
   "version": "3.10.12"
  }
 },
 "nbformat": 4,
 "nbformat_minor": 5
}
