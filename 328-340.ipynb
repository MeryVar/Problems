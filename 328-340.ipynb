{
 "cells": [
  {
   "cell_type": "code",
   "execution_count": 6,
   "id": "02a6cbe8",
   "metadata": {},
   "outputs": [
    {
     "data": {
      "text/plain": [
       "[3, 2, 12, 4, 15, 9, 5]"
      ]
     },
     "execution_count": 6,
     "metadata": {},
     "output_type": "execute_result"
    }
   ],
   "source": [
    "def prob_328(input_list):\n",
    "    return [num for num in input_list if input_list.count(num)==1]\n",
    "input_list = [3, 2, 1, 10, 1, 12, 4, 10, 1, 15, 1, 9, 1, 5]\n",
    "prob_328(input_list)"
   ]
  },
  {
   "cell_type": "code",
   "execution_count": 15,
   "id": "df1c22f8",
   "metadata": {},
   "outputs": [
    {
     "data": {
      "text/plain": [
       "5"
      ]
     },
     "execution_count": 15,
     "metadata": {},
     "output_type": "execute_result"
    }
   ],
   "source": [
    "def prob_329(input_list, index):\n",
    "    if len(input_list) >= index:\n",
    "        sum_num = 0\n",
    "        for i in range(index - 1):  \n",
    "            sum_num += input_list[i]\n",
    "        return sum_num\n",
    "    return sum([num for num in input_list if len(input_list) >= index])\n",
    "input_list = [3, 2, 1, 10, 12, 4, 15, 9, 5]\n",
    "prob_329(input_list, 3)"
   ]
  },
  {
   "cell_type": "code",
   "execution_count": 33,
   "id": "8df2fd31",
   "metadata": {},
   "outputs": [
    {
     "data": {
      "text/plain": [
       "[2, 10, 12, 0, 3, 1, 15, 9, 5]"
      ]
     },
     "execution_count": 33,
     "metadata": {},
     "output_type": "execute_result"
    }
   ],
   "source": [
    "def prob_330(input_list):\n",
    "    even_num = [num for num in input_list if num % 2 == 0]\n",
    "    input_list = [num for num in input_list if num % 2 != 0]  \n",
    "    return even_num + input_list  \n",
    "input_list = [3, 2, 1, 10, 12, 0, 15, 9, 5]\n",
    "prob_330(input_list)"
   ]
  },
  {
   "cell_type": "code",
   "execution_count": 57,
   "id": "f77d5a5c",
   "metadata": {},
   "outputs": [
    {
     "data": {
      "text/plain": [
       "[4, 1, 64, 49, 9]"
      ]
     },
     "execution_count": 57,
     "metadata": {},
     "output_type": "execute_result"
    }
   ],
   "source": [
    "def prob_331(input_list):\n",
    "    return [num for num in input_list if (num ** 0.5).is_integer()]\n",
    "input_list = [3, 2, 4, 1, 10, 64, 12, 49, 15, 9, 5]\n",
    "prob_331(input_list)"
   ]
  },
  {
   "cell_type": "code",
   "execution_count": 51,
   "id": "c8e0ffae",
   "metadata": {},
   "outputs": [
    {
     "data": {
      "text/plain": [
       "[3, 2, 1, 10, 12, 3375, 0, 9, 5]"
      ]
     },
     "execution_count": 51,
     "metadata": {},
     "output_type": "execute_result"
    }
   ],
   "source": [
    "def prob_332(input_list):\n",
    "    max_index = input_list.index(max(input_list)) \n",
    "    min_index = input_list.index(min(input_list)) \n",
    "    input_list[max_index], input_list[min_index] = input_list[min_index] ** 2, input_list[max_index] ** 3\n",
    "    return input_list\n",
    "input_list = [3, 2, 1, 10, 12, 0, 15, 9, 5]\n",
    "prob_332(input_list)"
   ]
  },
  {
   "cell_type": "code",
   "execution_count": 61,
   "id": "8965276e",
   "metadata": {},
   "outputs": [
    {
     "data": {
      "text/plain": [
       "6"
      ]
     },
     "execution_count": 61,
     "metadata": {},
     "output_type": "execute_result"
    }
   ],
   "source": [
    "def prob_333(input_list, k):\n",
    "    if len(input_list) < 3:\n",
    "        return 0  \n",
    "    sum_num = 0\n",
    "    for index in range(1, len(input_list) - 1):\n",
    "        if input_list[index - 1] + input_list[index + 1] < k:\n",
    "            sum_num += input_list[index]\n",
    "    return sum_num\n",
    "input_list = [3, 2, 4, 1, 10, 12, 1, 15, 9, 5]\n",
    "prob_333(input_list, 10)"
   ]
  },
  {
   "cell_type": "code",
   "execution_count": 69,
   "id": "2f155492",
   "metadata": {},
   "outputs": [
    {
     "data": {
      "text/plain": [
       "17"
      ]
     },
     "execution_count": 69,
     "metadata": {},
     "output_type": "execute_result"
    }
   ],
   "source": [
    "def prob_334(input_list):\n",
    "    max_index = input_list.index(max(input_list))\n",
    "    if max_index <= len(input_list) / 2:\n",
    "        return sum([num for num in input_list if num > 0])\n",
    "    else:\n",
    "        mul_num = 1  \n",
    "        for num in input_list:\n",
    "            mul_num *= num\n",
    "        return mul_num\n",
    "input_list = [3, 2, -4, 1, 10, -12, 1, -15, -9, -5]\n",
    "prob_334(input_list)"
   ]
  },
  {
   "cell_type": "code",
   "execution_count": 76,
   "id": "4a0d3a39",
   "metadata": {},
   "outputs": [
    {
     "data": {
      "text/plain": [
       "'s=0'"
      ]
     },
     "execution_count": 76,
     "metadata": {},
     "output_type": "execute_result"
    }
   ],
   "source": [
    "def prob_336(input_list):\n",
    "    negatives_count = sum(1 for num in input_list if num < 0)\n",
    "    if negatives_count == 1:\n",
    "        return max(input_list)\n",
    "    else:\n",
    "        return \"s=0\"\n",
    "input_list = [3, 2, -4, -1, 10, -12, 1, 15, 9, 5]\n",
    "prob_336(input_list)"
   ]
  },
  {
   "cell_type": "code",
   "execution_count": 25,
   "id": "9378c027",
   "metadata": {},
   "outputs": [
    {
     "data": {
      "text/plain": [
       "'s=1'"
      ]
     },
     "execution_count": 25,
     "metadata": {},
     "output_type": "execute_result"
    }
   ],
   "source": [
    "def prob_337(input_list):\n",
    "    even_mul = 1\n",
    "    for i in range(0, len(input_list), 2):\n",
    "        even_mul *= input_list[i]\n",
    "    if even_mul > 0:  \n",
    "        return sum([input_list[i] for i in range(1, len(input_list), 2)])\n",
    "    else:\n",
    "        return \"s=1\"\n",
    "input_list = [3, 2, -4, -1, 10, -12, 1, 15, 9, 5]\n",
    "prob_337(input_list)"
   ]
  },
  {
   "cell_type": "code",
   "execution_count": 51,
   "id": "28ba12f2",
   "metadata": {},
   "outputs": [
    {
     "data": {
      "text/plain": [
       "13"
      ]
     },
     "execution_count": 51,
     "metadata": {},
     "output_type": "execute_result"
    }
   ],
   "source": [
    "def prob_338(input_list):\n",
    "    max_value = max(input_list) \n",
    "    max_indices = [index for index, value in enumerate(input_list) if value == max_value]  \n",
    "    return sum(max_indices)  \n",
    "input_list = [3, 2, 10, -4, 15, -1, 10, -12, 10, 15, 9, 5]\n",
    "prob_338(input_list)"
   ]
  },
  {
   "cell_type": "code",
   "execution_count": 45,
   "id": "d9fbde63",
   "metadata": {},
   "outputs": [
    {
     "data": {
      "text/plain": [
       "15"
      ]
     },
     "execution_count": 45,
     "metadata": {},
     "output_type": "execute_result"
    }
   ],
   "source": [
    "def prob_339(input_list):\n",
    "    max_values = []\n",
    "    for i in range(0, len(input_list), 3):\n",
    "        if i % 3 == 0:\n",
    "            max_values.append(max(input_list[i:i+3]))\n",
    "    return max(max_values)\n",
    "input_list = [3, 2, 10, -4, 15, -1, 10, -12, 10, 15, 9, 5]\n",
    "prob_339(input_list)"
   ]
  },
  {
   "cell_type": "code",
   "execution_count": 58,
   "id": "47cb1153",
   "metadata": {},
   "outputs": [
    {
     "data": {
      "text/plain": [
       "-12"
      ]
     },
     "execution_count": 58,
     "metadata": {},
     "output_type": "execute_result"
    }
   ],
   "source": [
    "def prob_340(input_list):\n",
    "    min_value = 0\n",
    "    for i in range(0, len(input_list)):\n",
    "        if i % 5 == 2:\n",
    "            min_value = min(min_value, input_list[i])\n",
    "    return min_value\n",
    "input_list = [3, 2, 10, -4, 15, -1, 10, -12, 10, 15, 9, 5]\n",
    "prob_340(input_list)"
   ]
  }
 ],
 "metadata": {
  "kernelspec": {
   "display_name": "Python 3 (ipykernel)",
   "language": "python",
   "name": "python3"
  },
  "language_info": {
   "codemirror_mode": {
    "name": "ipython",
    "version": 3
   },
   "file_extension": ".py",
   "mimetype": "text/x-python",
   "name": "python",
   "nbconvert_exporter": "python",
   "pygments_lexer": "ipython3",
   "version": "3.10.12"
  }
 },
 "nbformat": 4,
 "nbformat_minor": 5
}
