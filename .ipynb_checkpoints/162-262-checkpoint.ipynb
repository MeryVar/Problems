{
 "cells": [
  {
   "cell_type": "code",
   "execution_count": 11,
   "id": "58acef8e",
   "metadata": {},
   "outputs": [
    {
     "data": {
      "text/plain": [
       "9464"
      ]
     },
     "execution_count": 11,
     "metadata": {},
     "output_type": "execute_result"
    }
   ],
   "source": [
    "def prob_162():\n",
    "    for n in range(9999, 999, -1):\n",
    "        product = n * 14\n",
    "        square_num = product ** 0.5\n",
    "        if square_num - int(square_num) == 0:\n",
    "            return n\n",
    "    return \"chka nman tiv\"\n",
    "prob_162()"
   ]
  },
  {
   "cell_type": "code",
   "execution_count": 10,
   "id": "9720071f",
   "metadata": {},
   "outputs": [
    {
     "data": {
      "text/plain": [
       "9800"
      ]
     },
     "execution_count": 10,
     "metadata": {},
     "output_type": "execute_result"
    }
   ],
   "source": [
    "def prob_163():\n",
    "    for n in range(1000, 9999)[::-1]:\n",
    "        product = n * 18\n",
    "        square_num = product ** 0.5\n",
    "        if square_num - int(square_num) == 0:\n",
    "            return n\n",
    "    return \"no\"\n",
    "prob_163()"
   ]
  },
  {
   "cell_type": "code",
   "execution_count": 12,
   "id": "cb80749a",
   "metadata": {},
   "outputs": [
    {
     "data": {
      "text/plain": [
       "122"
      ]
     },
     "execution_count": 12,
     "metadata": {},
     "output_type": "execute_result"
    }
   ],
   "source": [
    "def prob_164(n):\n",
    "    for i in range(100, 999):\n",
    "        if i ** 0.5 > n:\n",
    "            return i\n",
    "    return None\n",
    "prob_164(11)"
   ]
  },
  {
   "cell_type": "code",
   "execution_count": 13,
   "id": "8d5bc257",
   "metadata": {},
   "outputs": [
    {
     "data": {
      "text/plain": [
       "False"
      ]
     },
     "execution_count": 13,
     "metadata": {},
     "output_type": "execute_result"
    }
   ],
   "source": [
    "def prob_165(n):\n",
    "    return n % 3 == 0\n",
    "prob_165(5)"
   ]
  },
  {
   "cell_type": "code",
   "execution_count": 15,
   "id": "56358760",
   "metadata": {},
   "outputs": [
    {
     "data": {
      "text/plain": [
       "True"
      ]
     },
     "execution_count": 15,
     "metadata": {},
     "output_type": "execute_result"
    }
   ],
   "source": [
    "def prob_166(n):\n",
    "    return n % 4 == 0\n",
    "prob_166(156)"
   ]
  },
  {
   "cell_type": "code",
   "execution_count": 16,
   "id": "e532d26b",
   "metadata": {},
   "outputs": [
    {
     "data": {
      "text/plain": [
       "True"
      ]
     },
     "execution_count": 16,
     "metadata": {},
     "output_type": "execute_result"
    }
   ],
   "source": [
    "def prob_168(n):\n",
    "    if n <= 1:\n",
    "        return False\n",
    "    for i in range(2, int(n**0.5) + 1):\n",
    "        if n % i == 0:\n",
    "            return False\n",
    "    return True\n",
    "prob_168(5)"
   ]
  },
  {
   "cell_type": "code",
   "execution_count": 1,
   "id": "07fb0bbe",
   "metadata": {},
   "outputs": [
    {
     "data": {
      "text/plain": [
       "False"
      ]
     },
     "execution_count": 1,
     "metadata": {},
     "output_type": "execute_result"
    }
   ],
   "source": [
    "def prob_169(x, y):\n",
    "    for i in range(2, int((x + y)**0.5) + 1):\n",
    "        if (x + y) % i == 0:\n",
    "            return False\n",
    "    return True\n",
    "prob_169(6, 3)"
   ]
  },
  {
   "cell_type": "code",
   "execution_count": 22,
   "id": "bce4f596",
   "metadata": {},
   "outputs": [
    {
     "name": "stdout",
     "output_type": "stream",
     "text": [
      "32\n"
     ]
    }
   ],
   "source": [
    "def prob_170(n):\n",
    "    while (n != 1):\n",
    "        if (n % 2 != 0):\n",
    "            return False\n",
    "        n = n // 2\n",
    "    return True\n",
    "def smallest_power_of_two(n):\n",
    "    if prob_170(n):\n",
    "        print(n)\n",
    "    else:\n",
    "        power_of_two = 1\n",
    "        while power_of_two < n:\n",
    "            power_of_two *= 2\n",
    "        print(power_of_two)\n",
    "smallest_power_of_two(17)"
   ]
  },
  {
   "cell_type": "code",
   "execution_count": 3,
   "id": "b283cfc5",
   "metadata": {},
   "outputs": [
    {
     "data": {
      "text/plain": [
       "24"
      ]
     },
     "execution_count": 3,
     "metadata": {},
     "output_type": "execute_result"
    }
   ],
   "source": [
    "def prob_171(N):\n",
    "    product = 1\n",
    "    for factorial_num in range(1, N + 1):\n",
    "        product *= factorial_num\n",
    "    return product\n",
    "prob_171(4)"
   ]
  },
  {
   "cell_type": "code",
   "execution_count": 44,
   "id": "bc76961c",
   "metadata": {},
   "outputs": [
    {
     "data": {
      "text/plain": [
       "[(0, 2.0), (2.0, 4.0), (4.0, 6.0), (6.0, 8.0), (8.0, 10.0)]"
      ]
     },
     "execution_count": 44,
     "metadata": {},
     "output_type": "execute_result"
    }
   ],
   "source": [
    "def prob_173(A, B, N):\n",
    "    interval_length = (B - A) / N\n",
    "    intervals = []\n",
    "    first_point = A\n",
    "    for i in range(N):\n",
    "        intervals.append((first_point, first_point + interval_length))\n",
    "        first_point = first_point + interval_length\n",
    "    return intervals\n",
    "A = 0\n",
    "B = 10  \n",
    "N = 5   \n",
    "prob_173(A, B, N)"
   ]
  },
  {
   "cell_type": "code",
   "execution_count": 36,
   "id": "aaa213d3",
   "metadata": {},
   "outputs": [
    {
     "data": {
      "text/plain": [
       "[2, 2.5, 2.4, 2.4166666666666665, 2.413793103448276, 2.414285714285714]"
      ]
     },
     "execution_count": 36,
     "metadata": {},
     "output_type": "execute_result"
    }
   ],
   "source": [
    "def prob_174(N):\n",
    "    num_list = [2]\n",
    "    for k in range(1, N + 1):\n",
    "        num_list.append(2 + 1 / num_list[k - 1])\n",
    "    return num_list\n",
    "prob_174(5)"
   ]
  },
  {
   "cell_type": "code",
   "execution_count": 27,
   "id": "e8e8ab22",
   "metadata": {},
   "outputs": [
    {
     "data": {
      "text/plain": [
       "[2.0, 1.5, 0.8333333333333334]"
      ]
     },
     "execution_count": 27,
     "metadata": {},
     "output_type": "execute_result"
    }
   ],
   "source": [
    "def prob_175(N):\n",
    "    num_list = []\n",
    "    x = [0] * (N + 1)\n",
    "    x[0] = 1\n",
    "    for k in range(1, N + 1):\n",
    "        x[k] = (x[k - 1] + 1) / k\n",
    "        num_list.append(x[k])\n",
    "    return num_list\n",
    "prob_175(3)"
   ]
  },
  {
   "cell_type": "code",
   "execution_count": 28,
   "id": "c7bf6479",
   "metadata": {},
   "outputs": [
    {
     "data": {
      "text/plain": [
       "[1, 1, 2, 3, 5, 8, 13, 21, 34, 55, 89]"
      ]
     },
     "execution_count": 28,
     "metadata": {},
     "output_type": "execute_result"
    }
   ],
   "source": [
    "def prob_176(N):\n",
    "    fibonacci_list = []\n",
    "    F = [0] * (N+1)\n",
    "    F[0] = 1\n",
    "    F[1] = 1\n",
    "    for k in range(3, N + 1):\n",
    "        F[k] = F[k - 2] + F[k - 1]\n",
    "        fibonacci_list.append(F[k])\n",
    "    return fibonacci_list\n",
    "prob_176(13)"
   ]
  },
  {
   "cell_type": "code",
   "execution_count": 30,
   "id": "db51f6e4",
   "metadata": {},
   "outputs": [
    {
     "data": {
      "text/plain": [
       "[0.6666666666666666, 0.4444444444444444, 0.5185185185185185]"
      ]
     },
     "execution_count": 30,
     "metadata": {},
     "output_type": "execute_result"
    }
   ],
   "source": [
    "def prob_177(N):\n",
    "    real_num = []\n",
    "    if N < 2:\n",
    "        return False\n",
    "    x = [0] * (N+1)\n",
    "    x[0] = 1\n",
    "    x[1] = 2\n",
    "    for k in range(3, N+1):\n",
    "        x[k] = (x[k - 2] + 2 * x[k - 1]) / 3\n",
    "        real_num.append(x[k])\n",
    "    return real_num\n",
    "prob_177(5)"
   ]
  },
  {
   "cell_type": "code",
   "execution_count": 31,
   "id": "19724388",
   "metadata": {},
   "outputs": [
    {
     "data": {
      "text/plain": [
       "[-1, -7, -8, -13, -7, -4, 15, 25, 48, 43, 41, -12, -57]"
      ]
     },
     "execution_count": 31,
     "metadata": {},
     "output_type": "execute_result"
    }
   ],
   "source": [
    "def prob_178(N):\n",
    "    real_num = []\n",
    "    if N < 3:\n",
    "        return False\n",
    "    x = [0] * (N + 1)\n",
    "    x[0] = 1\n",
    "    x[1] = 2\n",
    "    x[2] = 3\n",
    "    for k in range(4, N + 1):\n",
    "        x[k] = (x[k - 1] + x[k - 2] -2*x[k - 3])\n",
    "        real_num.append(x[k])\n",
    "    return real_num\n",
    "prob_178(16)"
   ]
  },
  {
   "cell_type": "code",
   "execution_count": 45,
   "id": "8368955c",
   "metadata": {},
   "outputs": [
    {
     "name": "stdout",
     "output_type": "stream",
     "text": [
      "6, 5\n"
     ]
    }
   ],
   "source": [
    "def prob_179(N, K):\n",
    "    quantity = 0\n",
    "    remainder = N\n",
    "    while remainder >= K:\n",
    "        quantity += 1\n",
    "        remainder -= K\n",
    "    return quantity, remainder\n",
    "quantity, remainder = prob_179(131, 21)\n",
    "print(f\"{quantity}, {remainder}\")"
   ]
  },
  {
   "cell_type": "code",
   "execution_count": 37,
   "id": "c07cf056",
   "metadata": {},
   "outputs": [
    {
     "data": {
      "text/plain": [
       "False"
      ]
     },
     "execution_count": 37,
     "metadata": {},
     "output_type": "execute_result"
    }
   ],
   "source": [
    "def prob_180(N):\n",
    "    i = 1\n",
    "    while 3 ** i <= N:\n",
    "        if 3 ** i == N:\n",
    "            return True\n",
    "        i += 1\n",
    "    return False\n",
    "prob_180(6)"
   ]
  },
  {
   "cell_type": "code",
   "execution_count": 38,
   "id": "c8aecc91",
   "metadata": {},
   "outputs": [
    {
     "data": {
      "text/plain": [
       "3"
      ]
     },
     "execution_count": 38,
     "metadata": {},
     "output_type": "execute_result"
    }
   ],
   "source": [
    "def prob_181(N):\n",
    "    i = 1\n",
    "    while 2 ** i <= N:\n",
    "        if 2 ** i == N:\n",
    "            return i\n",
    "        i += 1\n",
    "prob_181(8)"
   ]
  },
  {
   "cell_type": "code",
   "execution_count": 39,
   "id": "94f9d688",
   "metadata": {},
   "outputs": [
    {
     "data": {
      "text/plain": [
       "10"
      ]
     },
     "execution_count": 39,
     "metadata": {},
     "output_type": "execute_result"
    }
   ],
   "source": [
    "def prob_182(N):\n",
    "    K = 1\n",
    "    while K ** 2 < N:\n",
    "        K += 1\n",
    "    return K - 1\n",
    "prob_182(121)"
   ]
  },
  {
   "cell_type": "code",
   "execution_count": 40,
   "id": "8c479ff6",
   "metadata": {},
   "outputs": [
    {
     "data": {
      "text/plain": [
       "3"
      ]
     },
     "execution_count": 40,
     "metadata": {},
     "output_type": "execute_result"
    }
   ],
   "source": [
    "def prob_183(N):\n",
    "    K = 1\n",
    "    while 3 ** K <= N:\n",
    "        K += 1\n",
    "    return K\n",
    "prob_183(10)"
   ]
  },
  {
   "cell_type": "code",
   "execution_count": 1,
   "id": "6c34fe38",
   "metadata": {},
   "outputs": [
    {
     "data": {
      "text/plain": [
       "2"
      ]
     },
     "execution_count": 1,
     "metadata": {},
     "output_type": "execute_result"
    }
   ],
   "source": [
    "def prob_184(N):\n",
    "    K = 1\n",
    "    while 3 ** K <= N:\n",
    "        K += 1\n",
    "    return K - 1\n",
    "prob_184(10)"
   ]
  },
  {
   "cell_type": "code",
   "execution_count": 2,
   "id": "bbf79e8c",
   "metadata": {},
   "outputs": [
    {
     "name": "stdout",
     "output_type": "stream",
     "text": [
      "2\n",
      "101250.0\n"
     ]
    }
   ],
   "source": [
    "def prob_185(avand, p, amis):\n",
    "    return avand * (1 + p / 100) ** amis\n",
    "\n",
    "avand = 30000\n",
    "p = 50\n",
    "avand_ger = 100000\n",
    "amisneri_qanak = 0\n",
    "while avand < avand_ger:\n",
    "    amisneri_qanak += 1\n",
    "    avand = prob_185(avand, p, amisneri_qanak)\n",
    "    \n",
    "\n",
    "print(amisneri_qanak)\n",
    "print(avand)"
   ]
  },
  {
   "cell_type": "code",
   "execution_count": 6,
   "id": "3b3c8680",
   "metadata": {},
   "outputs": [
    {
     "name": "stdout",
     "output_type": "stream",
     "text": [
      "3\n",
      "150\n"
     ]
    }
   ],
   "source": [
    "def prob_186(s, p, orer):\n",
    "    return s * (1 + p / 100) ** orer\n",
    "s = 20\n",
    "p = 40\n",
    "s_ger = 80\n",
    "oreri_qanak = 0\n",
    "while s < s_ger:\n",
    "    oreri_qanak += 1\n",
    "    s = prob_185(s, p, oreri_qanak)\n",
    "print(oreri_qanak)\n",
    "print(int(s))"
   ]
  },
  {
   "cell_type": "code",
   "execution_count": 4,
   "id": "87ad4436",
   "metadata": {},
   "outputs": [
    {
     "data": {
      "text/plain": [
       "True"
      ]
     },
     "execution_count": 4,
     "metadata": {},
     "output_type": "execute_result"
    }
   ],
   "source": [
    "def prob_187(N):\n",
    "    for i in range(2, N/2):\n",
    "        if (N % i) == 0:\n",
    "            return False\n",
    "    return True\n",
    "prob_187(3)"
   ]
  },
  {
   "cell_type": "code",
   "execution_count": 45,
   "id": "8323f182",
   "metadata": {},
   "outputs": [
    {
     "data": {
      "text/plain": [
       "[1, 1, 2, 3, 5, 8, 13, 21]"
      ]
     },
     "execution_count": 45,
     "metadata": {},
     "output_type": "execute_result"
    }
   ],
   "source": [
    "def prob_188(N):\n",
    "    fibonacci_list = []\n",
    "    F = [0] * (N+1)\n",
    "    F[0] = 1\n",
    "    F[1] = 1\n",
    "    for k in range(3, N + 1):\n",
    "        F[k] = F[k - 2] + F[k - 1]\n",
    "        fibonacci_list.append(F[k])\n",
    "    return fibonacci_list\n",
    "prob_188(10)"
   ]
  },
  {
   "cell_type": "code",
   "execution_count": 4,
   "id": "1bb2e49b",
   "metadata": {},
   "outputs": [
    {
     "name": "stdout",
     "output_type": "stream",
     "text": [
      "[2, 3, 5, 8, 13, 21, 34, 55, 89, 144, 233, 377]\n"
     ]
    },
    {
     "data": {
      "text/plain": [
       "True"
      ]
     },
     "execution_count": 4,
     "metadata": {},
     "output_type": "execute_result"
    }
   ],
   "source": [
    "def prob_188(N):\n",
    "    fibonacci_list = []\n",
    "    F = [0] * (N+1)\n",
    "    F[0] = 1\n",
    "    F[1] = 1\n",
    "    for k in range(2, N + 1):\n",
    "        F[k] = F[k - 2] + F[k - 1]\n",
    "        fibonacci_list.append(F[k])\n",
    "    return fibonacci_list\n",
    "def is_fibonacci_number(N):\n",
    "    fibonacci_list = prob_188(N)\n",
    "    print(fibonacci_list)\n",
    "    return N in fibonacci_list\n",
    "is_fibonacci_number(13)"
   ]
  },
  {
   "cell_type": "code",
   "execution_count": 11,
   "id": "830de414",
   "metadata": {},
   "outputs": [
    {
     "name": "stdout",
     "output_type": "stream",
     "text": [
      "[2, 3, 5, 8, 13]\n"
     ]
    },
    {
     "data": {
      "text/plain": [
       "8"
      ]
     },
     "execution_count": 11,
     "metadata": {},
     "output_type": "execute_result"
    }
   ],
   "source": [
    "def prob_189(N):\n",
    "    if N<0:\n",
    "        return False\n",
    "    fibonacci_list = []\n",
    "    F = [0] * (N + 1)\n",
    "    F[0] = 1\n",
    "    F[1] = 1\n",
    "    for k in range(2, N + 1):\n",
    "        F[k] = F[k - 2] + F[k - 1]\n",
    "        fibonacci_list.append(F[k])\n",
    "    return fibonacci_list\n",
    "def max_num(N): \n",
    "    fibonacci_list = prob_189(N)\n",
    "    print(fibonacci_list)\n",
    "    for element in fibonacci_list:\n",
    "        if element > N:\n",
    "            return element\n",
    "    return None\n",
    "max_num(6) "
   ]
  },
  {
   "cell_type": "code",
   "execution_count": 57,
   "id": "42032b57",
   "metadata": {},
   "outputs": [
    {
     "data": {
      "text/plain": [
       "3"
      ]
     },
     "execution_count": 57,
     "metadata": {},
     "output_type": "execute_result"
    }
   ],
   "source": [
    "def prob_190(N):\n",
    "    real_num = []\n",
    "    if N < 2:\n",
    "        return False\n",
    "    x = [0] * (N+1)\n",
    "    x[0] = 1\n",
    "    x[1] = 2\n",
    "    for k in range(3, N+1):\n",
    "        x[k] = (x[k - 2] + 2 * x[k - 1]) / 3\n",
    "        real_num.append(x[k])\n",
    "        if abs(x[k] - x[k - 1]) < N:\n",
    "            return k\n",
    "    return True\n",
    "prob_190(56)"
   ]
  },
  {
   "cell_type": "code",
   "execution_count": 17,
   "id": "346c193d",
   "metadata": {},
   "outputs": [
    {
     "data": {
      "text/plain": [
       "4"
      ]
     },
     "execution_count": 17,
     "metadata": {},
     "output_type": "execute_result"
    }
   ],
   "source": [
    "def prob_201(N):\n",
    "    return len(str(N))\n",
    "\n",
    "prob_201(1234)"
   ]
  },
  {
   "cell_type": "code",
   "execution_count": 18,
   "id": "d5506879",
   "metadata": {},
   "outputs": [
    {
     "data": {
      "text/plain": [
       "15"
      ]
     },
     "execution_count": 18,
     "metadata": {},
     "output_type": "execute_result"
    }
   ],
   "source": [
    "def prob_202(N):\n",
    "    number = str(N)\n",
    "    return sum([int(n) for n in number])\n",
    "prob_202(12345)"
   ]
  },
  {
   "cell_type": "code",
   "execution_count": 60,
   "id": "e714bb08",
   "metadata": {},
   "outputs": [
    {
     "data": {
      "text/plain": [
       "2"
      ]
     },
     "execution_count": 60,
     "metadata": {},
     "output_type": "execute_result"
    }
   ],
   "source": [
    "def prob_203(N):\n",
    "    number = str(N)\n",
    "    digit_product = 1\n",
    "    for digit in number:\n",
    "        digit_product *= int(digit)\n",
    "    return digit_product\n",
    "prob_203(112)"
   ]
  },
  {
   "cell_type": "code",
   "execution_count": 19,
   "id": "1a196ecd",
   "metadata": {},
   "outputs": [
    {
     "data": {
      "text/plain": [
       "[7, 5, 4, 3, 6, 9]"
      ]
     },
     "execution_count": 19,
     "metadata": {},
     "output_type": "execute_result"
    }
   ],
   "source": [
    "def prob_204(N):\n",
    "    digits = [int(digit) for digit in str(N)[::-1]]\n",
    "    return digits\n",
    "prob_204(963457)"
   ]
  },
  {
   "cell_type": "code",
   "execution_count": 62,
   "id": "6c6cf620",
   "metadata": {},
   "outputs": [
    {
     "data": {
      "text/plain": [
       "[9, 7, 6, 5, 4, 3]"
      ]
     },
     "execution_count": 62,
     "metadata": {},
     "output_type": "execute_result"
    }
   ],
   "source": [
    "def prob_205(N):\n",
    "    digits = [int(digit) for digit in str(N)]\n",
    "    return sorted(digits, reverse = True)\n",
    "prob_205(963457)"
   ]
  },
  {
   "cell_type": "code",
   "execution_count": 20,
   "id": "186d4269",
   "metadata": {},
   "outputs": [
    {
     "data": {
      "text/plain": [
       "321"
      ]
     },
     "execution_count": 20,
     "metadata": {},
     "output_type": "execute_result"
    }
   ],
   "source": [
    "def prob_206(N):\n",
    "    return int(str(N)[::-1])\n",
    "    \n",
    "#     digits = [int(digit) for digit in str(N)]\n",
    "#     sorted_digits = sorted(digits)\n",
    "#     sorted_number = int(''.join(map(str, sorted_digits)))\n",
    "  #\n",
    "prob_206(123)"
   ]
  },
  {
   "cell_type": "code",
   "execution_count": 64,
   "id": "9548e3eb",
   "metadata": {},
   "outputs": [
    {
     "data": {
      "text/plain": [
       "True"
      ]
     },
     "execution_count": 64,
     "metadata": {},
     "output_type": "execute_result"
    }
   ],
   "source": [
    "def prob_207(N):\n",
    "    return \"2\" in str(N)\n",
    "prob_207(9632457)"
   ]
  },
  {
   "cell_type": "code",
   "execution_count": 23,
   "id": "70166dd9",
   "metadata": {},
   "outputs": [
    {
     "data": {
      "text/plain": [
       "True"
      ]
     },
     "execution_count": 23,
     "metadata": {},
     "output_type": "execute_result"
    }
   ],
   "source": [
    "def prob_208(N):\n",
    "#     number = str(N)\n",
    "#     first_digit = number[0]\n",
    "#     return all(digit == first_digit for digit in number)\n",
    "\n",
    "    return len(set([x for x in str(N)])) == 1\n",
    "prob_208(1111)"
   ]
  },
  {
   "cell_type": "code",
   "execution_count": 25,
   "id": "0417bb9d",
   "metadata": {},
   "outputs": [
    {
     "data": {
      "text/plain": [
       "False"
      ]
     },
     "execution_count": 25,
     "metadata": {},
     "output_type": "execute_result"
    }
   ],
   "source": [
    "def prob_209(N):\n",
    "    num_str = str(N)\n",
    "    return any(int(digit) % 2 == 1 for digit in num_str)\n",
    "prob_209(222)"
   ]
  },
  {
   "cell_type": "code",
   "execution_count": 67,
   "id": "2ca29de5",
   "metadata": {},
   "outputs": [
    {
     "data": {
      "text/plain": [
       "True"
      ]
     },
     "execution_count": 67,
     "metadata": {},
     "output_type": "execute_result"
    }
   ],
   "source": [
    "def prob_210(N):\n",
    "    number = str(N)\n",
    "    odd_sum = 0\n",
    "    even_sum = 0\n",
    "    for i, digit in enumerate(number):\n",
    "        if i % 2 == 0:\n",
    "            even_sum += int(digit)\n",
    "        else:\n",
    "            odd_sum += int(digit)\n",
    "    return odd_sum == even_sum\n",
    "prob_210(1232)"
   ]
  },
  {
   "cell_type": "code",
   "execution_count": 3,
   "id": "94880ab1",
   "metadata": {},
   "outputs": [
    {
     "data": {
      "text/plain": [
       "6.5"
      ]
     },
     "execution_count": 3,
     "metadata": {},
     "output_type": "execute_result"
    }
   ],
   "source": [
    "def prob_211(numbers):\n",
    "    positive_numbers = [n for n in numbers if n > 0]\n",
    "    if not positive_numbers:\n",
    "        return 0  \n",
    "    average = sum(positive_numbers) / len(positive_numbers)\n",
    "    return average\n",
    "list_1 = [5, -2, -10, -3, 8, 0, -7]\n",
    "prob_211(list_1)"
   ]
  },
  {
   "cell_type": "code",
   "execution_count": 8,
   "id": "aa0a5105",
   "metadata": {},
   "outputs": [
    {
     "data": {
      "text/plain": [
       "7.666666666666667"
      ]
     },
     "execution_count": 8,
     "metadata": {},
     "output_type": "execute_result"
    }
   ],
   "source": [
    "def prob_212():\n",
    "    positive_numbers = [n ** 2 for n in numbers if n > 0]\n",
    "    if not positive_numbers:\n",
    "        return 0  \n",
    "    mean = (sum(positive_numbers) / len(positive_numbers)) ** 0.5\n",
    "    return mean\n",
    "list_1 = [5, -2, 10, -3, 8, 0, -7]\n",
    "prob_211(list_1)"
   ]
  },
  {
   "cell_type": "code",
   "execution_count": 10,
   "id": "337f1e35",
   "metadata": {},
   "outputs": [
    {
     "data": {
      "text/plain": [
       "5.0"
      ]
     },
     "execution_count": 10,
     "metadata": {},
     "output_type": "execute_result"
    }
   ],
   "source": [
    "def prob_213():\n",
    "    positive_numbers = [n ** 2 for n in numbers if n < 0]\n",
    "    if not positive_numbers:\n",
    "        return 0  \n",
    "    mean = (sum(positive_numbers) / len(positive_numbers)) ** 0.5\n",
    "    return mean\n",
    "list_1 = [5, 2, -10, -3, 8, 0, -7]\n",
    "prob_211(list_1)"
   ]
  },
  {
   "cell_type": "code",
   "execution_count": 10,
   "id": "20e4e3a3",
   "metadata": {},
   "outputs": [
    {
     "data": {
      "text/plain": [
       "6.5"
      ]
     },
     "execution_count": 10,
     "metadata": {},
     "output_type": "execute_result"
    }
   ],
   "source": [
    "def prob_214():\n",
    "    positive_numbers = [n for n in numbers if n < 0]\n",
    "    if not positive_numbers:\n",
    "        return 0  \n",
    "    average = sum(positive_numbers) / len(positive_numbers)\n",
    "    return average\n",
    "list_1 = [5, -2, -10, -3, 8, 0, -7]\n",
    "prob_211(list_1)"
   ]
  },
  {
   "cell_type": "code",
   "execution_count": 9,
   "id": "0b960353",
   "metadata": {},
   "outputs": [
    {
     "name": "stdout",
     "output_type": "stream",
     "text": [
      "25 [1, 3, 5, 7, 9]\n"
     ]
    }
   ],
   "source": [
    "def prob_215(even_index):\n",
    "    even_index = even_index[::2]\n",
    "    even_sum = sum(even_index)\n",
    "    print(even_sum, even_index)\n",
    "list_1 = [1, 2, 3, 4, 5, 6, 7, 8, 9]\n",
    "prob_215(list_1)"
   ]
  },
  {
   "cell_type": "code",
   "execution_count": 16,
   "id": "8d552775",
   "metadata": {},
   "outputs": [
    {
     "data": {
      "text/plain": [
       "15"
      ]
     },
     "execution_count": 16,
     "metadata": {},
     "output_type": "execute_result"
    }
   ],
   "source": [
    "def prob_216(even_index):\n",
    "    even_mul = 1\n",
    "    for i in range(0, len(even_index), 2):\n",
    "        even_mul *= even_index[i]\n",
    "    return even_mul\n",
    "list_1 = [1, 2, 5, 4, 3]\n",
    "prob_216(list_1)"
   ]
  },
  {
   "cell_type": "code",
   "execution_count": 15,
   "id": "2a795cd8",
   "metadata": {},
   "outputs": [
    {
     "data": {
      "text/plain": [
       "64"
      ]
     },
     "execution_count": 15,
     "metadata": {},
     "output_type": "execute_result"
    }
   ],
   "source": [
    "def prob_217(my_list):\n",
    "    odd_index = [my_list[i] for i in range(1, len(my_list), 2)]\n",
    "    odd_mul = 1\n",
    "    for number in odd_index:\n",
    "        odd_mul *= number ** 2  \n",
    "    return odd_mul\n",
    "list_1 = [1, 2, 5, 4, 3]\n",
    "prob_217(list_1)"
   ]
  },
  {
   "cell_type": "code",
   "execution_count": 19,
   "id": "3d83f047",
   "metadata": {},
   "outputs": [
    {
     "data": {
      "text/plain": [
       "6"
      ]
     },
     "execution_count": 19,
     "metadata": {},
     "output_type": "execute_result"
    }
   ],
   "source": [
    "def prob_218(my_list):\n",
    "    odd_index = [my_list[i] for i in range(1, len(my_list), 2)]\n",
    "    odd_abs_sum = 0\n",
    "    for number in odd_index:\n",
    "        odd_abs_sum += abs(number)\n",
    "    return odd_abs_sum\n",
    "list_1 = [1, -2, 5, 4, 3]\n",
    "prob_218(list_1)"
   ]
  },
  {
   "cell_type": "code",
   "execution_count": 28,
   "id": "7ee7174c",
   "metadata": {},
   "outputs": [
    {
     "data": {
      "text/plain": [
       "3"
      ]
     },
     "execution_count": 28,
     "metadata": {},
     "output_type": "execute_result"
    }
   ],
   "source": [
    "def prob_219(my_list, k):\n",
    "    num_index = [my_list[i] for i in range(1, len(my_list)) if i % k == 0]\n",
    "    num_count = 0\n",
    "    for number in num_index:\n",
    "        num_count += 1\n",
    "    return num_count\n",
    "list_1 = [1, -2, 5, 4, 6, 7, 9]\n",
    "prob_219(list_1, 2)"
   ]
  },
  {
   "cell_type": "code",
   "execution_count": 39,
   "id": "dfc9ef00",
   "metadata": {},
   "outputs": [
    {
     "data": {
      "text/plain": [
       "6"
      ]
     },
     "execution_count": 39,
     "metadata": {},
     "output_type": "execute_result"
    }
   ],
   "source": [
    "def prob_220(my_list):\n",
    "    num_count = 0\n",
    "    for number in my_list:\n",
    "        if number != 0:\n",
    "            num_count += 1\n",
    "    return num_count\n",
    "list_1 = [1, -2, 0, 5, -4, 0, 6, 7]\n",
    "prob_220(list_1)"
   ]
  },
  {
   "cell_type": "code",
   "execution_count": 49,
   "id": "7c00228b",
   "metadata": {},
   "outputs": [
    {
     "data": {
      "text/plain": [
       "24"
      ]
     },
     "execution_count": 49,
     "metadata": {},
     "output_type": "execute_result"
    }
   ],
   "source": [
    "def prob_221(my_list, a, b):\n",
    "    interval_numbers = [num for num in my_list if a <= num <= b]\n",
    "    return sum(interval_numbers)\n",
    "my_list = [1, 3, 5, 7, 9, 11]\n",
    "prob_221(my_list, 3, 10)"
   ]
  },
  {
   "cell_type": "code",
   "execution_count": 52,
   "id": "c3ecff15",
   "metadata": {},
   "outputs": [
    {
     "data": {
      "text/plain": [
       "945"
      ]
     },
     "execution_count": 52,
     "metadata": {},
     "output_type": "execute_result"
    }
   ],
   "source": [
    "def prob_222(my_list, c, d):\n",
    "    interval_numbers = [num for num in my_list if c <= num < d]\n",
    "    num_mul = 1\n",
    "    for number in interval_numbers:\n",
    "        num_mul *= number \n",
    "    return num_mul\n",
    "list_1 = [1, 3, 5, 7, 9, 11]\n",
    "prob_222(list_1, 3, 10)    "
   ]
  },
  {
   "cell_type": "code",
   "execution_count": 55,
   "id": "77201f51",
   "metadata": {},
   "outputs": [
    {
     "data": {
      "text/plain": [
       "3"
      ]
     },
     "execution_count": 55,
     "metadata": {},
     "output_type": "execute_result"
    }
   ],
   "source": [
    "def prob_223(my_list, a, b):\n",
    "    interval_numbers = [num for num in my_list if a < num < b]\n",
    "    interval_numbers_count = 0\n",
    "    for number in interval_numbers:\n",
    "        interval_numbers_count  += 1\n",
    "    return interval_numbers_count\n",
    "list_1 = [1, 3, 5, 7, 9, 11]\n",
    "prob_223(list_1, 3, 10)     "
   ]
  },
  {
   "cell_type": "code",
   "execution_count": 62,
   "id": "d0f94ad8",
   "metadata": {},
   "outputs": [
    {
     "data": {
      "text/plain": [
       "28"
      ]
     },
     "execution_count": 62,
     "metadata": {},
     "output_type": "execute_result"
    }
   ],
   "source": [
    "def prob_224(my_list, k):\n",
    "    num = [num for num in my_list if abs(num) < k]\n",
    "    num_sum = 0\n",
    "    for number in num:\n",
    "        num_sum += number ** 3\n",
    "    return num_sum\n",
    "list_1 = [1, 3, 5, 7, 9, 11]\n",
    "prob_224(list_1, 5)"
   ]
  },
  {
   "cell_type": "code",
   "execution_count": 67,
   "id": "5b241d3e",
   "metadata": {},
   "outputs": [
    {
     "data": {
      "text/plain": [
       "15"
      ]
     },
     "execution_count": 67,
     "metadata": {},
     "output_type": "execute_result"
    }
   ],
   "source": [
    "def prob_225(my_list, t):\n",
    "    num = [num for num in my_list if abs(num) < t]\n",
    "    num_mul = 1\n",
    "    for number in num:\n",
    "        num_mul *= number\n",
    "    return num_mul\n",
    "list_1 = [1, 3, 5, 7, 9, 11]\n",
    "prob_225(list_1, 7)"
   ]
  },
  {
   "cell_type": "code",
   "execution_count": 71,
   "id": "73647a5c",
   "metadata": {},
   "outputs": [
    {
     "data": {
      "text/plain": [
       "5"
      ]
     },
     "execution_count": 71,
     "metadata": {},
     "output_type": "execute_result"
    }
   ],
   "source": [
    "def prob_226(my_list, k):\n",
    "    num = [num for num in my_list if abs(num) < k]\n",
    "    num_count = 0\n",
    "    for number in num:\n",
    "        num_count += 1\n",
    "    return num_count\n",
    "list_1 = [1, 3, 5, 7, 9, 11]\n",
    "prob_226(list_1, 10)"
   ]
  },
  {
   "cell_type": "code",
   "execution_count": 83,
   "id": "d931c08c",
   "metadata": {},
   "outputs": [
    {
     "data": {
      "text/plain": [
       "4.333333333333333"
      ]
     },
     "execution_count": 83,
     "metadata": {},
     "output_type": "execute_result"
    }
   ],
   "source": [
    "def prob_227(my_list, k):\n",
    "    num = [my_list[i] for i in range(len(my_list)) if i % k == 0]\n",
    "    average = sum(num) / len(num)\n",
    "    return average\n",
    "list_1 = [5, -2, 3, 4, 5]\n",
    "prob_227(list_1, 2)"
   ]
  },
  {
   "cell_type": "code",
   "execution_count": 91,
   "id": "ccd3cdee",
   "metadata": {},
   "outputs": [
    {
     "data": {
      "text/plain": [
       "13"
      ]
     },
     "execution_count": 91,
     "metadata": {},
     "output_type": "execute_result"
    }
   ],
   "source": [
    "def prob_228(my_list, k):\n",
    "    return sum([my_list[i] for i in range(len(my_list)) if i % k == 0])\n",
    "list_1 = [5, 2, 3, 4, 5]\n",
    "prob_228(list_1, 2)"
   ]
  },
  {
   "cell_type": "code",
   "execution_count": 99,
   "id": "b561239d",
   "metadata": {},
   "outputs": [
    {
     "data": {
      "text/plain": [
       "1890"
      ]
     },
     "execution_count": 99,
     "metadata": {},
     "output_type": "execute_result"
    }
   ],
   "source": [
    "def prob_229(my_list):\n",
    "    num = [my_list[i] for i in range(len(my_list)) if my_list[i] - i > 0]\n",
    "    num_mul = 1\n",
    "    for number in num:\n",
    "        num_mul *= number\n",
    "    return num_mul\n",
    "list_1 = [2, 3, 5, 7, 9, 1]\n",
    "prob_229(list_1)"
   ]
  },
  {
   "cell_type": "code",
   "execution_count": 15,
   "id": "b4a1814b",
   "metadata": {},
   "outputs": [
    {
     "name": "stdout",
     "output_type": "stream",
     "text": [
      "3.1622776601683795\n"
     ]
    }
   ],
   "source": [
    "def prob_230(my_list, k):\n",
    "    num = [n ** 2 for n in my_list if n % k == 0]\n",
    "    mean = (sum(num) / len(num)) ** 0.5\n",
    "    return mean\n",
    "list_1 = [5, 2, 3, 4, 5]\n",
    "print(prob_230(list_1, 2))"
   ]
  },
  {
   "cell_type": "code",
   "execution_count": 16,
   "id": "72888750",
   "metadata": {},
   "outputs": [
    {
     "name": "stdout",
     "output_type": "stream",
     "text": [
      "20\n"
     ]
    }
   ],
   "source": [
    "def prob_231(my_list):\n",
    "    return sum([n ** 2 for n in my_list if n % 2 == 0])\n",
    "list_1 = [5, 2, 4, 7, 3]\n",
    "print(prob_231(list_1))"
   ]
  },
  {
   "cell_type": "code",
   "execution_count": 19,
   "id": "7100b26f",
   "metadata": {},
   "outputs": [
    {
     "data": {
      "text/plain": [
       "3"
      ]
     },
     "execution_count": 19,
     "metadata": {},
     "output_type": "execute_result"
    }
   ],
   "source": [
    "def prob_232(my_list):\n",
    "    even_num = [n for n in my_list if n % 2 == 0]    \n",
    "    num_count = 0\n",
    "    for number in even_num:\n",
    "        num_count += 1\n",
    "    return num_count\n",
    "list_1 = [1, -2, 5, 4, 6, 7, 9]\n",
    "prob_232(list_1)"
   ]
  },
  {
   "cell_type": "code",
   "execution_count": 28,
   "id": "e59b1c7c",
   "metadata": {},
   "outputs": [
    {
     "data": {
      "text/plain": [
       "(8, -48)"
      ]
     },
     "execution_count": 28,
     "metadata": {},
     "output_type": "execute_result"
    }
   ],
   "source": [
    "def prob_233(my_list):\n",
    "    even_num = [n for n in my_list if n % 2 == 0]\n",
    "    sum_num =  sum([n for n in my_list if n % 2 == 0])\n",
    "    num_mul = 1\n",
    "    for number in even_num:\n",
    "        num_mul *= number\n",
    "    return sum_num, num_mul\n",
    "list_1 = [1, -2, 5, 4, 6, 7, 9]\n",
    "prob_233(list_1)"
   ]
  },
  {
   "cell_type": "code",
   "execution_count": 33,
   "id": "24767cc5",
   "metadata": {},
   "outputs": [
    {
     "data": {
      "text/plain": [
       "5.5"
      ]
     },
     "execution_count": 33,
     "metadata": {},
     "output_type": "execute_result"
    }
   ],
   "source": [
    "def prob_234(my_list):\n",
    "    odd_num = [n for n in my_list if n % 2 == 1] \n",
    "    average = sum(odd_num) / len(odd_num)\n",
    "    return average\n",
    "list_1 = [1, -2, 5, 4, 6, 7, 9]\n",
    "prob_234(list_1)"
   ]
  },
  {
   "cell_type": "code",
   "execution_count": 31,
   "id": "313212da",
   "metadata": {},
   "outputs": [
    {
     "data": {
      "text/plain": [
       "6.244997998398398"
      ]
     },
     "execution_count": 31,
     "metadata": {},
     "output_type": "execute_result"
    }
   ],
   "source": [
    "def prob_235(my_list):\n",
    "    odd_num = [n ** 2 for n in my_list if n % 2 == 1] \n",
    "    mean = (sum(odd_num) / len(odd_num)) ** 0.5\n",
    "    return mean\n",
    "list_1 = [1, -2, 5, 4, 6, 7, 9]\n",
    "prob_235(list_1)"
   ]
  },
  {
   "cell_type": "code",
   "execution_count": 34,
   "id": "a1ff796b",
   "metadata": {},
   "outputs": [
    {
     "data": {
      "text/plain": [
       "(4, 315)"
      ]
     },
     "execution_count": 34,
     "metadata": {},
     "output_type": "execute_result"
    }
   ],
   "source": [
    "def prob_236(my_list):\n",
    "    odd_num = [n for n in my_list if n % 2 == 1]\n",
    "    odd_num_count = 0\n",
    "    odd_num_mul = 1\n",
    "    for number in odd_num:\n",
    "        odd_num_count += 1\n",
    "        odd_num_mul *= number\n",
    "    return odd_num_count, odd_num_mul\n",
    "list_1 = [1, -2, 5, 4, 6, 7, 9]\n",
    "prob_236(list_1)"
   ]
  },
  {
   "cell_type": "code",
   "execution_count": 37,
   "id": "640fa909",
   "metadata": {},
   "outputs": [
    {
     "data": {
      "text/plain": [
       "3"
      ]
     },
     "execution_count": 37,
     "metadata": {},
     "output_type": "execute_result"
    }
   ],
   "source": [
    "def prob_237(my_list):\n",
    "    zero_num = [n for n in my_list if n == 0]\n",
    "    zero_num_count = 0\n",
    "    for number in zero_num:\n",
    "        zero_num_count += 1\n",
    "    return zero_num_count\n",
    "list_1 = [1, 0, 5, 0, 6, 0, 9]\n",
    "prob_237(list_1)"
   ]
  },
  {
   "cell_type": "code",
   "execution_count": 41,
   "id": "d53515a4",
   "metadata": {},
   "outputs": [
    {
     "data": {
      "text/plain": [
       "7.5"
      ]
     },
     "execution_count": 41,
     "metadata": {},
     "output_type": "execute_result"
    }
   ],
   "source": [
    "def prob_238(my_list):\n",
    "    numbers = [n for n in my_list if n % 3 == 0]\n",
    "    return sum(numbers) / len(numbers)\n",
    "list_1 = [1, -2, 5, 4, 6, 7, 9]\n",
    "prob_238(list_1)"
   ]
  },
  {
   "cell_type": "code",
   "execution_count": 42,
   "id": "e46f6fa5",
   "metadata": {},
   "outputs": [
    {
     "data": {
      "text/plain": [
       "7.905694150420948"
      ]
     },
     "execution_count": 42,
     "metadata": {},
     "output_type": "execute_result"
    }
   ],
   "source": [
    "def prob_239(my_list):\n",
    "    numbers = [n ** 2 for n in my_list if n % 5 == 0]\n",
    "    mean = (sum(numbers) / len(numbers)) ** 0.5\n",
    "    return mean\n",
    "list_1 = [5, 10, 6, 3, 8]\n",
    "prob_239(list_1)"
   ]
  },
  {
   "cell_type": "code",
   "execution_count": 44,
   "id": "2e8ba182",
   "metadata": {},
   "outputs": [
    {
     "data": {
      "text/plain": [
       "2"
      ]
     },
     "execution_count": 44,
     "metadata": {},
     "output_type": "execute_result"
    }
   ],
   "source": [
    "def prob_240(my_list):\n",
    "    numbers = [n for n in my_list if n % 7 ==0]\n",
    "    num_count = 0\n",
    "    for number in numbers:\n",
    "        num_count += 1\n",
    "    return num_count\n",
    "list_1 = [5, 14, 6, 7, 8]\n",
    "prob_240(list_1)"
   ]
  },
  {
   "cell_type": "code",
   "execution_count": 46,
   "id": "cf63eba3",
   "metadata": {},
   "outputs": [
    {
     "data": {
      "text/plain": [
       "12"
      ]
     },
     "execution_count": 46,
     "metadata": {},
     "output_type": "execute_result"
    }
   ],
   "source": [
    "def prob_241(my_list, k):\n",
    "    return sum([num for num in my_list if num % k == 0])\n",
    "list_1 = [1, 3, 5, 7, 9, 11]\n",
    "prob_241(list_1, 3)"
   ]
  },
  {
   "cell_type": "code",
   "execution_count": 51,
   "id": "b00255e8",
   "metadata": {},
   "outputs": [
    {
     "data": {
      "text/plain": [
       "54"
      ]
     },
     "execution_count": 51,
     "metadata": {},
     "output_type": "execute_result"
    }
   ],
   "source": [
    "def prob_242(my_list, m):\n",
    "    numbers = [n for n in my_list if n % m == 0]\n",
    "    num_mul = 1\n",
    "    for number in numbers:\n",
    "        num_mul *= number\n",
    "    return num_mul\n",
    "list_1 = [5, 14, 6, 9, 8]\n",
    "prob_242(list_1, 3)"
   ]
  },
  {
   "cell_type": "code",
   "execution_count": 53,
   "id": "12c560d7",
   "metadata": {},
   "outputs": [
    {
     "data": {
      "text/plain": [
       "3"
      ]
     },
     "execution_count": 53,
     "metadata": {},
     "output_type": "execute_result"
    }
   ],
   "source": [
    "def prob_243(my_list, t):\n",
    "    numbers = [n for n in my_list if n % t ==0]\n",
    "    num_count = 0\n",
    "    for number in numbers:\n",
    "        num_count += 1\n",
    "    return num_count\n",
    "list_1 = [5, 14, 6, 7, 8]\n",
    "prob_243(list_1, 2)"
   ]
  },
  {
   "cell_type": "code",
   "execution_count": 55,
   "id": "e4bedbce",
   "metadata": {},
   "outputs": [
    {
     "data": {
      "text/plain": [
       "7"
      ]
     },
     "execution_count": 55,
     "metadata": {},
     "output_type": "execute_result"
    }
   ],
   "source": [
    "def prob_244(my_list):\n",
    "    numbers = [n for n in my_list if n % 5 == 2]\n",
    "    num_mul = 1\n",
    "    for number in numbers:\n",
    "        num_mul *= number\n",
    "    return num_mul\n",
    "list_1 = [5, 14, 6, 7, 8]\n",
    "prob_244(list_1)"
   ]
  },
  {
   "cell_type": "code",
   "execution_count": 62,
   "id": "e824c6f9",
   "metadata": {},
   "outputs": [
    {
     "data": {
      "text/plain": [
       "117"
      ]
     },
     "execution_count": 62,
     "metadata": {},
     "output_type": "execute_result"
    }
   ],
   "source": [
    "def prob_245(my_list):\n",
    "    numbers = [n**2 for i, n in enumerate(my_list)]\n",
    "    num_sum = 0\n",
    "    for number in numbers:\n",
    "        if number % 3 == 0:\n",
    "            num_sum += number\n",
    "    return num_sum\n",
    "list_1 = [5, 14, 6, 9, 8]\n",
    "prob_245(list_1)"
   ]
  },
  {
   "cell_type": "code",
   "execution_count": 101,
   "id": "f23f1d0a",
   "metadata": {},
   "outputs": [
    {
     "name": "stdout",
     "output_type": "stream",
     "text": [
      "5.666666666666667\n"
     ]
    }
   ],
   "source": [
    "def square_natural_num(i):\n",
    "    root = int(i ** 0.5)\n",
    "    return root * root == i\n",
    "def prob_246(my_list):\n",
    "    square_indexes = [i for i in range(len(my_list)) if square_natural_num(i)]\n",
    "    square_index_numbers = [my_list[i] for i in square_indexes]\n",
    "    average = sum(square_index_numbers) / len(square_index_numbers)\n",
    "    return average\n",
    "list_1 = [5, 4, 6, 9, 8]  #5, 4, 8\n",
    "print(prob_246(list_1))"
   ]
  },
  {
   "cell_type": "code",
   "execution_count": 102,
   "id": "ba152ae5",
   "metadata": {},
   "outputs": [
    {
     "name": "stdout",
     "output_type": "stream",
     "text": [
      "4.527692569068709\n"
     ]
    }
   ],
   "source": [
    "def prob_247(my_list):\n",
    "    num = [my_list[i] ** 2 for i in range(len(my_list)) if my_list[i] > i]\n",
    "    mean = (sum(num) / len(num)) ** 0.5\n",
    "    return mean\n",
    "list_1 = [5, 4, 1, 2, 3] \n",
    "print(prob_247(list_1))"
   ]
  },
  {
   "cell_type": "code",
   "execution_count": 105,
   "id": "24c8473e",
   "metadata": {},
   "outputs": [
    {
     "data": {
      "text/plain": [
       "22"
      ]
     },
     "execution_count": 105,
     "metadata": {},
     "output_type": "execute_result"
    }
   ],
   "source": [
    "def prob_248(my_list, k):\n",
    "    num = [my_list[i] for i in range(len(my_list)) if ((my_list[i] + i) ** 2) % k  == 0]\n",
    "    num_sum = 0\n",
    "    for number in num:\n",
    "        num_sum += number\n",
    "    return num_sum\n",
    "list_1 = [1, 3, 5, 7, 9, 15]\n",
    "prob_248(list_1, 10)"
   ]
  },
  {
   "cell_type": "code",
   "execution_count": 109,
   "id": "614aa34c",
   "metadata": {
    "scrolled": true
   },
   "outputs": [
    {
     "data": {
      "text/plain": [
       "4"
      ]
     },
     "execution_count": 109,
     "metadata": {},
     "output_type": "execute_result"
    }
   ],
   "source": [
    "def prob_249(my_list, k):\n",
    "    num = [my_list[i] for i in range(len(my_list)) if abs(my_list[i] - i) > k]\n",
    "    num_count = 0\n",
    "    for number in num:\n",
    "        num_count += 1\n",
    "    return num_count\n",
    "list_1 = [1, 3, 5, 7, 9, 15]\n",
    "prob_249(list_1, 2)"
   ]
  },
  {
   "cell_type": "code",
   "execution_count": 113,
   "id": "697c4719",
   "metadata": {},
   "outputs": [
    {
     "data": {
      "text/plain": [
       "1"
      ]
     },
     "execution_count": 113,
     "metadata": {},
     "output_type": "execute_result"
    }
   ],
   "source": [
    "def prob_250(my_list):\n",
    "    num = [my_list[i] ** 2 for i in range(len(my_list)) if (my_list[i] * i) % 3 == 2]\n",
    "    num_mul = 1\n",
    "    for number in num:\n",
    "        num_mul *= number\n",
    "    return num_mul\n",
    "list_1 = [5, 3, 2, 7, 9, 15]\n",
    "prob_250(list_1)"
   ]
  },
  {
   "cell_type": "code",
   "execution_count": 140,
   "id": "5af87f97",
   "metadata": {},
   "outputs": [
    {
     "name": "stdout",
     "output_type": "stream",
     "text": [
      "[11, 12, 22, 25, 34, 64, 90] \n",
      " 90\n"
     ]
    }
   ],
   "source": [
    "#bubble sort find max\n",
    "def prob_251(my_list):\n",
    "    for i in range(len(my_list)):\n",
    "        for j in range(0, len(my_list) - i - 1):\n",
    "            if my_list[j] > my_list[j + 1]:\n",
    "                temp = my_list [j]\n",
    "                my_list[j] = my_list[j+1]\n",
    "                my_list[j+1] = temp   \n",
    "list_1 = [64, 34, 25, 12, 22, 11, 90]\n",
    "prob_251(list_1)\n",
    "print(f\"{list_1} \\n {list_1[-1]}\")"
   ]
  },
  {
   "cell_type": "code",
   "execution_count": 141,
   "id": "e83ff768",
   "metadata": {},
   "outputs": [
    {
     "name": "stdout",
     "output_type": "stream",
     "text": [
      "[11, 12, 22, 25, 34, 64, 90] \n",
      " 11\n"
     ]
    }
   ],
   "source": [
    "#insertion sort find min\n",
    "def prob_252(my_list):\n",
    "    n = len(my_list)\n",
    "    for i in range(1, n):\n",
    "        list_element = my_list[i]\n",
    "        j = i - 1\n",
    "        while j >= 0 and my_list[j] > list_element:\n",
    "            my_list[j + 1] = my_list[j]\n",
    "            j -= 1\n",
    "        my_list[j + 1] = list_element\n",
    "list_1 = [64, 34, 25, 12, 22, 11, 90]\n",
    "prob_252(list_1)\n",
    "print(f\"{list_1} \\n {list_1[0]}\")"
   ]
  },
  {
   "cell_type": "code",
   "execution_count": 149,
   "id": "f7f9b04f",
   "metadata": {},
   "outputs": [
    {
     "name": "stdout",
     "output_type": "stream",
     "text": [
      "[11, 12, 22, 25, 34, 64, 90] \n",
      " 11  90 \n",
      " 101 \n"
     ]
    }
   ],
   "source": [
    "# max + min,using bubble sort\n",
    "def prob_253(my_list):\n",
    "    for i in range(len(my_list)):\n",
    "        for j in range(0, len(my_list) - i - 1):\n",
    "            if my_list[j] > my_list[j + 1]:\n",
    "                list_element = my_list [j]\n",
    "                my_list[j] = my_list[j+1]\n",
    "                my_list[j+1] = list_element   \n",
    "list_1 = [64, 34, 25, 12, 22, 11, 90]\n",
    "prob_253(list_1)\n",
    "print(f\"{list_1} \\n {list_1[0]}  {list_1[-1]} \\n {list_1[0] + list_1[-1]} \")"
   ]
  },
  {
   "cell_type": "code",
   "execution_count": 150,
   "id": "686df59d",
   "metadata": {},
   "outputs": [
    {
     "name": "stdout",
     "output_type": "stream",
     "text": [
      "[11, 12, 22, 25, 34, 64, 90] \n",
      " 11  90 \n",
      " 990 \n"
     ]
    }
   ],
   "source": [
    "#max * min, using insertion sort \n",
    "def prob_254(my_list):\n",
    "    n = len(my_list)\n",
    "    for i in range(1, n):\n",
    "        list_element = my_list[i]\n",
    "        j = i - 1\n",
    "        while j >= 0 and my_list[j] > list_element:\n",
    "            my_list[j + 1] = my_list[j]\n",
    "            j -= 1\n",
    "        my_list[j + 1] = list_element\n",
    "list_1 = [64, 34, 25, 12, 22, 11, 90]\n",
    "prob_254(list_1)\n",
    "print(f\"{list_1} \\n {list_1[0]}  {list_1[-1]} \\n {list_1[0] * list_1[-1]} \")"
   ]
  },
  {
   "cell_type": "code",
   "execution_count": 163,
   "id": "b4897c5e",
   "metadata": {},
   "outputs": [
    {
     "data": {
      "text/plain": [
       "(90, 3, 93)"
      ]
     },
     "execution_count": 163,
     "metadata": {},
     "output_type": "execute_result"
    }
   ],
   "source": [
    "def prob_255(my_list):\n",
    "    max_element = my_list[0]\n",
    "    max_index = 0\n",
    "    for i in range(1, len(my_list)):\n",
    "        if my_list[i] > max_element:\n",
    "            max_element = my_list[i]\n",
    "            max_index = i\n",
    "    return max_element, max_index, max_element + max_index\n",
    "list_1 = [64, 34, 25, 90, 12, 22, 11]\n",
    "prob_255(list_1)"
   ]
  },
  {
   "cell_type": "code",
   "execution_count": 165,
   "id": "342da22a",
   "metadata": {},
   "outputs": [
    {
     "data": {
      "text/plain": [
       "(11, 6, 17)"
      ]
     },
     "execution_count": 165,
     "metadata": {},
     "output_type": "execute_result"
    }
   ],
   "source": [
    "def prob_256(my_list):\n",
    "    min_element = my_list[0]\n",
    "    min_index = 0\n",
    "    for i in range(1, len(my_list)):\n",
    "        if my_list[i] < min_element:\n",
    "            min_element = my_list[i]\n",
    "            min_index = i\n",
    "    return min_element, min_index, min_element + min_index\n",
    "list_1 = [64, 34, 25, 90, 12, 22, 11]\n",
    "prob_256(list_1)"
   ]
  },
  {
   "cell_type": "code",
   "execution_count": 171,
   "id": "753dd568",
   "metadata": {},
   "outputs": [
    {
     "data": {
      "text/plain": [
       "3"
      ]
     },
     "execution_count": 171,
     "metadata": {},
     "output_type": "execute_result"
    }
   ],
   "source": [
    "def prob_257(my_list):\n",
    "    max_element = my_list[0]\n",
    "    max_index = 0\n",
    "    for i in range(1, len(my_list)):\n",
    "        if my_list[i] > max_element:\n",
    "            max_element = my_list[i]\n",
    "            max_index = i\n",
    "    return max_index\n",
    "list_1 = [64, 34, 25, 90, 12, 90, 22, 11, 90]\n",
    "prob_257(list_1)"
   ]
  },
  {
   "cell_type": "code",
   "execution_count": 170,
   "id": "f2e01a07",
   "metadata": {},
   "outputs": [
    {
     "data": {
      "text/plain": [
       "8"
      ]
     },
     "execution_count": 170,
     "metadata": {},
     "output_type": "execute_result"
    }
   ],
   "source": [
    "def prob_258(my_list):\n",
    "    max_element = my_list[0]\n",
    "    max_index = 0\n",
    "    for i in range(1, len(my_list)):\n",
    "        if my_list[i] >= max_element:\n",
    "            max_element = my_list[i]\n",
    "            max_index = i\n",
    "    return max_index\n",
    "list_1 = [64, 34, 25, 90, 12, 90, 22, 11, 90]\n",
    "prob_258(list_1)"
   ]
  },
  {
   "cell_type": "code",
   "execution_count": 173,
   "id": "18b50dc8",
   "metadata": {},
   "outputs": [
    {
     "data": {
      "text/plain": [
       "2"
      ]
     },
     "execution_count": 173,
     "metadata": {},
     "output_type": "execute_result"
    }
   ],
   "source": [
    "def prob_259(my_list):\n",
    "    min_element = my_list[0]\n",
    "    min_index = 0\n",
    "    for i in range(1, len(my_list)):\n",
    "        if my_list[i] < min_element:\n",
    "            min_element = my_list[i]\n",
    "            min_index = i\n",
    "    return min_index\n",
    "list_1 = [64, 34, 11, 25, 11, 90, 12, 90, 22, 11, 90]\n",
    "prob_259(list_1)"
   ]
  },
  {
   "cell_type": "code",
   "execution_count": 175,
   "id": "6d2f063b",
   "metadata": {},
   "outputs": [
    {
     "data": {
      "text/plain": [
       "10"
      ]
     },
     "execution_count": 175,
     "metadata": {},
     "output_type": "execute_result"
    }
   ],
   "source": [
    "def prob_260(my_list):\n",
    "    min_element = my_list[0]\n",
    "    min_index = 0\n",
    "    for i in range(1, len(my_list)):\n",
    "        if my_list[i] <= min_element:\n",
    "            min_element = my_list[i]\n",
    "            min_index = i\n",
    "    return min_index\n",
    "list_1 = [64, 34, 11, 25, 11, 12, 90, 12, 90, 22, 11, 90]\n",
    "prob_260(list_1)"
   ]
  },
  {
   "cell_type": "code",
   "execution_count": 4,
   "id": "fd0cf1e2",
   "metadata": {},
   "outputs": [
    {
     "data": {
      "text/plain": [
       "16.0"
      ]
     },
     "execution_count": 4,
     "metadata": {},
     "output_type": "execute_result"
    }
   ],
   "source": [
    "def prob_261(my_list1, my_list2):\n",
    "    num_1 = [n for n in my_list1] \n",
    "    num_2 = [n for n in my_list2] \n",
    "    average_1 = sum(num_1) / len(num_1)\n",
    "    average_2 = sum(num_2) / len(num_2)\n",
    "    return average_1 * average_2\n",
    "list_1 = [5, 4, 6, 9, 8]\n",
    "list_2 = [5, -2, 3, 4]\n",
    "prob_261(list_1, list_2)"
   ]
  },
  {
   "cell_type": "code",
   "execution_count": 8,
   "id": "d2d639f8",
   "metadata": {},
   "outputs": [
    {
     "data": {
      "text/plain": [
       "11.202054786747158"
      ]
     },
     "execution_count": 8,
     "metadata": {},
     "output_type": "execute_result"
    }
   ],
   "source": [
    "def prob_262(my_list1, my_list2):\n",
    "    num_1 = [n ** 2 for n in my_list1] \n",
    "    num_2 = [n ** 2 for n in my_list2] \n",
    "    mean_1 = (sum(num_1) / len(num_1)) ** 0.5\n",
    "    mean_2 = (sum(num_2) / len(num_2)) ** 0.5\n",
    "    return mean_1 + mean_2\n",
    "list_1 = [5, 4, 6, 9, 8]\n",
    "list_2 = [5, -2, 3, 4, 7]\n",
    "prob_262(list_1, list_2)"
   ]
  }
 ],
 "metadata": {
  "kernelspec": {
   "display_name": "Python 3 (ipykernel)",
   "language": "python",
   "name": "python3"
  },
  "language_info": {
   "codemirror_mode": {
    "name": "ipython",
    "version": 3
   },
   "file_extension": ".py",
   "mimetype": "text/x-python",
   "name": "python",
   "nbconvert_exporter": "python",
   "pygments_lexer": "ipython3",
   "version": "3.10.12"
  }
 },
 "nbformat": 4,
 "nbformat_minor": 5
}
