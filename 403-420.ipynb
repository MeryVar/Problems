{
 "cells": [
  {
   "cell_type": "code",
   "execution_count": 5,
   "id": "cba63d2c",
   "metadata": {},
   "outputs": [
    {
     "data": {
      "text/plain": [
       "22"
      ]
     },
     "execution_count": 5,
     "metadata": {},
     "output_type": "execute_result"
    }
   ],
   "source": [
    "def prob_403(list1):\n",
    "    x = list1.index(min(list1))\n",
    "    y = len(list1) - 1 - list1[::-1].index(min(list1))\n",
    "    if x > y:\n",
    "        x, y = y, x\n",
    "    if x + 1 == y:\n",
    "        return min(list1)\n",
    "    return sum(list1[x+1:y])\n",
    "\n",
    "list1 = [2, 18, 4, 2, 15, 6, 3, 4, 7]\n",
    "prob_403(list1)    "
   ]
  },
  {
   "cell_type": "code",
   "execution_count": 7,
   "id": "df0682b2",
   "metadata": {},
   "outputs": [
    {
     "data": {
      "text/plain": [
       "4"
      ]
     },
     "execution_count": 7,
     "metadata": {},
     "output_type": "execute_result"
    }
   ],
   "source": [
    "def prob_404(list1):\n",
    "    return list1.count(min(list1))\n",
    "\n",
    "list1 = [2, 18, 4, 2, 15, 6, 2, 3, 2, 4, 7]\n",
    "prob_404(list1)"
   ]
  },
  {
   "cell_type": "code",
   "execution_count": 19,
   "id": "620e815e",
   "metadata": {},
   "outputs": [
    {
     "name": "stdout",
     "output_type": "stream",
     "text": [
      "[7, 15, 18]\n"
     ]
    }
   ],
   "source": [
    "def prob_405(list1):\n",
    "    return sorted(sorted(list1, reverse=True)[:3])\n",
    "\n",
    "list1 = [2, 18, 4, 2, 15, 6, 2, 3, 2, 4, 7]\n",
    "prob_405(list1)"
   ]
  },
  {
   "cell_type": "code",
   "execution_count": 23,
   "id": "0f452eb1",
   "metadata": {},
   "outputs": [
    {
     "name": "stdout",
     "output_type": "stream",
     "text": [
      "94\n"
     ]
    }
   ],
   "source": [
    "def prob_406(list1):\n",
    "    max_sum = 0\n",
    "    max_num = 0\n",
    "    for num in list1:\n",
    "        digit_sum = sum(int(digit) for digit in str(num))\n",
    "        if digit_sum > max_sum:\n",
    "            max_sum = digit_sum\n",
    "            max_num = num\n",
    "    return max_num\n",
    "\n",
    "list1 = [23, 8, 144, 12, 15, 82, 94]\n",
    "prob_406(list1)"
   ]
  },
  {
   "cell_type": "code",
   "execution_count": 28,
   "id": "f50998a8",
   "metadata": {},
   "outputs": [
    {
     "data": {
      "text/plain": [
       "2"
      ]
     },
     "execution_count": 28,
     "metadata": {},
     "output_type": "execute_result"
    }
   ],
   "source": [
    "def prob_407(list1):\n",
    "    d = list1[1] - list1[0]\n",
    "    for i in range(2, len(list1)):\n",
    "        if list1[i] - list1[i-1] != d:\n",
    "            return 0\n",
    "    return d\n",
    "\n",
    "list1 = [2, 4, 6, 8, 10, 12]\n",
    "prob_407(list1)"
   ]
  },
  {
   "cell_type": "code",
   "execution_count": 33,
   "id": "40453868",
   "metadata": {},
   "outputs": [
    {
     "name": "stdout",
     "output_type": "stream",
     "text": [
      "2.0\n"
     ]
    }
   ],
   "source": [
    "def prob_408(list1):\n",
    "    if 0 in list1:\n",
    "        return 1\n",
    "    q = list1[1] / list1[0]\n",
    "    for i in range(2, len(list1)):\n",
    "        if list1[i] / list1[i-1] != q:\n",
    "            return 1\n",
    "    return q\n",
    "\n",
    "list1 = [2, 4, 8, 16, 32, 64]\n",
    "prob_408(list1)"
   ]
  },
  {
   "cell_type": "code",
   "execution_count": 36,
   "id": "fcb14af5",
   "metadata": {},
   "outputs": [
    {
     "name": "stdout",
     "output_type": "stream",
     "text": [
      "11\n"
     ]
    }
   ],
   "source": [
    "def prob_409(list1):\n",
    "    def is_prime(num):\n",
    "        if num < 2:\n",
    "            return False\n",
    "        for i in range(2, int(num ** 0.5) + 1):\n",
    "            if num % i == 0:\n",
    "                return False\n",
    "        return True\n",
    "    primes = [num for num in list1 if is_prime(num)]\n",
    "    \n",
    "    if primes:\n",
    "        return max(primes)\n",
    "    else:\n",
    "        return 'NO'\n",
    "\n",
    "list1 = [2, 3, 5, 8, 11, 21, 7, 8]\n",
    "prob_409(list1)"
   ]
  },
  {
   "cell_type": "code",
   "execution_count": 44,
   "id": "1f076970",
   "metadata": {},
   "outputs": [
    {
     "name": "stdout",
     "output_type": "stream",
     "text": [
      "[(1, 4), (5, 6), (7, 8)]\n"
     ]
    },
    {
     "data": {
      "text/plain": [
       "3"
      ]
     },
     "execution_count": 44,
     "metadata": {},
     "output_type": "execute_result"
    }
   ],
   "source": [
    "def prob_410(list1):\n",
    "    intervals = []\n",
    "    start = 0\n",
    "    end = 0\n",
    "    count = 0\n",
    "\n",
    "    for i in range(1, len(list1)):\n",
    "        if list1[i] >= list1[i-1]:\n",
    "            end = i\n",
    "        else:\n",
    "            if start != end:\n",
    "                intervals.append((start, end))\n",
    "                count += 1\n",
    "            start = i\n",
    "            end = i\n",
    "\n",
    "    if start != end:\n",
    "        intervals.append((start, end))\n",
    "        count += 1\n",
    "        print(intervals)\n",
    "    return count\n",
    "\n",
    "list1 = [-4, -5, 6, 10, 11, 4, 7, 2, 3]\n",
    "prob_410(list1)"
   ]
  },
  {
   "cell_type": "code",
   "execution_count": 46,
   "id": "33f1d798",
   "metadata": {},
   "outputs": [
    {
     "name": "stdout",
     "output_type": "stream",
     "text": [
      "6\n"
     ]
    }
   ],
   "source": [
    "def prob_412(list1):\n",
    "    count = sum(list1.count(num) == 1 for num in list1)\n",
    "    return count\n",
    "\n",
    "list1 = [-4, -4, -5, 6, 6, 10, 10, 11, 4, 7, 2, 3]\n",
    "prob_412(list1)"
   ]
  },
  {
   "cell_type": "code",
   "execution_count": 48,
   "id": "9bcd488c",
   "metadata": {},
   "outputs": [
    {
     "name": "stdout",
     "output_type": "stream",
     "text": [
      "3\n"
     ]
    }
   ],
   "source": [
    "def prob_413(list1):\n",
    "    count = sum(list1.count(num) == 2 for num in list1) // 2\n",
    "    return count\n",
    "\n",
    "list1 = [-4, -5, 6, 10, 11, 11, 4, 4, 7, 7, 2, 3]\n",
    "prob_413(list1)"
   ]
  },
  {
   "cell_type": "code",
   "execution_count": 54,
   "id": "cda115ac",
   "metadata": {},
   "outputs": [
    {
     "data": {
      "text/plain": [
       "1"
      ]
     },
     "execution_count": 54,
     "metadata": {},
     "output_type": "execute_result"
    }
   ],
   "source": [
    "def prob_414(N, list1):\n",
    "    list2 = set(range(1, N+1)) \n",
    "    in_list2_not_in_list1 = list2 - set(list1)\n",
    "    return int(len(in_list2_not_in_list1) == 0)\n",
    "\n",
    "list1 = [1, 2, 3, 4, 5, 6]\n",
    "prob_414(len(list1), list1)"
   ]
  },
  {
   "cell_type": "code",
   "execution_count": 59,
   "id": "ca6d71b0",
   "metadata": {},
   "outputs": [
    {
     "data": {
      "text/plain": [
       "[1, 2, 3, 8, 10, 14]"
      ]
     },
     "execution_count": 59,
     "metadata": {},
     "output_type": "execute_result"
    }
   ],
   "source": [
    "def prob_415(list1):\n",
    "    first_element = list1.pop(0)\n",
    "    list1.append(first_element)\n",
    "    return list1\n",
    "\n",
    "list1 = [14, 1, 2, 3, 8, 10]\n",
    "prob_415(list1)"
   ]
  },
  {
   "cell_type": "code",
   "execution_count": 57,
   "id": "c6997db4",
   "metadata": {},
   "outputs": [
    {
     "data": {
      "text/plain": [
       "[4, 3, 2, 1, -1, -8, -9]"
      ]
     },
     "execution_count": 57,
     "metadata": {},
     "output_type": "execute_result"
    }
   ],
   "source": [
    "def prob_416(list1):\n",
    "    return sorted(list1, reverse=True)\n",
    "    \n",
    "list1 = [4, 3, 2, 1, -8, -9, -1]\n",
    "prob_416(list1)"
   ]
  },
  {
   "cell_type": "code",
   "execution_count": 61,
   "id": "e9c5b683",
   "metadata": {},
   "outputs": [
    {
     "name": "stdout",
     "output_type": "stream",
     "text": [
      "[3, 2, 1, -8, -9, -1]\n"
     ]
    }
   ],
   "source": [
    "def prob_417(list1):\n",
    "    list1.remove(max(list1))\n",
    "    return list1\n",
    "\n",
    "list1 = [4, 3, 2, 1, -8, -9, -1]\n",
    "prob_417(list1)"
   ]
  },
  {
   "cell_type": "code",
   "execution_count": 66,
   "id": "50377fcf",
   "metadata": {},
   "outputs": [
    {
     "name": "stdout",
     "output_type": "stream",
     "text": [
      "[1, 3, 5]\n"
     ]
    }
   ],
   "source": [
    "def prob_419(list1):\n",
    "    return [num for num in list1 if list1.count(num) < 2]\n",
    "\n",
    "list1 = [1, 2, 2, 3, 4, 4, 4, 5]\n",
    "prob_419(list1)"
   ]
  },
  {
   "cell_type": "code",
   "execution_count": 69,
   "id": "eec27695",
   "metadata": {},
   "outputs": [
    {
     "data": {
      "text/plain": [
       "[1, 3, 5]"
      ]
     },
     "execution_count": 69,
     "metadata": {},
     "output_type": "execute_result"
    }
   ],
   "source": [
    "def prob_420(list1):\n",
    "    return [num for num in list1 if list1.count(num) != 4]\n",
    "\n",
    "list1 = [1, 2, 2, 2, 2, 3, 4, 4, 4, 4, 5]\n",
    "prob_420(list1)"
   ]
  }
 ],
 "metadata": {
  "kernelspec": {
   "display_name": "Python 3 (ipykernel)",
   "language": "python",
   "name": "python3"
  },
  "language_info": {
   "codemirror_mode": {
    "name": "ipython",
    "version": 3
   },
   "file_extension": ".py",
   "mimetype": "text/x-python",
   "name": "python",
   "nbconvert_exporter": "python",
   "pygments_lexer": "ipython3",
   "version": "3.10.12"
  }
 },
 "nbformat": 4,
 "nbformat_minor": 5
}
