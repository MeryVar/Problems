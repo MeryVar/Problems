{
 "cells": [
  {
   "cell_type": "code",
   "execution_count": 1,
   "id": "7b3100da",
   "metadata": {},
   "outputs": [
    {
     "data": {
      "text/plain": [
       "6"
      ]
     },
     "execution_count": 1,
     "metadata": {},
     "output_type": "execute_result"
    }
   ],
   "source": [
    "#if we give the natural number\n",
    "def prob_358(input_list, natural_num):\n",
    "    num_index = 0  \n",
    "    min_diff = abs(input_list[0] - natural_num) \n",
    "    for i in range(1, len(input_list)):\n",
    "        diff = abs(input_list[i] - natural_num)\n",
    "        if diff < min_diff:\n",
    "            min_diff = diff\n",
    "            closest_index = i\n",
    "    return closest_index\n",
    "input_list = [15, 22, 30, 40, 50, 60, 70, 80, 90, 100, 110, 120, 130, 140, 150, 160, 170, 180, 190, 200]\n",
    "natural_num = 75\n",
    "prob_358(input_list, natural_num)"
   ]
  },
  {
   "cell_type": "code",
   "execution_count": 2,
   "id": "2b5bd9da",
   "metadata": {},
   "outputs": [
    {
     "name": "stdout",
     "output_type": "stream",
     "text": [
      "[3, 9, 16, 25, 35, 48]\n"
     ]
    },
    {
     "data": {
      "text/plain": [
       "4"
      ]
     },
     "execution_count": 2,
     "metadata": {},
     "output_type": "execute_result"
    }
   ],
   "source": [
    "def prob_359(x, y_num):\n",
    "    for k in range(len(sorted(y_num)) - 1):  \n",
    "        if y_num[k] < x < y_num[k + 1]:  \n",
    "            print(sorted(y_num))\n",
    "            return k  \n",
    "    return \"no\"  \n",
    "y_num = [35, 3, 16, 9, 25, 48]\n",
    "prob_359(32, y_num)"
   ]
  },
  {
   "cell_type": "code",
   "execution_count": 1,
   "id": "99eae970",
   "metadata": {},
   "outputs": [
    {
     "name": "stdout",
     "output_type": "stream",
     "text": [
      "n = 6\n",
      "a1 = 3\n",
      "a2 = 45\n",
      "a3 = 6\n",
      "a4 = 78\n",
      "a5 = 63\n",
      "a6 = 5\n"
     ]
    },
    {
     "data": {
      "text/plain": [
       "83"
      ]
     },
     "execution_count": 1,
     "metadata": {},
     "output_type": "execute_result"
    }
   ],
   "source": [
    "def prob_360(numbers):\n",
    "    return sum([num for num in numbers if num % 7 == 1 or num % 7 == 2 or num % 7 == 5])\n",
    "n = int(input(\"n = \"))\n",
    "nums = [int(input(f\"a{i + 1} = \")) for i in range(n)]\n",
    "prob_360(nums)"
   ]
  },
  {
   "cell_type": "code",
   "execution_count": 3,
   "id": "f507ff84",
   "metadata": {},
   "outputs": [
    {
     "name": "stdout",
     "output_type": "stream",
     "text": [
      "m = 5\n",
      "x1 = 25\n",
      "x2 = 30\n",
      "x3 = 14\n",
      "x4 = 12\n",
      "x5 = 13\n"
     ]
    },
    {
     "data": {
      "text/plain": [
       "(55, 2)"
      ]
     },
     "execution_count": 3,
     "metadata": {},
     "output_type": "execute_result"
    }
   ],
   "source": [
    "def prob_361(numbers):\n",
    "    num_sum = sum([num for num in numbers if num % 5 == 0 and num % 7 != 0])\n",
    "    num_count = len([num for num in numbers if num % 5 == 0 and num % 7 != 0])\n",
    "    return num_sum, num_count\n",
    "m = int(input(\"m = \"))\n",
    "nums = [int(input(f\"x{i + 1} = \")) for i in range(m)]\n",
    "prob_361(nums)"
   ]
  },
  {
   "cell_type": "code",
   "execution_count": 2,
   "id": "78b50d5d",
   "metadata": {},
   "outputs": [
    {
     "data": {
      "text/plain": [
       "4"
      ]
     },
     "execution_count": 2,
     "metadata": {},
     "output_type": "execute_result"
    }
   ],
   "source": [
    "def prob_362(numbers, b):\n",
    "    num_count = len([num for num in numbers if num < b])\n",
    "    for i, num in enumerate(numbers):\n",
    "        if i == 2 ** i:\n",
    "            print(i)\n",
    "    return num_count\n",
    "numbers = [3, 7, 1, 8, 5, 4]\n",
    "prob_362(numbers, 6)"
   ]
  },
  {
   "cell_type": "code",
   "execution_count": 12,
   "id": "30b2d2a5",
   "metadata": {},
   "outputs": [
    {
     "name": "stdout",
     "output_type": "stream",
     "text": [
      "n = 16\n"
     ]
    },
    {
     "data": {
      "text/plain": [
       "[16, 32, 48, 64, 80, 96]"
      ]
     },
     "execution_count": 12,
     "metadata": {},
     "output_type": "execute_result"
    }
   ],
   "source": [
    "def prob_363(n):\n",
    "    if n < 10:\n",
    "        return \"n >= 10\"\n",
    "    numbers = [num for num in range(1, 101) if num % n == 0]\n",
    "    return numbers\n",
    "n = int(input(\"n = \"))\n",
    "prob_363(n)"
   ]
  },
  {
   "cell_type": "code",
   "execution_count": 18,
   "id": "9c429d67",
   "metadata": {},
   "outputs": [
    {
     "name": "stdout",
     "output_type": "stream",
     "text": [
      "n = 6\n",
      "a1 = 4\n",
      "a2 = 2\n",
      "a3 = 3\n",
      "a4 = 1\n",
      "a5 = 4\n",
      "a6 = 7\n",
      "NO\n"
     ]
    }
   ],
   "source": [
    "def prob_364(numbers):\n",
    "    n = len(numbers)\n",
    "    for i in range(n - 1):\n",
    "        if (i + 2) * numbers[i] >= (i + 3) * numbers[i + 1]:\n",
    "            return \"NO\"\n",
    "    return \"YES\"\n",
    "n = int(input(\"n = \"))\n",
    "nums = [int(input(f\"a{i + 1} = \")) for i in range(n)]\n",
    "result = prob_364(nums)\n",
    "print(result)\n"
   ]
  }
 ],
 "metadata": {
  "kernelspec": {
   "display_name": "Python 3 (ipykernel)",
   "language": "python",
   "name": "python3"
  },
  "language_info": {
   "codemirror_mode": {
    "name": "ipython",
    "version": 3
   },
   "file_extension": ".py",
   "mimetype": "text/x-python",
   "name": "python",
   "nbconvert_exporter": "python",
   "pygments_lexer": "ipython3",
   "version": "3.10.12"
  }
 },
 "nbformat": 4,
 "nbformat_minor": 5
}
