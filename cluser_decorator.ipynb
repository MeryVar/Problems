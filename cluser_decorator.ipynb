{
 "cells": [
  {
   "cell_type": "code",
   "execution_count": 37,
   "id": "048e143b",
   "metadata": {},
   "outputs": [
    {
     "data": {
      "text/plain": [
       "{'add': 1, 'mul': 1}"
      ]
     },
     "execution_count": 37,
     "metadata": {},
     "output_type": "execute_result"
    }
   ],
   "source": [
    "# decorator\n",
    "\n",
    "def outer(func):\n",
    "    count = 0\n",
    "    def inner(*args, **kwargs):\n",
    "        nonlocal count\n",
    "        count += 1\n",
    "        d[func.__name__] = count\n",
    "        return func(*args, **kwargs)\n",
    "    return inner\n",
    "\n",
    "@outer\n",
    "def add(a, b):\n",
    "    return a + b\n",
    "@outer\n",
    "def mul(a, b):\n",
    "    return a * b\n",
    "d = {}\n",
    "\n",
    "\n",
    "# cl_add = outer(add)\n",
    "# cl_mul = outer(mul)\n",
    "# cl_add(1,2)\n",
    "# cl_mul(1,2)\n",
    "# cl_mul(1,2)\n",
    "# cl_mul_2 = outer(mul)\n",
    "# cl_mul_2(4,5)\n",
    "add(1,3)\n",
    "mul(1,3)\n",
    "d"
   ]
  },
  {
   "cell_type": "code",
   "execution_count": 36,
   "id": "4eeb5ce2",
   "metadata": {},
   "outputs": [
    {
     "data": {
      "text/plain": [
       "{'add': 1, 'mul': 1}"
      ]
     },
     "execution_count": 36,
     "metadata": {},
     "output_type": "execute_result"
    }
   ],
   "source": [
    "# cluser\n",
    "\n",
    "def add(a, b):\n",
    "    return a + b\n",
    "\n",
    "def mul(a, b):\n",
    "    return a * b\n",
    "d = {}\n",
    "def outer(func):\n",
    "    count = 0\n",
    "    def inner(*args, **kwargs):\n",
    "        nonlocal count\n",
    "        count += 1\n",
    "        d[func.__name__] = count\n",
    "        return func(*args, **kwargs)\n",
    "    return inner\n",
    "cl_add = outer(add)\n",
    "cl_mul = outer(mul)\n",
    "cl_add(1,2)\n",
    "cl_mul(1,2)\n",
    "cl_mul(1,2)\n",
    "cl_mul_2 = outer(mul)\n",
    "cl_mul_2(4,5)\n",
    "add(1,3)\n",
    "mul(1,3)\n",
    "d"
   ]
  },
  {
   "cell_type": "code",
   "execution_count": null,
   "id": "e645694a",
   "metadata": {},
   "outputs": [],
   "source": []
  },
  {
   "cell_type": "code",
   "execution_count": null,
   "id": "b15241f7",
   "metadata": {},
   "outputs": [],
   "source": []
  }
 ],
 "metadata": {
  "kernelspec": {
   "display_name": "Python 3 (ipykernel)",
   "language": "python",
   "name": "python3"
  },
  "language_info": {
   "codemirror_mode": {
    "name": "ipython",
    "version": 3
   },
   "file_extension": ".py",
   "mimetype": "text/x-python",
   "name": "python",
   "nbconvert_exporter": "python",
   "pygments_lexer": "ipython3",
   "version": "3.10.12"
  }
 },
 "nbformat": 4,
 "nbformat_minor": 5
}
